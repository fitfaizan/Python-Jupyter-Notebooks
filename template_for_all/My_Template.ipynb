{
 "cells": [
  {
   "cell_type": "markdown",
   "metadata": {},
   "source": [
    "![Cover Photo](image.jpg)"
   ]
  },
  {
   "cell_type": "markdown",
   "metadata": {},
   "source": [
    "# **1.0 About Author**\n",
    "- **Project:** Data Set ka Naam jo Kaggle pe ho\n",
    "- **Author:** Faizan Ahmad\n",
    "- **Code Submission Date:** Jis date pe code upload kro\n",
    "  \n",
    "**Author's Contact Info:**\n",
    "[Email](ma143faizan@gmail.com),\n",
    "[Github](https://github.com/fitfaizan),\n",
    "[Kaggle](https://www.kaggle.com/virtualcrush),\n",
    "[Linkedin](https://www.linkedin.com/in/fitfaizan)"
   ]
  },
  {
   "cell_type": "markdown",
   "metadata": {},
   "source": [
    "# **2.0 About Data**\n",
    "- **Data:** Apple AppStore\n",
    "- **Data Age:** The data was collected in the month of October 2021.\n",
    "- **Dataset:** 🔗 [*link*](https://www.kaggle.com/datasets/gauthamp10/apple-appstore-apps)"
   ]
  },
  {
   "cell_type": "markdown",
   "metadata": {},
   "source": [
    "## **2.1 Task:**\n",
    "We intend to conduct an Exploratory Data Analysis (EDA) on the given dataset. The EDA will serve as the basis for the necessary Data Wrangling activities to be carried out for the purposes of data cleaning and normalization. During the coding process, we will document our observations. Ultimately, we will produce a summary and draw conclusions from our findings\n",
    "\n",
    "## **2.2 Objectives:**\n",
    "The primary aim of this project is to conduct a thorough analysis of the dataset to identify significant insights. The ultimate goal is to project and emphasize customer dynamics and demands to developers and other relevant stakeholders. This will assist in driving more business towards their upcoming applications.\n",
    "\n",
    "## **2.3 Kernel Version Used:**\n",
    "- Python 3.11.1"
   ]
  },
  {
   "cell_type": "markdown",
   "metadata": {},
   "source": [
    "# **3.0 *Import Libraries***\n",
    "- We will use the follwoing libraries\n",
    "    1. Pandas: Data manipulation and analysis library.\n",
    "    2. Numpy: Numerical computing library.\n",
    "    3. Matplotlib: Data visualization library.\n",
    "    4. Seaborn: Statistical data visualization library.\n",
    "    5. Scipy:  To provide a comprehensive set of numerical algorithms and tools for scientific computing in Python.\n"
   ]
  },
  {
   "cell_type": "code",
   "execution_count": 9,
   "metadata": {},
   "outputs": [],
   "source": [
    "# import pandas as pd\n",
    "# import numpy as np\n",
    "\n",
    "# # visualization libraries\n",
    "# import matplotlib.pyplot as plt\n",
    "# import seaborn as sns\n",
    "# %matplotlib inline\n",
    "# # for scientific and statistical computing\n",
    "# import scipy as sp"
   ]
  },
  {
   "cell_type": "markdown",
   "metadata": {},
   "source": [
    "# **4.0  Data Loading, Exploration & Wrangling**"
   ]
  },
  {
   "cell_type": "markdown",
   "metadata": {},
   "source": [
    "## **4.1 Load the csv file with the pandas:**"
   ]
  },
  {
   "cell_type": "code",
   "execution_count": null,
   "metadata": {},
   "outputs": [],
   "source": []
  },
  {
   "cell_type": "markdown",
   "metadata": {},
   "source": [
    "## **4.2 Creating the dataframe and understanding the data present in the dataset. (Getting a sneak peek of data):** \n",
    "With just a few lines of code! Quickly view the top and bottom rows of dataset to get a sense of what you're working with, without having to scroll through the entire file."
   ]
  },
  {
   "cell_type": "code",
   "execution_count": 10,
   "metadata": {},
   "outputs": [],
   "source": [
    "# df.head()\n",
    "# df.tail()"
   ]
  },
  {
   "cell_type": "markdown",
   "metadata": {},
   "source": [
    "## **4.3 Analyzing & describing the dataset:**\n",
    "This code snippet helps us get a complete overview of the data by adjusting a key display setting in Pandas. By setting the option to show all columns, we can ensure that no valuable information is overlooked when working with dataframes. Whether exploring data, conducting analyses or simply trying to get a better sense of it, this simple line of code can make a big difference."
   ]
  },
  {
   "cell_type": "code",
   "execution_count": 11,
   "metadata": {},
   "outputs": [],
   "source": [
    "# pd.set_option('display.max_columns', None)\n",
    "# pd.set_option('display.max_rows', None)"
   ]
  },
  {
   "cell_type": "markdown",
   "metadata": {},
   "source": [
    "## **4.4 View the `.info()` of data:**\n",
    "This code snippet provides a quick summary of the DataFrame, including the number of non-null entries in each column, the data type of each column, and the memory usage of the DataFrame. Using the `.info()` method is essential for getting a concise overview of the dataset, helping us identify missing values, understand the structure of data, and prepare for further data cleaning and analysis tasks."
   ]
  },
  {
   "cell_type": "code",
   "execution_count": 12,
   "metadata": {},
   "outputs": [],
   "source": [
    "# df.info()\n",
    "# df.shape\n",
    "# df.columns"
   ]
  },
  {
   "cell_type": "markdown",
   "metadata": {},
   "source": [
    "### **Observation Set 1:**\n",
    "> Attributes Released, Updated are date & time data type in UTC format.\n",
    "\n",
    "- The T doesn’t really stand for anything. It is just the separator that the ISO 8601 combined date-time format requires. \n",
    "- You can read it as an abbreviation for Time. The Z stands for the Zero timezone, as it is offset by 0 from the Coordinated Universal Time (UTC).\n",
    "\n",
    "> Column Names Are:\n",
    "\n",
    "*'App_Id' 'App_Name' 'AppStore_Url' 'Primary_Genre' 'Content_Rating'\n",
    " 'Size_Bytes' 'Required_IOS_Version' 'Released' 'Updated' 'Version'\n",
    " 'Price' 'Currency' 'Free' 'DeveloperId' 'Developer' 'Developer_Url'\n",
    " 'Developer_Website' 'Average_User_Rating' 'Reviews'\n",
    " 'Current_Version_Score' 'Current_Version_Reviews'*"
   ]
  },
  {
   "cell_type": "markdown",
   "metadata": {},
   "source": [
    "## **4.5 Descriptive Statistics:**\n",
    "We use descriptive statistics to summarize and understand the key features of dataset."
   ]
  },
  {
   "cell_type": "code",
   "execution_count": 13,
   "metadata": {},
   "outputs": [],
   "source": [
    "# df.describe()\n",
    "# df.describe(include='all')"
   ]
  },
  {
   "cell_type": "markdown",
   "metadata": {},
   "source": [
    "### **Observation Set 2:**\n",
    "1. We have 7 numeric columns in the original dataset\n",
    "2. Column Size_bytes contains data in Bytes. --> We will add one column to hold the size_bytes data in MB format"
   ]
  },
  {
   "cell_type": "code",
   "execution_count": null,
   "metadata": {},
   "outputs": [],
   "source": []
  },
  {
   "cell_type": "markdown",
   "metadata": {},
   "source": [
    "## **4.6 Missing values in the data:**"
   ]
  },
  {
   "cell_type": "code",
   "execution_count": 14,
   "metadata": {},
   "outputs": [],
   "source": [
    "# df.isnull().sum().sort_values(ascending=False)"
   ]
  },
  {
   "cell_type": "code",
   "execution_count": null,
   "metadata": {},
   "outputs": [],
   "source": []
  },
  {
   "cell_type": "markdown",
   "metadata": {},
   "source": [
    "# **5.0 Exploratory Analysis and Visualization**"
   ]
  },
  {
   "cell_type": "code",
   "execution_count": 15,
   "metadata": {},
   "outputs": [],
   "source": [
    "# plt.rcParams['figure.figsize'] = (15,6)\n",
    "# sns.heatmap(df.isnull(),yticklabels = False, cbar = False , cmap = 'viridis')\n",
    "# plt.title(\"Missing null values\")"
   ]
  },
  {
   "cell_type": "markdown",
   "metadata": {},
   "source": [
    "> **Figure-1:** Provide us the visual on the missing values in a dataframe 'df'"
   ]
  },
  {
   "cell_type": "markdown",
   "metadata": {},
   "source": [
    "#### Get a clearer picture of missing data with this nifty code snippet! See the percentage of null values in your dataset sorted in ascending order, making it easy to identify which features have the most missing data."
   ]
  },
  {
   "cell_type": "code",
   "execution_count": 16,
   "metadata": {},
   "outputs": [],
   "source": [
    "# #df.isnull().sum()/len(df)*100\n",
    "# missing_percentage = (df.isnull().sum().sort_values(ascending = False)/len(df))*100\n",
    "# missing_percentage"
   ]
  },
  {
   "cell_type": "code",
   "execution_count": null,
   "metadata": {},
   "outputs": [],
   "source": []
  },
  {
   "cell_type": "code",
   "execution_count": null,
   "metadata": {},
   "outputs": [],
   "source": []
  },
  {
   "cell_type": "code",
   "execution_count": null,
   "metadata": {},
   "outputs": [],
   "source": []
  },
  {
   "cell_type": "markdown",
   "metadata": {},
   "source": [
    "### Milestone 1: We have cleaned the dataset from null values 🙂\n",
    "\n",
    "> Next, Find duplications and Analyse them if its a valid DUPLICATION"
   ]
  },
  {
   "cell_type": "code",
   "execution_count": null,
   "metadata": {},
   "outputs": [],
   "source": []
  },
  {
   "cell_type": "code",
   "execution_count": null,
   "metadata": {},
   "outputs": [],
   "source": []
  },
  {
   "cell_type": "markdown",
   "metadata": {},
   "source": [
    "### Milestone 2: *Hence no duplicates found* 👥\n",
    "\n",
    "Although App_name may have duplications, the records are unique as a whole, with varying versions, AppIds, and release dates."
   ]
  },
  {
   "cell_type": "markdown",
   "metadata": {},
   "source": []
  },
  {
   "cell_type": "markdown",
   "metadata": {},
   "source": []
  },
  {
   "cell_type": "markdown",
   "metadata": {},
   "source": [
    "# **6.0 Question and Aswers:**           \n",
    "> We are going to pose following questions against the dataset:\n",
    "\n",
    "1. What are the top 10 Categories that are installed from the Apple Store?\n",
    "2. What are the  highest top 10 rated primary_genre based on  Average_User_Rating\n",
    "3. Which Primary_Genre has the highest count of Paid and Free apps?\n",
    "4. What are the Top 5 Paid Apps based with highest ratings?\n",
    "5. What are the Top 5 Free Apps based With highest ratings?\n",
    "6. Apps with highest content rating\n",
    "7. Years in which max apps were released\n",
    "8. Size in MBs Vs Price of App\n",
    "9. Top 10 app producing developer\n",
    "10. What type of Genre attracted what kind of clintele in terms of revenues?\n",
    "11. YoY (Year on Year) comparison of apps per Content_Rating\n",
    "12. User Rating vs Price\n",
    "13. User Rating vs MBytes\n",
    "14. Year on Year break down of top-5 Genre based on App Price\n",
    "15. IOS Versions Vs Count of app\n",
    "16. Interdependency of numeric attributes on each other"
   ]
  },
  {
   "cell_type": "code",
   "execution_count": null,
   "metadata": {},
   "outputs": [],
   "source": []
  },
  {
   "cell_type": "code",
   "execution_count": null,
   "metadata": {},
   "outputs": [],
   "source": []
  },
  {
   "cell_type": "markdown",
   "metadata": {},
   "source": [
    "> **Figure-3:** Shows the Top 10 Categories that are installed from the Apple Store \n",
    "- Answer 1: Gaming Apps are the most downloaded apps from the store"
   ]
  },
  {
   "cell_type": "code",
   "execution_count": null,
   "metadata": {},
   "outputs": [],
   "source": []
  },
  {
   "cell_type": "markdown",
   "metadata": {},
   "source": [
    "- Answer 10: \n",
    "> Few interesting points that needs further analysis and attention. What kind of apps that falls under the category of Business & Utilities and are bought by or for Children\n",
    "\n",
    "### Facts:\n",
    "- ⚠️ Caution: The content rating attribute may not always provide reliable information.\n",
    "- 🚸 Be aware: An app rated 9+ could contain inappropriate content, such as an e-book with mature themes."
   ]
  },
  {
   "cell_type": "code",
   "execution_count": null,
   "metadata": {},
   "outputs": [],
   "source": []
  },
  {
   "cell_type": "code",
   "execution_count": null,
   "metadata": {},
   "outputs": [],
   "source": []
  },
  {
   "cell_type": "code",
   "execution_count": null,
   "metadata": {},
   "outputs": [],
   "source": []
  },
  {
   "cell_type": "code",
   "execution_count": null,
   "metadata": {},
   "outputs": [],
   "source": []
  },
  {
   "cell_type": "code",
   "execution_count": null,
   "metadata": {},
   "outputs": [],
   "source": []
  },
  {
   "cell_type": "markdown",
   "metadata": {},
   "source": [
    "# **7.0 Summary**\n",
    "\n",
    "The EDA exercise conducted on the Apple App Store dataset has yielded numerous interesting insights. The dataset was found to be relatively clean and consistent throughout the analysis. We posed several questions to the dataset and provided detailed answers and findings as follows:\n",
    "\n",
    "\n",
    "Q1. What are the top 10 categories with the most downloads from the Apple Store?\\\n",
    "A1: Gaming apps are the most downloaded apps from the store.\n",
    "\n",
    "Q2. What are the top 10 primary genres with the highest average user rating?\\\n",
    "A2: The highest rated primary genres based on average user rating are Weather, Games, Photo & Videos, Music, Books, and References, among others.\n",
    "\n",
    "Q3. Which primary genre has the highest count of paid and free apps?\\\n",
    "A3: The list of free apps includes Games, Business, Education, Utilities, and Lifestyle, while the list of paid apps includes Education, Games, Utilities, Stickers, and Productivity.\n",
    "\n",
    "Q4. What are the top 5 paid apps with the highest ratings?\\\n",
    "A4: The top 5 paid apps with the highest ratings are Super Nano Trucks, FarRock Dodgeball, Money Easy - Expense Tracker, Money Flow - Expense Tracker, and Sketch Ideas.\n",
    "\n",
    "Q5. What are the top 5 free apps with the highest ratings?\\\n",
    "A5: The top 5 free apps with the highest ratings are Rise of Zombie - City Defense, Dog Wheelchairs, Dog App - Breed Scanner, Dojo Login 2, and Dojo Hero.\n",
    "\n",
    "Q6. What are the apps with the highest content rating?\\\n",
    "A6: The apps with the highest content rating are for children, adults, teens, and everyone, with a breakdown based on the count of apps under each category.\n",
    "\n",
    "Q7. In which years were the most apps released?\\\n",
    "A7: The year 2020 saw the highest number of app releases, likely due to the COVID-19 pandemic and more people staying at home.\n",
    "\n",
    "Q8. How does the size of an app in MBs compare to its price?\\\n",
    "A8: We tried to find a correlation between app size and price but found that, except for a few exceptions, the size of the app is irrelevant to the price.\n",
    "\n",
    "Q9. Who are the top 10 app-producing developers?\\\n",
    "A9: The top 10 app-producing developers are ChowNow, Touch2Success, Alexander Velimirovic, MINDBODY, Incorporated, Phorest, OFFLINE MAP TRIP GUIDE LTD, Magzter Inc., ASK Video, RAPID ACCELERATION INDIA PRIVATE LIMITED, and Nonlinear Educating Inc.\n",
    "\n",
    "Q10. What types of genres attract which types of clients in terms of revenue?\\\n",
    "A10: Some interesting points need further analysis and attention, such as what kind of Business & Utilities apps are bought by or for children. It was found that the information stored in the content rating attribute is not very reliable and that there is a possibility that an app is rated for 9+ but is actually an e-book with unsuitable topics.\n",
    "\n",
    "Q11. How do app releases per content rating compare year on year?\\\n",
    "A11: Clearly, the children's category is taking the lead, but as pointed out earlier, the content rating of non-kids apps is also rated under the children's category.\n",
    "\n",
    "Q12. How does user rating compare to price?\\\n",
    "A12: The higher the user rating, the higher the price of the app.\n",
    "\n",
    "Q13. How does user rating compare to MB size?\\\n",
    "A13: The higher the user rating, the larger the size in MB of the app.\n",
    "\n",
    "Q14. How do YoY breakdowns per genre based on app price compare?\\\n",
    "A14: Educational apps contribute more revenue in terms of app sales.\n",
    "\n",
    "Q16. Interdependency of numeric attributes on each other\\\n",
    "Answer 16: Few attributes show strong dependence on each other, except for Average_User_Rating and Current_Version_Score."
   ]
  },
  {
   "cell_type": "markdown",
   "metadata": {},
   "source": [
    "---\n",
    "---"
   ]
  },
  {
   "cell_type": "markdown",
   "metadata": {},
   "source": [
    "# **8.0 Conclusion & Findings**\n",
    "\n",
    "#### The primary goal of this project is to analyze the Apple App Store dataset and identify insights based on the data. By doing so, we aim to project customer dynamics and demands to developers and relevant stakeholders, helping them generate more business for their upcoming applications.\n",
    "\n",
    "\n",
    "> During this EDA exercise, we have achieved several milestones:\n",
    "\n",
    "- We have cleaned the dataset from null values.\n",
    "- No duplications have been found. Although the app names have duplications, they are unique records with different versions, AppIds, and release dates.\n",
    "\n",
    "> Our findings include:\n",
    "\n",
    "- Gaming apps are the most downloaded apps from the store.\n",
    "- The top 10 highest rated primary genres based on average user ratings are Weather, Games, Photo & Videos, Music, and Books.\n",
    "  \n",
    "It is important to note that the information stored in the content rating attribute may not always be reliable. There is a possibility that an app rated for 9+ may contain unsuitable topics, such as e-books."
   ]
  },
  {
   "cell_type": "markdown",
   "metadata": {},
   "source": []
  }
 ],
 "metadata": {
  "kernelspec": {
   "display_name": "Python 3",
   "language": "python",
   "name": "python3"
  },
  "language_info": {
   "codemirror_mode": {
    "name": "ipython",
    "version": 3
   },
   "file_extension": ".py",
   "mimetype": "text/x-python",
   "name": "python",
   "nbconvert_exporter": "python",
   "pygments_lexer": "ipython3",
   "version": "3.11.5"
  }
 },
 "nbformat": 4,
 "nbformat_minor": 2
}
