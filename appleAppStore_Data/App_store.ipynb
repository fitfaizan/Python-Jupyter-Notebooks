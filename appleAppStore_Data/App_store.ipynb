{
 "cells": [
  {
   "cell_type": "markdown",
   "metadata": {},
   "source": [
    "# **1.0 About Author**\n",
    "- **Project:** Apple App Store - Exploratory Data Analysis\n",
    "- **Author:** Faizan Ahmad\n",
    "- **Code Submission Date:** June 27th, 2024\n",
    "  \n",
    "**Author's Contact Info:**\n",
    "[Email](ma143faizan@gmail.com),\n",
    "[Github](https://github.com/fitfaizan),\n",
    "[Kaggle](https://www.kaggle.com/virtualcrush),\n",
    "[Linkedin](https://www.linkedin.com/in/fitfaizan)"
   ]
  },
  {
   "cell_type": "markdown",
   "metadata": {},
   "source": [
    "# **2.0 About Data**\n",
    "- **Data:** Apple AppStore\n",
    "- **Data Age:** The data was collected in the month of October 2021.\n",
    "- **Dataset:** 🔗 [*link*](https://www.kaggle.com/datasets/gauthamp10/apple-appstore-apps)"
   ]
  },
  {
   "cell_type": "code",
   "execution_count": null,
   "metadata": {},
   "outputs": [],
   "source": []
  }
 ],
 "metadata": {
  "language_info": {
   "name": "python"
  }
 },
 "nbformat": 4,
 "nbformat_minor": 2
}
