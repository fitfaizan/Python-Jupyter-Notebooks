{
 "cells": [
  {
   "cell_type": "markdown",
   "id": "dd21de82",
   "metadata": {
    "papermill": {
     "duration": 0.031385,
     "end_time": "2024-01-30T19:23:15.023053",
     "exception": false,
     "start_time": "2024-01-30T19:23:14.991668",
     "status": "completed"
    },
    "tags": []
   },
   "source": [
    "# **EDA Report**\n",
    "## **1.0 About Author**\n",
    "- **Author:** Asjad Ali\n",
    "- **Project:** Apple App Store Data\n",
    "- **Code Submission Date:** 18 August, 2023\n",
    "- **Contact Links**\n",
    "\n",
    "<a href=\"https://www.facebook.com/profile.php?id=100090754004184&mibextid=ZbWKwL\">\n",
    "    <img src=\"https://raw.githubusercontent.com/FortAwesome/Font-Awesome/master/svgs/brands/facebook.svg\" alt=\"Facebook\" width=\"50\" height=\"50\">\n",
    "</a>\n",
    "<a href=\"https://twitter.com/its_a5jad?t=9NUJ8ZnDG8Hewtb3tTKkUg&s=09\">\n",
    "    <img src=\"https://raw.githubusercontent.com/FortAwesome/Font-Awesome/master/svgs/brands/twitter.svg\" alt=\"Twitter\" width=\"50\" height=\"50\">\n",
    "</a>\n",
    "<a href=\"https://instagram.com/its_a5jad?igshid=ZGUzMzM3NWJiOQ==\">\n",
    "    <img src=\"https://raw.githubusercontent.com/FortAwesome/Font-Awesome/master/svgs/brands/instagram.svg\" alt=\"Instagram\" width=\"50\" height=\"50\">\n",
    "</a>\n",
    "<a href=\"https://github.com/A5jadAli\">\n",
    "    <img src=\"https://raw.githubusercontent.com/FortAwesome/Font-Awesome/master/svgs/brands/github.svg\" alt=\"GitHub\" width=\"50\" height=\"50\">\n",
    "</a>\n",
    "<a href=\"https://www.linkedin.com/in/asjad-ali-536255260\">\n",
    "    <img src=\"https://raw.githubusercontent.com/FortAwesome/Font-Awesome/master/svgs/brands/linkedin.svg\" alt=\"Linkedin\" width=\"50\" height=\"50\">\n",
    "</a>\n",
    "<a href=\"https://www.kaggle.com/in/asjadali\">\n",
    "    <img src=\"https://raw.githubusercontent.com/FortAwesome/Font-Awesome/master/svgs/brands/kaggle.svg\" alt=\"Kaggle\" width=\"50\" height=\"50\">\n",
    "</a>"
   ]
  },
  {
   "cell_type": "code",
   "execution_count": 1,
   "id": "b3f25629",
   "metadata": {
    "execution": {
     "iopub.execute_input": "2024-01-30T19:23:15.086850Z",
     "iopub.status.busy": "2024-01-30T19:23:15.086073Z",
     "iopub.status.idle": "2024-01-30T19:23:16.170376Z",
     "shell.execute_reply": "2024-01-30T19:23:16.168534Z"
    },
    "papermill": {
     "duration": 1.121271,
     "end_time": "2024-01-30T19:23:16.173788",
     "exception": false,
     "start_time": "2024-01-30T19:23:15.052517",
     "status": "completed"
    },
    "tags": []
   },
   "outputs": [
    {
     "name": "stdout",
     "output_type": "stream",
     "text": [
      "/bin/bash: ls../Input/images: No such file or directory\r\n"
     ]
    }
   ],
   "source": [
    "from IPython.display import Image\n",
    "import os\n",
    "!ls../Input/images"
   ]
  },
  {
   "cell_type": "markdown",
   "id": "f967b090",
   "metadata": {
    "papermill": {
     "duration": 0.029168,
     "end_time": "2024-01-30T19:23:16.233808",
     "exception": false,
     "start_time": "2024-01-30T19:23:16.204640",
     "status": "completed"
    },
    "tags": []
   },
   "source": [
    "## **2.0 About Data**\n",
    "- **Data:** Apple App Store\n",
    "- **Data Age:** The data was collected in the month of October 2021.\n",
    "- **Dataset link:** Click [*here*](https://www.kaggle.com/datasets/gauthamp10/apple-appstore-apps) to access the dataset.\n",
    "\n",
    "### **Important Columns**\n",
    "\n",
    "\n",
    "In this section, we provide an overview of the important columns present in the Apple App Store dataset. These columns contain key information about the applications available on the App Store and will be the focus of our exploratory data analysis (EDA).\n",
    "\n",
    "### **2.1 Application Information:**\n",
    "We begin by examining general information about the applications in the dataset.\n",
    "\n",
    "| Column Name           | Description                                                                                            |\n",
    "|-----------------------|--------------------------------------------------------------------------------------------------------|\n",
    "| App_Id                | Unique identifier for the application.                                                                 |\n",
    "| App_Name              | The name of the application.                                                                           |\n",
    "| AppStore_Url          | URL to the application's page on the app store.                                                        |\n",
    "| Primary_Genre         | The main category or genre of the application.                                                         |\n",
    "| Content_Rating        | The age or content rating assigned to the application.                                                 |\n",
    "| Size_Bytes            | The size of the application in bytes.                                                                  |\n",
    "| Required_IOS_Version  | The minimum version of iOS required to run the application.                                            |\n",
    "| Released              | The date when the application was initially released.                                                  |\n",
    "| Updated               | The date when the application was last updated.                                                        |\n",
    "| Version               | The current version of the application.                                                                |\n",
    "| Price                 | The cost of the application.                                                                           |\n",
    "| Currency              | The currency in which the price is listed.                                                             |\n",
    "| Free                  | Indicates whether the application is free or not.                                                      |\n",
    "| DeveloperId           | Unique identifier for the developer of the application.                                                |\n",
    "| Developer             | The name of the developer of the application.                                                          |\n",
    "| Developer_Url         | URL to the developer's page on the app store.                                                          |\n",
    "| Developer_Website     | URL to the developer's official website.                                                               |\n",
    "| Average_User_Rating   | The average user rating given to the application.                                                      |\n",
    "| Reviews               | The total number of reviews for the application.                                                       | \n",
    "| Current_Version_Score | The user rating score for the current version of the application.                                      |\n",
    "| Current_Version_Reviews | The number of reviews for the current version of the application.                                    |\n",
    "\n",
    "### **2.2 Task:**\n",
    "\n",
    "We indent to conduct an Exploratory Data Analysis (EDA) on the provided dataset. This EDA will lay the groundwork for essential Data Wrangling tasks, including data cleaning and normalization. As we delve into the coding process, we will diligently record our insights and observations. Our ultimate goal is to distill our findings into a comprehensive summary and draw meaningful conclusions. This meticulous analysis will empower us to uncover valuable insights about the dataset's characteristics and trends.\n",
    "\n",
    "### **2.3 Objectives:**\n",
    "\n",
    "The objective of the Exploratory Data Analysis (EDA) on the Apple App Store dataset includes:\n",
    "\n",
    "- **Niche Identification:** Determine the most promising app niches by analyzing popular genres and categories, aiding developers in making informed decisions about their app development strategies.\n",
    "- **App Diversity:** Explore the distribution of primary genres to identify the types of apps that dominate the Apple App Store, helping developers understand market trends and competition.\n",
    "**User Preferences:** Analyze user ratings, reviews, and current version scores to uncover the types of apps that are highly favored by users, enabling developers to tailor their offerings to user preferences.\n",
    "- **Pricing Insights:** Examine the relationship between app pricing and user engagement, shedding light on the most effective pricing strategies for developers to maximize downloads and revenue.\n",
    "- **App Size Impact:** Investigate the impact of app size on user adoption and satisfaction, guiding developers in optimizing their app sizes for better user experiences.\n",
    "- **Release and Update Patterns:** Study release and update dates to identify patterns that lead to successful app launches and ongoing user engagement, assisting developers in planning effective app rollout strategies.\n",
    "- **Monetization Strategies:** Analyze free vs. paid apps, as well as in-app purchases and subscriptions, to help developers choose the most appropriate monetization model for their apps.\n",
    "- **Localization Opportunities:** Examine user ratings and reviews across different regions to identify localization opportunities, guiding developers in tailoring their apps to specific markets.\n",
    "- **Feature Preferences:** Explore user reviews to understand which features or functionalities users value the most, providing developers with insights to enhance user satisfaction.\n",
    "- **User Engagement Factors:** Investigate factors influencing high user engagement, such as regular updates, user-friendly interfaces, and responsive customer support, offering developers actionable insights for boosting app usage.\n",
    "\n",
    "### **2.4 Kernal Version Used:**\n",
    "\n",
    "- Python 3.11.4"
   ]
  },
  {
   "cell_type": "markdown",
   "id": "3664767f",
   "metadata": {
    "papermill": {
     "duration": 0.030462,
     "end_time": "2024-01-30T19:23:16.293674",
     "exception": false,
     "start_time": "2024-01-30T19:23:16.263212",
     "status": "completed"
    },
    "tags": []
   },
   "source": [
    "## **3.0 Import the Dependencies**\n",
    "We will use the following libraries during EDA:\n",
    "\n",
    "1. Pandas: Pandas simplifies data manipulation and analysis with data structures like DataFrames and Series.\n",
    "2. Numpy: Numpy provides efficient numerical computations using arrays and matrices.\n",
    "3. Matplotlib: Matplotlib offers customizable plotting for creating various types of visualizations.\n",
    "4. Seaborn: Seaborn enhances Matplotlib with attractive statistical visualizations.\n",
    "5. %matplotlib inline: This Jupyter magic command displays Matplotlib plots directly in notebooks.\n",
    "6. Plotly: Plotly enables interactive and dynamic data visualizations and dashboards."
   ]
  },
  {
   "cell_type": "code",
   "execution_count": 2,
   "id": "b211c628",
   "metadata": {
    "execution": {
     "iopub.execute_input": "2024-01-30T19:23:16.364269Z",
     "iopub.status.busy": "2024-01-30T19:23:16.363376Z",
     "iopub.status.idle": "2024-01-30T19:23:19.014131Z",
     "shell.execute_reply": "2024-01-30T19:23:19.012903Z"
    },
    "papermill": {
     "duration": 2.686591,
     "end_time": "2024-01-30T19:23:19.016996",
     "exception": false,
     "start_time": "2024-01-30T19:23:16.330405",
     "status": "completed"
    },
    "tags": []
   },
   "outputs": [
    {
     "name": "stderr",
     "output_type": "stream",
     "text": [
      "/opt/conda/lib/python3.10/site-packages/scipy/__init__.py:146: UserWarning: A NumPy version >=1.16.5 and <1.23.0 is required for this version of SciPy (detected version 1.23.5\n",
      "  warnings.warn(f\"A NumPy version >={np_minversion} and <{np_maxversion}\"\n"
     ]
    }
   ],
   "source": [
    "# for data manipulation and numeric functions\n",
    "import pandas as pd\n",
    "import numpy as np\n",
    "\n",
    "# for data visualization \n",
    "import matplotlib.pyplot as plt\n",
    "%matplotlib inline\n",
    "import seaborn as sns\n",
    "import plotly.express as px"
   ]
  },
  {
   "cell_type": "markdown",
   "id": "a2a1ed75",
   "metadata": {
    "papermill": {
     "duration": 0.02663,
     "end_time": "2024-01-30T19:23:19.071414",
     "exception": false,
     "start_time": "2024-01-30T19:23:19.044784",
     "status": "completed"
    },
    "tags": []
   },
   "source": [
    "## **4.0 Data Loading, Exploration & Wrangling**\n",
    "### **4.1 Load the csv file with the pandas:**\n"
   ]
  },
  {
   "cell_type": "code",
   "execution_count": 3,
   "id": "4976443e",
   "metadata": {
    "execution": {
     "iopub.execute_input": "2024-01-30T19:23:19.130595Z",
     "iopub.status.busy": "2024-01-30T19:23:19.130122Z",
     "iopub.status.idle": "2024-01-30T19:23:40.483295Z",
     "shell.execute_reply": "2024-01-30T19:23:40.481914Z"
    },
    "papermill": {
     "duration": 21.386663,
     "end_time": "2024-01-30T19:23:40.486018",
     "exception": false,
     "start_time": "2024-01-30T19:23:19.099355",
     "status": "completed"
    },
    "tags": []
   },
   "outputs": [
    {
     "data": {
      "text/html": [
       "<div>\n",
       "<style scoped>\n",
       "    .dataframe tbody tr th:only-of-type {\n",
       "        vertical-align: middle;\n",
       "    }\n",
       "\n",
       "    .dataframe tbody tr th {\n",
       "        vertical-align: top;\n",
       "    }\n",
       "\n",
       "    .dataframe thead th {\n",
       "        text-align: right;\n",
       "    }\n",
       "</style>\n",
       "<table border=\"1\" class=\"dataframe\">\n",
       "  <thead>\n",
       "    <tr style=\"text-align: right;\">\n",
       "      <th></th>\n",
       "      <th>App_Id</th>\n",
       "      <th>App_Name</th>\n",
       "      <th>AppStore_Url</th>\n",
       "      <th>Primary_Genre</th>\n",
       "      <th>Content_Rating</th>\n",
       "      <th>Size_Bytes</th>\n",
       "      <th>Required_IOS_Version</th>\n",
       "      <th>Released</th>\n",
       "      <th>Updated</th>\n",
       "      <th>Version</th>\n",
       "      <th>...</th>\n",
       "      <th>Currency</th>\n",
       "      <th>Free</th>\n",
       "      <th>DeveloperId</th>\n",
       "      <th>Developer</th>\n",
       "      <th>Developer_Url</th>\n",
       "      <th>Developer_Website</th>\n",
       "      <th>Average_User_Rating</th>\n",
       "      <th>Reviews</th>\n",
       "      <th>Current_Version_Score</th>\n",
       "      <th>Current_Version_Reviews</th>\n",
       "    </tr>\n",
       "  </thead>\n",
       "  <tbody>\n",
       "    <tr>\n",
       "      <th>0</th>\n",
       "      <td>com.hkbu.arc.apaper</td>\n",
       "      <td>A+ Paper Guide</td>\n",
       "      <td>https://apps.apple.com/us/app/a-paper-guide/id...</td>\n",
       "      <td>Education</td>\n",
       "      <td>4+</td>\n",
       "      <td>21993472.0</td>\n",
       "      <td>8.0</td>\n",
       "      <td>2017-09-28T03:02:41Z</td>\n",
       "      <td>2018-12-21T21:30:36Z</td>\n",
       "      <td>1.1.2</td>\n",
       "      <td>...</td>\n",
       "      <td>USD</td>\n",
       "      <td>True</td>\n",
       "      <td>1375410542</td>\n",
       "      <td>HKBU ARC</td>\n",
       "      <td>https://apps.apple.com/us/developer/hkbu-arc/i...</td>\n",
       "      <td>NaN</td>\n",
       "      <td>0.00000</td>\n",
       "      <td>0</td>\n",
       "      <td>0.00000</td>\n",
       "      <td>0</td>\n",
       "    </tr>\n",
       "    <tr>\n",
       "      <th>1</th>\n",
       "      <td>com.dmitriev.abooks</td>\n",
       "      <td>A-Books</td>\n",
       "      <td>https://apps.apple.com/us/app/a-books/id103157...</td>\n",
       "      <td>Book</td>\n",
       "      <td>4+</td>\n",
       "      <td>13135872.0</td>\n",
       "      <td>10.0</td>\n",
       "      <td>2015-08-31T19:31:32Z</td>\n",
       "      <td>2019-07-23T20:31:09Z</td>\n",
       "      <td>1.3</td>\n",
       "      <td>...</td>\n",
       "      <td>USD</td>\n",
       "      <td>True</td>\n",
       "      <td>1031572001</td>\n",
       "      <td>Roman Dmitriev</td>\n",
       "      <td>https://apps.apple.com/us/developer/roman-dmit...</td>\n",
       "      <td>NaN</td>\n",
       "      <td>5.00000</td>\n",
       "      <td>1</td>\n",
       "      <td>5.00000</td>\n",
       "      <td>1</td>\n",
       "    </tr>\n",
       "    <tr>\n",
       "      <th>2</th>\n",
       "      <td>no.terp.abooks</td>\n",
       "      <td>A-books</td>\n",
       "      <td>https://apps.apple.com/us/app/a-books/id145702...</td>\n",
       "      <td>Book</td>\n",
       "      <td>4+</td>\n",
       "      <td>21943296.0</td>\n",
       "      <td>9.0</td>\n",
       "      <td>2021-04-14T07:00:00Z</td>\n",
       "      <td>2021-05-30T21:08:54Z</td>\n",
       "      <td>1.3.1</td>\n",
       "      <td>...</td>\n",
       "      <td>USD</td>\n",
       "      <td>True</td>\n",
       "      <td>1457024163</td>\n",
       "      <td>Terp AS</td>\n",
       "      <td>https://apps.apple.com/us/developer/terp-as/id...</td>\n",
       "      <td>NaN</td>\n",
       "      <td>0.00000</td>\n",
       "      <td>0</td>\n",
       "      <td>0.00000</td>\n",
       "      <td>0</td>\n",
       "    </tr>\n",
       "    <tr>\n",
       "      <th>3</th>\n",
       "      <td>fr.antoinettefleur.Book1</td>\n",
       "      <td>A-F Book #1</td>\n",
       "      <td>https://apps.apple.com/us/app/a-f-book-1/id500...</td>\n",
       "      <td>Book</td>\n",
       "      <td>4+</td>\n",
       "      <td>81851392.0</td>\n",
       "      <td>8.0</td>\n",
       "      <td>2012-02-10T03:40:07Z</td>\n",
       "      <td>2019-10-29T12:40:37Z</td>\n",
       "      <td>1.2</td>\n",
       "      <td>...</td>\n",
       "      <td>USD</td>\n",
       "      <td>False</td>\n",
       "      <td>439568839</td>\n",
       "      <td>i-editeur.com</td>\n",
       "      <td>https://apps.apple.com/us/developer/i-editeur-...</td>\n",
       "      <td>NaN</td>\n",
       "      <td>0.00000</td>\n",
       "      <td>0</td>\n",
       "      <td>0.00000</td>\n",
       "      <td>0</td>\n",
       "    </tr>\n",
       "    <tr>\n",
       "      <th>4</th>\n",
       "      <td>com.imonstersoft.azdictionaryios</td>\n",
       "      <td>A-Z Synonyms Dictionary</td>\n",
       "      <td>https://apps.apple.com/us/app/a-z-synonyms-dic...</td>\n",
       "      <td>Reference</td>\n",
       "      <td>4+</td>\n",
       "      <td>64692224.0</td>\n",
       "      <td>9.0</td>\n",
       "      <td>2020-12-16T08:00:00Z</td>\n",
       "      <td>2020-12-18T21:36:11Z</td>\n",
       "      <td>1.0.1</td>\n",
       "      <td>...</td>\n",
       "      <td>USD</td>\n",
       "      <td>True</td>\n",
       "      <td>656731821</td>\n",
       "      <td>Ngov chiheang</td>\n",
       "      <td>https://apps.apple.com/us/developer/ngov-chihe...</td>\n",
       "      <td>http://imonstersoft.com</td>\n",
       "      <td>0.00000</td>\n",
       "      <td>0</td>\n",
       "      <td>0.00000</td>\n",
       "      <td>0</td>\n",
       "    </tr>\n",
       "    <tr>\n",
       "      <th>...</th>\n",
       "      <td>...</td>\n",
       "      <td>...</td>\n",
       "      <td>...</td>\n",
       "      <td>...</td>\n",
       "      <td>...</td>\n",
       "      <td>...</td>\n",
       "      <td>...</td>\n",
       "      <td>...</td>\n",
       "      <td>...</td>\n",
       "      <td>...</td>\n",
       "      <td>...</td>\n",
       "      <td>...</td>\n",
       "      <td>...</td>\n",
       "      <td>...</td>\n",
       "      <td>...</td>\n",
       "      <td>...</td>\n",
       "      <td>...</td>\n",
       "      <td>...</td>\n",
       "      <td>...</td>\n",
       "      <td>...</td>\n",
       "      <td>...</td>\n",
       "    </tr>\n",
       "    <tr>\n",
       "      <th>1230371</th>\n",
       "      <td>com.ledtech.sadblock</td>\n",
       "      <td>Sесurity АdBlосkеr</td>\n",
       "      <td>https://apps.apple.com/us/app/s%D0%B5%D1%81uri...</td>\n",
       "      <td>Utilities</td>\n",
       "      <td>4+</td>\n",
       "      <td>16666624.0</td>\n",
       "      <td>13.0</td>\n",
       "      <td>2020-07-07T07:00:00Z</td>\n",
       "      <td>2020-07-10T00:48:50Z</td>\n",
       "      <td>1.0.1</td>\n",
       "      <td>...</td>\n",
       "      <td>USD</td>\n",
       "      <td>True</td>\n",
       "      <td>1522287989</td>\n",
       "      <td>LED-TECHNOLOGIES</td>\n",
       "      <td>https://apps.apple.com/us/developer/led-techno...</td>\n",
       "      <td>NaN</td>\n",
       "      <td>3.91608</td>\n",
       "      <td>143</td>\n",
       "      <td>3.91608</td>\n",
       "      <td>143</td>\n",
       "    </tr>\n",
       "    <tr>\n",
       "      <th>1230372</th>\n",
       "      <td>com.securex.vpn</td>\n",
       "      <td>SесurеХ VРN - Wifi Proxy</td>\n",
       "      <td>https://apps.apple.com/us/app/s%D0%B5%D1%81ur%...</td>\n",
       "      <td>Utilities</td>\n",
       "      <td>4+</td>\n",
       "      <td>39016448.0</td>\n",
       "      <td>9.0</td>\n",
       "      <td>2019-02-12T10:10:13Z</td>\n",
       "      <td>2020-10-21T23:25:15Z</td>\n",
       "      <td>1.1</td>\n",
       "      <td>...</td>\n",
       "      <td>USD</td>\n",
       "      <td>True</td>\n",
       "      <td>1492288123</td>\n",
       "      <td>Trust VPN Ltd.</td>\n",
       "      <td>https://apps.apple.com/us/developer/trust-vpn-...</td>\n",
       "      <td>https://securexvpn.com/</td>\n",
       "      <td>4.82733</td>\n",
       "      <td>1500</td>\n",
       "      <td>4.82733</td>\n",
       "      <td>1500</td>\n",
       "    </tr>\n",
       "    <tr>\n",
       "      <th>1230373</th>\n",
       "      <td>com.beelab.SoTayXayDung</td>\n",
       "      <td>Sổ tay Xây dựng</td>\n",
       "      <td>https://apps.apple.com/us/app/s%E1%BB%95-tay-x...</td>\n",
       "      <td>Utilities</td>\n",
       "      <td>4+</td>\n",
       "      <td>17223680.0</td>\n",
       "      <td>9.0</td>\n",
       "      <td>2018-10-17T04:22:41Z</td>\n",
       "      <td>2018-10-17T04:22:41Z</td>\n",
       "      <td>1.0</td>\n",
       "      <td>...</td>\n",
       "      <td>USD</td>\n",
       "      <td>True</td>\n",
       "      <td>1438594214</td>\n",
       "      <td>Luu Minh</td>\n",
       "      <td>https://apps.apple.com/us/developer/luu-minh/i...</td>\n",
       "      <td>http://bee-labs.github.io</td>\n",
       "      <td>4.00000</td>\n",
       "      <td>1</td>\n",
       "      <td>4.00000</td>\n",
       "      <td>1</td>\n",
       "    </tr>\n",
       "    <tr>\n",
       "      <th>1230374</th>\n",
       "      <td>com.icc.sttb</td>\n",
       "      <td>Sổ tay đảng viên Thái Bình</td>\n",
       "      <td>https://apps.apple.com/us/app/s%E1%BB%95-tay-%...</td>\n",
       "      <td>Utilities</td>\n",
       "      <td>4+</td>\n",
       "      <td>56716288.0</td>\n",
       "      <td>10.0</td>\n",
       "      <td>2021-02-20T08:00:00Z</td>\n",
       "      <td>2021-10-02T22:00:19Z</td>\n",
       "      <td>1.2.5</td>\n",
       "      <td>...</td>\n",
       "      <td>USD</td>\n",
       "      <td>True</td>\n",
       "      <td>1515469508</td>\n",
       "      <td>Thái Bình</td>\n",
       "      <td>https://apps.apple.com/us/developer/th%C3%A1i-...</td>\n",
       "      <td>https://aisoftech.vn</td>\n",
       "      <td>0.00000</td>\n",
       "      <td>0</td>\n",
       "      <td>0.00000</td>\n",
       "      <td>0</td>\n",
       "    </tr>\n",
       "    <tr>\n",
       "      <th>1230375</th>\n",
       "      <td>com.vnptlonganios.sodiemthongminh</td>\n",
       "      <td>Sổ Điểm Thông Minh</td>\n",
       "      <td>https://apps.apple.com/us/app/s%E1%BB%95-%C4%9...</td>\n",
       "      <td>Utilities</td>\n",
       "      <td>4+</td>\n",
       "      <td>85135360.0</td>\n",
       "      <td>8.0</td>\n",
       "      <td>2018-06-05T07:45:41Z</td>\n",
       "      <td>2019-05-21T22:03:17Z</td>\n",
       "      <td>1.9</td>\n",
       "      <td>...</td>\n",
       "      <td>USD</td>\n",
       "      <td>True</td>\n",
       "      <td>1350355912</td>\n",
       "      <td>Pham Thanh Vo</td>\n",
       "      <td>https://apps.apple.com/us/developer/pham-thanh...</td>\n",
       "      <td>NaN</td>\n",
       "      <td>0.00000</td>\n",
       "      <td>0</td>\n",
       "      <td>0.00000</td>\n",
       "      <td>0</td>\n",
       "    </tr>\n",
       "  </tbody>\n",
       "</table>\n",
       "<p>1230376 rows × 21 columns</p>\n",
       "</div>"
      ],
      "text/plain": [
       "                                    App_Id                    App_Name  \\\n",
       "0                      com.hkbu.arc.apaper              A+ Paper Guide   \n",
       "1                      com.dmitriev.abooks                     A-Books   \n",
       "2                           no.terp.abooks                     A-books   \n",
       "3                 fr.antoinettefleur.Book1                 A-F Book #1   \n",
       "4         com.imonstersoft.azdictionaryios     A-Z Synonyms Dictionary   \n",
       "...                                    ...                         ...   \n",
       "1230371               com.ledtech.sadblock          Sесurity АdBlосkеr   \n",
       "1230372                    com.securex.vpn    SесurеХ VРN - Wifi Proxy   \n",
       "1230373            com.beelab.SoTayXayDung             Sổ tay Xây dựng   \n",
       "1230374                       com.icc.sttb  Sổ tay đảng viên Thái Bình   \n",
       "1230375  com.vnptlonganios.sodiemthongminh          Sổ Điểm Thông Minh   \n",
       "\n",
       "                                              AppStore_Url Primary_Genre  \\\n",
       "0        https://apps.apple.com/us/app/a-paper-guide/id...     Education   \n",
       "1        https://apps.apple.com/us/app/a-books/id103157...          Book   \n",
       "2        https://apps.apple.com/us/app/a-books/id145702...          Book   \n",
       "3        https://apps.apple.com/us/app/a-f-book-1/id500...          Book   \n",
       "4        https://apps.apple.com/us/app/a-z-synonyms-dic...     Reference   \n",
       "...                                                    ...           ...   \n",
       "1230371  https://apps.apple.com/us/app/s%D0%B5%D1%81uri...     Utilities   \n",
       "1230372  https://apps.apple.com/us/app/s%D0%B5%D1%81ur%...     Utilities   \n",
       "1230373  https://apps.apple.com/us/app/s%E1%BB%95-tay-x...     Utilities   \n",
       "1230374  https://apps.apple.com/us/app/s%E1%BB%95-tay-%...     Utilities   \n",
       "1230375  https://apps.apple.com/us/app/s%E1%BB%95-%C4%9...     Utilities   \n",
       "\n",
       "        Content_Rating  Size_Bytes Required_IOS_Version              Released  \\\n",
       "0                   4+  21993472.0                  8.0  2017-09-28T03:02:41Z   \n",
       "1                   4+  13135872.0                 10.0  2015-08-31T19:31:32Z   \n",
       "2                   4+  21943296.0                  9.0  2021-04-14T07:00:00Z   \n",
       "3                   4+  81851392.0                  8.0  2012-02-10T03:40:07Z   \n",
       "4                   4+  64692224.0                  9.0  2020-12-16T08:00:00Z   \n",
       "...                ...         ...                  ...                   ...   \n",
       "1230371             4+  16666624.0                 13.0  2020-07-07T07:00:00Z   \n",
       "1230372             4+  39016448.0                  9.0  2019-02-12T10:10:13Z   \n",
       "1230373             4+  17223680.0                  9.0  2018-10-17T04:22:41Z   \n",
       "1230374             4+  56716288.0                 10.0  2021-02-20T08:00:00Z   \n",
       "1230375             4+  85135360.0                  8.0  2018-06-05T07:45:41Z   \n",
       "\n",
       "                      Updated Version  ...  Currency   Free  DeveloperId  \\\n",
       "0        2018-12-21T21:30:36Z   1.1.2  ...       USD   True   1375410542   \n",
       "1        2019-07-23T20:31:09Z     1.3  ...       USD   True   1031572001   \n",
       "2        2021-05-30T21:08:54Z   1.3.1  ...       USD   True   1457024163   \n",
       "3        2019-10-29T12:40:37Z     1.2  ...       USD  False    439568839   \n",
       "4        2020-12-18T21:36:11Z   1.0.1  ...       USD   True    656731821   \n",
       "...                       ...     ...  ...       ...    ...          ...   \n",
       "1230371  2020-07-10T00:48:50Z   1.0.1  ...       USD   True   1522287989   \n",
       "1230372  2020-10-21T23:25:15Z     1.1  ...       USD   True   1492288123   \n",
       "1230373  2018-10-17T04:22:41Z     1.0  ...       USD   True   1438594214   \n",
       "1230374  2021-10-02T22:00:19Z   1.2.5  ...       USD   True   1515469508   \n",
       "1230375  2019-05-21T22:03:17Z     1.9  ...       USD   True   1350355912   \n",
       "\n",
       "                Developer                                      Developer_Url  \\\n",
       "0                HKBU ARC  https://apps.apple.com/us/developer/hkbu-arc/i...   \n",
       "1          Roman Dmitriev  https://apps.apple.com/us/developer/roman-dmit...   \n",
       "2                 Terp AS  https://apps.apple.com/us/developer/terp-as/id...   \n",
       "3           i-editeur.com  https://apps.apple.com/us/developer/i-editeur-...   \n",
       "4           Ngov chiheang  https://apps.apple.com/us/developer/ngov-chihe...   \n",
       "...                   ...                                                ...   \n",
       "1230371  LED-TECHNOLOGIES  https://apps.apple.com/us/developer/led-techno...   \n",
       "1230372    Trust VPN Ltd.  https://apps.apple.com/us/developer/trust-vpn-...   \n",
       "1230373          Luu Minh  https://apps.apple.com/us/developer/luu-minh/i...   \n",
       "1230374         Thái Bình  https://apps.apple.com/us/developer/th%C3%A1i-...   \n",
       "1230375     Pham Thanh Vo  https://apps.apple.com/us/developer/pham-thanh...   \n",
       "\n",
       "                 Developer_Website Average_User_Rating  Reviews  \\\n",
       "0                              NaN             0.00000        0   \n",
       "1                              NaN             5.00000        1   \n",
       "2                              NaN             0.00000        0   \n",
       "3                              NaN             0.00000        0   \n",
       "4          http://imonstersoft.com             0.00000        0   \n",
       "...                            ...                 ...      ...   \n",
       "1230371                        NaN             3.91608      143   \n",
       "1230372    https://securexvpn.com/             4.82733     1500   \n",
       "1230373  http://bee-labs.github.io             4.00000        1   \n",
       "1230374       https://aisoftech.vn             0.00000        0   \n",
       "1230375                        NaN             0.00000        0   \n",
       "\n",
       "         Current_Version_Score  Current_Version_Reviews  \n",
       "0                      0.00000                        0  \n",
       "1                      5.00000                        1  \n",
       "2                      0.00000                        0  \n",
       "3                      0.00000                        0  \n",
       "4                      0.00000                        0  \n",
       "...                        ...                      ...  \n",
       "1230371                3.91608                      143  \n",
       "1230372                4.82733                     1500  \n",
       "1230373                4.00000                        1  \n",
       "1230374                0.00000                        0  \n",
       "1230375                0.00000                        0  \n",
       "\n",
       "[1230376 rows x 21 columns]"
      ]
     },
     "execution_count": 3,
     "metadata": {},
     "output_type": "execute_result"
    }
   ],
   "source": [
    "# Load dataset\n",
    "pd.read_csv('/kaggle/input/apple-appstore-apps/appleAppData.csv')"
   ]
  },
  {
   "cell_type": "markdown",
   "id": "91071790",
   "metadata": {
    "papermill": {
     "duration": 0.028436,
     "end_time": "2024-01-30T19:23:40.544051",
     "exception": false,
     "start_time": "2024-01-30T19:23:40.515615",
     "status": "completed"
    },
    "tags": []
   },
   "source": [
    "### **4.2 Creating the Dataframe and getting the sense of the data:**"
   ]
  },
  {
   "cell_type": "code",
   "execution_count": 4,
   "id": "e4ded7f9",
   "metadata": {
    "execution": {
     "iopub.execute_input": "2024-01-30T19:23:40.602832Z",
     "iopub.status.busy": "2024-01-30T19:23:40.602063Z",
     "iopub.status.idle": "2024-01-30T19:23:55.866438Z",
     "shell.execute_reply": "2024-01-30T19:23:55.864471Z"
    },
    "papermill": {
     "duration": 15.297122,
     "end_time": "2024-01-30T19:23:55.869960",
     "exception": false,
     "start_time": "2024-01-30T19:23:40.572838",
     "status": "completed"
    },
    "tags": []
   },
   "outputs": [],
   "source": [
    "df = pd.read_csv('/kaggle/input/apple-appstore-apps/appleAppData.csv')"
   ]
  },
  {
   "cell_type": "markdown",
   "id": "8c42dea7",
   "metadata": {
    "papermill": {
     "duration": 0.032707,
     "end_time": "2024-01-30T19:23:55.933029",
     "exception": false,
     "start_time": "2024-01-30T19:23:55.900322",
     "status": "completed"
    },
    "tags": []
   },
   "source": [
    "### **4.3 Exploring and Describing the Dataset:**\n",
    "This code snippet empowers you with a comprehensive dataset overview by leveraging a crucial Pandas display setting. By configuring the option to reveal all columns, you can safeguard against the inadvertent oversight of valuable information within dataframes. Whether your endeavor involves data exploration, rigorous analysis, or a concerted effort to fathom the essence of your data, this unassuming line of code yields substantial impact."
   ]
  },
  {
   "cell_type": "code",
   "execution_count": 5,
   "id": "3ac4235a",
   "metadata": {
    "execution": {
     "iopub.execute_input": "2024-01-30T19:23:56.014221Z",
     "iopub.status.busy": "2024-01-30T19:23:56.013117Z",
     "iopub.status.idle": "2024-01-30T19:23:56.019900Z",
     "shell.execute_reply": "2024-01-30T19:23:56.018422Z"
    },
    "papermill": {
     "duration": 0.049781,
     "end_time": "2024-01-30T19:23:56.022928",
     "exception": false,
     "start_time": "2024-01-30T19:23:55.973147",
     "status": "completed"
    },
    "tags": []
   },
   "outputs": [
    {
     "name": "stdout",
     "output_type": "stream",
     "text": [
      "None\n"
     ]
    }
   ],
   "source": [
    "print(pd.set_option('display.max_columns', None))"
   ]
  },
  {
   "cell_type": "markdown",
   "id": "c4b32d38",
   "metadata": {
    "papermill": {
     "duration": 0.032977,
     "end_time": "2024-01-30T19:23:56.088434",
     "exception": false,
     "start_time": "2024-01-30T19:23:56.055457",
     "status": "completed"
    },
    "tags": []
   },
   "source": [
    "### **4.5 Get a glimpse into your data:**\n",
    "This line of code will display the first 5 rows of your dataset for getting a sneak peak of your data. If your will write nothing in paratheses `df.head()` it will display first 5 rows, and if you want to print desired number of rows you can write in paranthese like this `df.head(10)` for 10 rows."
   ]
  },
  {
   "cell_type": "code",
   "execution_count": 6,
   "id": "7e929164",
   "metadata": {
    "execution": {
     "iopub.execute_input": "2024-01-30T19:23:56.153154Z",
     "iopub.status.busy": "2024-01-30T19:23:56.152695Z",
     "iopub.status.idle": "2024-01-30T19:23:56.170575Z",
     "shell.execute_reply": "2024-01-30T19:23:56.168437Z"
    },
    "papermill": {
     "duration": 0.053982,
     "end_time": "2024-01-30T19:23:56.173820",
     "exception": false,
     "start_time": "2024-01-30T19:23:56.119838",
     "status": "completed"
    },
    "tags": []
   },
   "outputs": [
    {
     "name": "stdout",
     "output_type": "stream",
     "text": [
      "                             App_Id                 App_Name  \\\n",
      "0               com.hkbu.arc.apaper           A+ Paper Guide   \n",
      "1               com.dmitriev.abooks                  A-Books   \n",
      "2                    no.terp.abooks                  A-books   \n",
      "3          fr.antoinettefleur.Book1              A-F Book #1   \n",
      "4  com.imonstersoft.azdictionaryios  A-Z Synonyms Dictionary   \n",
      "\n",
      "                                        AppStore_Url Primary_Genre  \\\n",
      "0  https://apps.apple.com/us/app/a-paper-guide/id...     Education   \n",
      "1  https://apps.apple.com/us/app/a-books/id103157...          Book   \n",
      "2  https://apps.apple.com/us/app/a-books/id145702...          Book   \n",
      "3  https://apps.apple.com/us/app/a-f-book-1/id500...          Book   \n",
      "4  https://apps.apple.com/us/app/a-z-synonyms-dic...     Reference   \n",
      "\n",
      "  Content_Rating  Size_Bytes Required_IOS_Version              Released  \\\n",
      "0             4+  21993472.0                  8.0  2017-09-28T03:02:41Z   \n",
      "1             4+  13135872.0                 10.0  2015-08-31T19:31:32Z   \n",
      "2             4+  21943296.0                  9.0  2021-04-14T07:00:00Z   \n",
      "3             4+  81851392.0                  8.0  2012-02-10T03:40:07Z   \n",
      "4             4+  64692224.0                  9.0  2020-12-16T08:00:00Z   \n",
      "\n",
      "                Updated Version  Price Currency   Free  DeveloperId  \\\n",
      "0  2018-12-21T21:30:36Z   1.1.2   0.00      USD   True   1375410542   \n",
      "1  2019-07-23T20:31:09Z     1.3   0.00      USD   True   1031572001   \n",
      "2  2021-05-30T21:08:54Z   1.3.1   0.00      USD   True   1457024163   \n",
      "3  2019-10-29T12:40:37Z     1.2   2.99      USD  False    439568839   \n",
      "4  2020-12-18T21:36:11Z   1.0.1   0.00      USD   True    656731821   \n",
      "\n",
      "        Developer                                      Developer_Url  \\\n",
      "0        HKBU ARC  https://apps.apple.com/us/developer/hkbu-arc/i...   \n",
      "1  Roman Dmitriev  https://apps.apple.com/us/developer/roman-dmit...   \n",
      "2         Terp AS  https://apps.apple.com/us/developer/terp-as/id...   \n",
      "3   i-editeur.com  https://apps.apple.com/us/developer/i-editeur-...   \n",
      "4   Ngov chiheang  https://apps.apple.com/us/developer/ngov-chihe...   \n",
      "\n",
      "         Developer_Website  Average_User_Rating  Reviews  \\\n",
      "0                      NaN                  0.0        0   \n",
      "1                      NaN                  5.0        1   \n",
      "2                      NaN                  0.0        0   \n",
      "3                      NaN                  0.0        0   \n",
      "4  http://imonstersoft.com                  0.0        0   \n",
      "\n",
      "   Current_Version_Score  Current_Version_Reviews  \n",
      "0                    0.0                        0  \n",
      "1                    5.0                        1  \n",
      "2                    0.0                        0  \n",
      "3                    0.0                        0  \n",
      "4                    0.0                        0  \n"
     ]
    }
   ],
   "source": [
    "print(df.head())"
   ]
  },
  {
   "cell_type": "markdown",
   "id": "0743f456",
   "metadata": {
    "papermill": {
     "duration": 0.028854,
     "end_time": "2024-01-30T19:23:56.234141",
     "exception": false,
     "start_time": "2024-01-30T19:23:56.205287",
     "status": "completed"
    },
    "tags": []
   },
   "source": [
    "### **4.6 View the columns in the dataset:**\n",
    "This command will display all the columns in the data."
   ]
  },
  {
   "cell_type": "code",
   "execution_count": 7,
   "id": "3b39999a",
   "metadata": {
    "execution": {
     "iopub.execute_input": "2024-01-30T19:23:56.302500Z",
     "iopub.status.busy": "2024-01-30T19:23:56.301568Z",
     "iopub.status.idle": "2024-01-30T19:23:56.311045Z",
     "shell.execute_reply": "2024-01-30T19:23:56.308122Z"
    },
    "papermill": {
     "duration": 0.048086,
     "end_time": "2024-01-30T19:23:56.314826",
     "exception": false,
     "start_time": "2024-01-30T19:23:56.266740",
     "status": "completed"
    },
    "tags": []
   },
   "outputs": [
    {
     "name": "stdout",
     "output_type": "stream",
     "text": [
      "Index(['App_Id', 'App_Name', 'AppStore_Url', 'Primary_Genre', 'Content_Rating',\n",
      "       'Size_Bytes', 'Required_IOS_Version', 'Released', 'Updated', 'Version',\n",
      "       'Price', 'Currency', 'Free', 'DeveloperId', 'Developer',\n",
      "       'Developer_Url', 'Developer_Website', 'Average_User_Rating', 'Reviews',\n",
      "       'Current_Version_Score', 'Current_Version_Reviews'],\n",
      "      dtype='object')\n"
     ]
    }
   ],
   "source": [
    "print(df.columns)"
   ]
  },
  {
   "cell_type": "markdown",
   "id": "219656a5",
   "metadata": {
    "papermill": {
     "duration": 0.032151,
     "end_time": "2024-01-30T19:23:56.381331",
     "exception": false,
     "start_time": "2024-01-30T19:23:56.349180",
     "status": "completed"
    },
    "tags": []
   },
   "source": [
    "It shows that there are 21 columns in the dataset and here is the description of each column for better understanding.\n",
    "\n",
    "| Column Name           | Description                                                                                            |\n",
    "|-----------------------|--------------------------------------------------------------------------------------------------------|\n",
    "| App_Id                | Unique identifier for the application.                                                                 |\n",
    "| App_Name              | The name of the application.                                                                           |\n",
    "| AppStore_Url          | URL to the application's page on the app store.                                                        |\n",
    "| Primary_Genre         | The main category or genre of the application.                                                         |\n",
    "| Content_Rating        | The age or content rating assigned to the application.                                                 |\n",
    "| Size_Bytes            | The size of the application in bytes.                                                                  |\n",
    "| Required_IOS_Version  | The minimum version of iOS required to run the application.                                            |\n",
    "| Released              | The date when the application was initially released.                                                  |\n",
    "| Updated               | The date when the application was last updated.                                                        |\n",
    "| Version               | The current version of the application.                                                                |\n",
    "| Price                 | The cost of the application.                                                                           |\n",
    "| Currency              | The currency in which the price is listed.                                                             |\n",
    "| Free                  | Indicates whether the application is free or not.                                                      |\n",
    "| DeveloperId           | Unique identifier for the developer of the application.                                                |\n",
    "| Developer             | The name of the developer of the application.                                                          |\n",
    "| Developer_Url         | URL to the developer's page on the app store.                                                          |\n",
    "| Developer_Website     | URL to the developer's official website.                                                               |\n",
    "| Average_User_Rating   | The average user rating given to the application.                                                      |\n",
    "| Reviews               | The total number of reviews for the application.                                                       | \n",
    "| Current_Version_Score | The user rating score for the current version of the application.                                      |\n",
    "| Current_Version_Reviews | The number of reviews for the current version of the application.                                    |"
   ]
  },
  {
   "cell_type": "markdown",
   "id": "dc0b8bde",
   "metadata": {
    "papermill": {
     "duration": 0.032894,
     "end_time": "2024-01-30T19:23:56.448232",
     "exception": false,
     "start_time": "2024-01-30T19:23:56.415338",
     "status": "completed"
    },
    "tags": []
   },
   "source": [
    "### **4.7 Data Composition:**\n",
    "This line of code will give more information about data, like total number of enteries, columns and its data types and also the memory that data is using in our system."
   ]
  },
  {
   "cell_type": "code",
   "execution_count": 8,
   "id": "017e29f7",
   "metadata": {
    "execution": {
     "iopub.execute_input": "2024-01-30T19:23:56.511983Z",
     "iopub.status.busy": "2024-01-30T19:23:56.511413Z",
     "iopub.status.idle": "2024-01-30T19:23:59.076044Z",
     "shell.execute_reply": "2024-01-30T19:23:59.074106Z"
    },
    "papermill": {
     "duration": 2.600993,
     "end_time": "2024-01-30T19:23:59.078737",
     "exception": false,
     "start_time": "2024-01-30T19:23:56.477744",
     "status": "completed"
    },
    "tags": []
   },
   "outputs": [
    {
     "name": "stdout",
     "output_type": "stream",
     "text": [
      "<class 'pandas.core.frame.DataFrame'>\n",
      "RangeIndex: 1230376 entries, 0 to 1230375\n",
      "Data columns (total 21 columns):\n",
      " #   Column                   Non-Null Count    Dtype  \n",
      "---  ------                   --------------    -----  \n",
      " 0   App_Id                   1230376 non-null  object \n",
      " 1   App_Name                 1230375 non-null  object \n",
      " 2   AppStore_Url             1230376 non-null  object \n",
      " 3   Primary_Genre            1230376 non-null  object \n",
      " 4   Content_Rating           1230376 non-null  object \n",
      " 5   Size_Bytes               1230152 non-null  float64\n",
      " 6   Required_IOS_Version     1230376 non-null  object \n",
      " 7   Released                 1230373 non-null  object \n",
      " 8   Updated                  1230376 non-null  object \n",
      " 9   Version                  1230376 non-null  object \n",
      " 10  Price                    1229886 non-null  float64\n",
      " 11  Currency                 1230376 non-null  object \n",
      " 12  Free                     1230376 non-null  bool   \n",
      " 13  DeveloperId              1230376 non-null  int64  \n",
      " 14  Developer                1230376 non-null  object \n",
      " 15  Developer_Url            1229267 non-null  object \n",
      " 16  Developer_Website        586388 non-null   object \n",
      " 17  Average_User_Rating      1230376 non-null  float64\n",
      " 18  Reviews                  1230376 non-null  int64  \n",
      " 19  Current_Version_Score    1230376 non-null  float64\n",
      " 20  Current_Version_Reviews  1230376 non-null  int64  \n",
      "dtypes: bool(1), float64(4), int64(3), object(13)\n",
      "memory usage: 188.9+ MB\n",
      "None\n"
     ]
    }
   ],
   "source": [
    "print(df.info())"
   ]
  },
  {
   "cell_type": "markdown",
   "id": "3475a916",
   "metadata": {
    "papermill": {
     "duration": 0.027747,
     "end_time": "2024-01-30T19:23:59.136836",
     "exception": false,
     "start_time": "2024-01-30T19:23:59.109089",
     "status": "completed"
    },
    "tags": []
   },
   "source": [
    "### **4.8 View the shape of the dataset**\n",
    "It will show the number of rows and columns in our dataset."
   ]
  },
  {
   "cell_type": "code",
   "execution_count": 9,
   "id": "90fcd813",
   "metadata": {
    "execution": {
     "iopub.execute_input": "2024-01-30T19:23:59.199903Z",
     "iopub.status.busy": "2024-01-30T19:23:59.199426Z",
     "iopub.status.idle": "2024-01-30T19:23:59.206304Z",
     "shell.execute_reply": "2024-01-30T19:23:59.205003Z"
    },
    "papermill": {
     "duration": 0.042443,
     "end_time": "2024-01-30T19:23:59.209298",
     "exception": false,
     "start_time": "2024-01-30T19:23:59.166855",
     "status": "completed"
    },
    "tags": []
   },
   "outputs": [
    {
     "name": "stdout",
     "output_type": "stream",
     "text": [
      "The dataframe has 1230376 rows and 21 columns\n"
     ]
    }
   ],
   "source": [
    "print(f\"The dataframe has {df.shape[0]} rows and {df.shape[1]} columns\")"
   ]
  },
  {
   "cell_type": "markdown",
   "id": "b0c328b0",
   "metadata": {
    "papermill": {
     "duration": 0.030048,
     "end_time": "2024-01-30T19:23:59.268273",
     "exception": false,
     "start_time": "2024-01-30T19:23:59.238225",
     "status": "completed"
    },
    "tags": []
   },
   "source": [
    "### **4.9 Descriptive Statistics**\n",
    "It will show the summary statistics of our dataset."
   ]
  },
  {
   "cell_type": "code",
   "execution_count": 10,
   "id": "78d9b7f9",
   "metadata": {
    "execution": {
     "iopub.execute_input": "2024-01-30T19:23:59.335508Z",
     "iopub.status.busy": "2024-01-30T19:23:59.334400Z",
     "iopub.status.idle": "2024-01-30T19:23:59.742470Z",
     "shell.execute_reply": "2024-01-30T19:23:59.741228Z"
    },
    "papermill": {
     "duration": 0.445739,
     "end_time": "2024-01-30T19:23:59.745034",
     "exception": false,
     "start_time": "2024-01-30T19:23:59.299295",
     "status": "completed"
    },
    "tags": []
   },
   "outputs": [
    {
     "data": {
      "text/html": [
       "<div>\n",
       "<style scoped>\n",
       "    .dataframe tbody tr th:only-of-type {\n",
       "        vertical-align: middle;\n",
       "    }\n",
       "\n",
       "    .dataframe tbody tr th {\n",
       "        vertical-align: top;\n",
       "    }\n",
       "\n",
       "    .dataframe thead th {\n",
       "        text-align: right;\n",
       "    }\n",
       "</style>\n",
       "<table border=\"1\" class=\"dataframe\">\n",
       "  <thead>\n",
       "    <tr style=\"text-align: right;\">\n",
       "      <th></th>\n",
       "      <th>Size_Bytes</th>\n",
       "      <th>Price</th>\n",
       "      <th>DeveloperId</th>\n",
       "      <th>Average_User_Rating</th>\n",
       "      <th>Reviews</th>\n",
       "      <th>Current_Version_Score</th>\n",
       "      <th>Current_Version_Reviews</th>\n",
       "    </tr>\n",
       "  </thead>\n",
       "  <tbody>\n",
       "    <tr>\n",
       "      <th>count</th>\n",
       "      <td>1.230152e+06</td>\n",
       "      <td>1.229886e+06</td>\n",
       "      <td>1.230376e+06</td>\n",
       "      <td>1.230376e+06</td>\n",
       "      <td>1.230376e+06</td>\n",
       "      <td>1.230376e+06</td>\n",
       "      <td>1.230376e+06</td>\n",
       "    </tr>\n",
       "    <tr>\n",
       "      <th>mean</th>\n",
       "      <td>7.510857e+07</td>\n",
       "      <td>5.041264e-01</td>\n",
       "      <td>1.092869e+09</td>\n",
       "      <td>1.788387e+00</td>\n",
       "      <td>8.259478e+02</td>\n",
       "      <td>1.788387e+00</td>\n",
       "      <td>8.259478e+02</td>\n",
       "    </tr>\n",
       "    <tr>\n",
       "      <th>std</th>\n",
       "      <td>2.318726e+08</td>\n",
       "      <td>6.869674e+00</td>\n",
       "      <td>4.090897e+08</td>\n",
       "      <td>2.154105e+00</td>\n",
       "      <td>5.016051e+04</td>\n",
       "      <td>2.154105e+00</td>\n",
       "      <td>5.016051e+04</td>\n",
       "    </tr>\n",
       "    <tr>\n",
       "      <th>min</th>\n",
       "      <td>2.762800e+04</td>\n",
       "      <td>0.000000e+00</td>\n",
       "      <td>2.816565e+08</td>\n",
       "      <td>0.000000e+00</td>\n",
       "      <td>0.000000e+00</td>\n",
       "      <td>0.000000e+00</td>\n",
       "      <td>0.000000e+00</td>\n",
       "    </tr>\n",
       "    <tr>\n",
       "      <th>25%</th>\n",
       "      <td>2.041344e+07</td>\n",
       "      <td>0.000000e+00</td>\n",
       "      <td>7.381109e+08</td>\n",
       "      <td>0.000000e+00</td>\n",
       "      <td>0.000000e+00</td>\n",
       "      <td>0.000000e+00</td>\n",
       "      <td>0.000000e+00</td>\n",
       "    </tr>\n",
       "    <tr>\n",
       "      <th>50%</th>\n",
       "      <td>4.333158e+07</td>\n",
       "      <td>0.000000e+00</td>\n",
       "      <td>1.179711e+09</td>\n",
       "      <td>0.000000e+00</td>\n",
       "      <td>0.000000e+00</td>\n",
       "      <td>0.000000e+00</td>\n",
       "      <td>0.000000e+00</td>\n",
       "    </tr>\n",
       "    <tr>\n",
       "      <th>75%</th>\n",
       "      <td>8.365466e+07</td>\n",
       "      <td>0.000000e+00</td>\n",
       "      <td>1.471960e+09</td>\n",
       "      <td>4.333330e+00</td>\n",
       "      <td>3.000000e+00</td>\n",
       "      <td>4.333330e+00</td>\n",
       "      <td>3.000000e+00</td>\n",
       "    </tr>\n",
       "    <tr>\n",
       "      <th>max</th>\n",
       "      <td>7.677945e+10</td>\n",
       "      <td>9.999900e+02</td>\n",
       "      <td>1.590233e+09</td>\n",
       "      <td>5.000000e+00</td>\n",
       "      <td>2.268533e+07</td>\n",
       "      <td>5.000000e+00</td>\n",
       "      <td>2.268533e+07</td>\n",
       "    </tr>\n",
       "  </tbody>\n",
       "</table>\n",
       "</div>"
      ],
      "text/plain": [
       "         Size_Bytes         Price   DeveloperId  Average_User_Rating  \\\n",
       "count  1.230152e+06  1.229886e+06  1.230376e+06         1.230376e+06   \n",
       "mean   7.510857e+07  5.041264e-01  1.092869e+09         1.788387e+00   \n",
       "std    2.318726e+08  6.869674e+00  4.090897e+08         2.154105e+00   \n",
       "min    2.762800e+04  0.000000e+00  2.816565e+08         0.000000e+00   \n",
       "25%    2.041344e+07  0.000000e+00  7.381109e+08         0.000000e+00   \n",
       "50%    4.333158e+07  0.000000e+00  1.179711e+09         0.000000e+00   \n",
       "75%    8.365466e+07  0.000000e+00  1.471960e+09         4.333330e+00   \n",
       "max    7.677945e+10  9.999900e+02  1.590233e+09         5.000000e+00   \n",
       "\n",
       "            Reviews  Current_Version_Score  Current_Version_Reviews  \n",
       "count  1.230376e+06           1.230376e+06             1.230376e+06  \n",
       "mean   8.259478e+02           1.788387e+00             8.259478e+02  \n",
       "std    5.016051e+04           2.154105e+00             5.016051e+04  \n",
       "min    0.000000e+00           0.000000e+00             0.000000e+00  \n",
       "25%    0.000000e+00           0.000000e+00             0.000000e+00  \n",
       "50%    0.000000e+00           0.000000e+00             0.000000e+00  \n",
       "75%    3.000000e+00           4.333330e+00             3.000000e+00  \n",
       "max    2.268533e+07           5.000000e+00             2.268533e+07  "
      ]
     },
     "execution_count": 10,
     "metadata": {},
     "output_type": "execute_result"
    }
   ],
   "source": [
    "df.describe()"
   ]
  },
  {
   "cell_type": "markdown",
   "id": "8cd6cae3",
   "metadata": {
    "papermill": {
     "duration": 0.029949,
     "end_time": "2024-01-30T19:23:59.806468",
     "exception": false,
     "start_time": "2024-01-30T19:23:59.776519",
     "status": "completed"
    },
    "tags": []
   },
   "source": [
    "**Observation Set 1:**\n",
    "- Although it is showing that there are 7 numeric columns in the dataset. But the `DeveloperId` is not a numeric column, it is written in numeric form but it is actually the **unique id** of each developer who developed a specific application.\n",
    "- `Size_Bytes` column is showing the size of application in bytes, but we will convert it into Mega bytes (MBs) for better understanding."
   ]
  },
  {
   "cell_type": "markdown",
   "id": "39c4ad87",
   "metadata": {
    "papermill": {
     "duration": 0.030627,
     "end_time": "2024-01-30T19:23:59.869449",
     "exception": false,
     "start_time": "2024-01-30T19:23:59.838822",
     "status": "completed"
    },
    "tags": []
   },
   "source": [
    "### **4.10 Missing values in the dataset:**\n",
    "It will show the number of missing or null values in each columns in descending order."
   ]
  },
  {
   "cell_type": "code",
   "execution_count": 11,
   "id": "3fcb19e5",
   "metadata": {
    "execution": {
     "iopub.execute_input": "2024-01-30T19:23:59.933596Z",
     "iopub.status.busy": "2024-01-30T19:23:59.932685Z",
     "iopub.status.idle": "2024-01-30T19:24:02.503711Z",
     "shell.execute_reply": "2024-01-30T19:24:02.502175Z"
    },
    "papermill": {
     "duration": 2.608746,
     "end_time": "2024-01-30T19:24:02.507135",
     "exception": false,
     "start_time": "2024-01-30T19:23:59.898389",
     "status": "completed"
    },
    "tags": []
   },
   "outputs": [
    {
     "data": {
      "text/plain": [
       "Developer_Website          643988\n",
       "Developer_Url                1109\n",
       "Price                         490\n",
       "Size_Bytes                    224\n",
       "Released                        3\n",
       "App_Name                        1\n",
       "Free                            0\n",
       "Current_Version_Score           0\n",
       "Reviews                         0\n",
       "Average_User_Rating             0\n",
       "Developer                       0\n",
       "DeveloperId                     0\n",
       "App_Id                          0\n",
       "Currency                        0\n",
       "Version                         0\n",
       "Updated                         0\n",
       "Required_IOS_Version            0\n",
       "Content_Rating                  0\n",
       "Primary_Genre                   0\n",
       "AppStore_Url                    0\n",
       "Current_Version_Reviews         0\n",
       "dtype: int64"
      ]
     },
     "execution_count": 11,
     "metadata": {},
     "output_type": "execute_result"
    }
   ],
   "source": [
    "df.isnull().sum().sort_values(ascending=False)"
   ]
  },
  {
   "cell_type": "markdown",
   "id": "8b9873a7",
   "metadata": {
    "papermill": {
     "duration": 0.031037,
     "end_time": "2024-01-30T19:24:02.570748",
     "exception": false,
     "start_time": "2024-01-30T19:24:02.539711",
     "status": "completed"
    },
    "tags": []
   },
   "source": [
    "**Observation Set 2:**\n",
    "- It shows that the most number of missing values (643988) is in `Developer_Website` that actually means that mostly Developers on Applestore don't give their websites and they should give their website address.\n",
    "- After that most number of missing values (1109) is in Developer_Url that again shows that Developers on Applestore don;t give their URL."
   ]
  },
  {
   "cell_type": "markdown",
   "id": "5a39d1f5",
   "metadata": {
    "papermill": {
     "duration": 0.034211,
     "end_time": "2024-01-30T19:24:02.639527",
     "exception": false,
     "start_time": "2024-01-30T19:24:02.605316",
     "status": "completed"
    },
    "tags": []
   },
   "source": [
    "### **Exploratory Analysis and Visualization**\n",
    "It is better to visualize missing values in the dataset with the help of seaborn using heatmap, where `Yellow lines` will represent missing values in each column."
   ]
  },
  {
   "cell_type": "code",
   "execution_count": 12,
   "id": "15597f4f",
   "metadata": {
    "execution": {
     "iopub.execute_input": "2024-01-30T19:24:02.711635Z",
     "iopub.status.busy": "2024-01-30T19:24:02.711198Z",
     "iopub.status.idle": "2024-01-30T19:24:32.850747Z",
     "shell.execute_reply": "2024-01-30T19:24:32.849754Z"
    },
    "papermill": {
     "duration": 30.207024,
     "end_time": "2024-01-30T19:24:32.885066",
     "exception": false,
     "start_time": "2024-01-30T19:24:02.678042",
     "status": "completed"
    },
    "tags": []
   },
   "outputs": [
    {
     "data": {
      "image/png": "[encoded data removed]",
      "text/plain": [
       "<Figure size 1500x600 with 1 Axes>"
      ]
     },
     "metadata": {},
     "output_type": "display_data"
    }
   ],
   "source": [
    "plt.rcParams['figure.figsize'] = (15,6)\n",
    "sns.heatmap(df.isnull(), yticklabels=False, cbar=False, cmap='viridis')\n",
    "plt.title(\"Missing values in the dataset\")\n",
    "plt.show()"
   ]
  },
  {
   "cell_type": "markdown",
   "id": "3e8a2d41",
   "metadata": {
    "papermill": {
     "duration": 0.031341,
     "end_time": "2024-01-30T19:24:32.947447",
     "exception": false,
     "start_time": "2024-01-30T19:24:32.916106",
     "status": "completed"
    },
    "tags": []
   },
   "source": [
    "> Figure 1: This visualization illustrates the presence of missing values within the dataframe `df`\n",
    "- As the quantity of missing values is very large in `Developer Website`, that's why missing values in other columns like `Developer url`, `Price`, `Size Bytes` are not visible."
   ]
  },
  {
   "cell_type": "markdown",
   "id": "be1ca25e",
   "metadata": {
    "papermill": {
     "duration": 0.03384,
     "end_time": "2024-01-30T19:24:33.013989",
     "exception": false,
     "start_time": "2024-01-30T19:24:32.980149",
     "status": "completed"
    },
    "tags": []
   },
   "source": [
    "### **4.11 Percentage of missing values:**\n",
    "Get a clearer picture of missing data with code snippet! See the percentage of null values in your dataset in descending order makes it easy to identify which column has most percentage of missing values."
   ]
  },
  {
   "cell_type": "code",
   "execution_count": 13,
   "id": "323f844c",
   "metadata": {
    "execution": {
     "iopub.execute_input": "2024-01-30T19:24:33.087082Z",
     "iopub.status.busy": "2024-01-30T19:24:33.086047Z",
     "iopub.status.idle": "2024-01-30T19:24:35.562873Z",
     "shell.execute_reply": "2024-01-30T19:24:35.561656Z"
    },
    "papermill": {
     "duration": 2.514589,
     "end_time": "2024-01-30T19:24:35.565600",
     "exception": false,
     "start_time": "2024-01-30T19:24:33.051011",
     "status": "completed"
    },
    "tags": []
   },
   "outputs": [
    {
     "data": {
      "text/plain": [
       "Developer_Website          52.340748\n",
       "Developer_Url               0.090135\n",
       "Price                       0.039825\n",
       "Size_Bytes                  0.018206\n",
       "Released                    0.000244\n",
       "App_Name                    0.000081\n",
       "Free                        0.000000\n",
       "Current_Version_Score       0.000000\n",
       "Reviews                     0.000000\n",
       "Average_User_Rating         0.000000\n",
       "Developer                   0.000000\n",
       "DeveloperId                 0.000000\n",
       "App_Id                      0.000000\n",
       "Currency                    0.000000\n",
       "Version                     0.000000\n",
       "Updated                     0.000000\n",
       "Required_IOS_Version        0.000000\n",
       "Content_Rating              0.000000\n",
       "Primary_Genre               0.000000\n",
       "AppStore_Url                0.000000\n",
       "Current_Version_Reviews     0.000000\n",
       "dtype: float64"
      ]
     },
     "execution_count": 13,
     "metadata": {},
     "output_type": "execute_result"
    }
   ],
   "source": [
    "missing_percentage = df.isnull().sum().sort_values(ascending=False)/len(df)*100\n",
    "missing_percentage"
   ]
  },
  {
   "cell_type": "markdown",
   "id": "d2fe9740",
   "metadata": {
    "papermill": {
     "duration": 0.031165,
     "end_time": "2024-01-30T19:24:35.630666",
     "exception": false,
     "start_time": "2024-01-30T19:24:35.599501",
     "status": "completed"
    },
    "tags": []
   },
   "source": [
    "### **Graphical representation of the percentage of null values by plotting the data using an approprite charting technique:**"
   ]
  },
  {
   "cell_type": "code",
   "execution_count": 14,
   "id": "9ab23ddc",
   "metadata": {
    "execution": {
     "iopub.execute_input": "2024-01-30T19:24:35.694859Z",
     "iopub.status.busy": "2024-01-30T19:24:35.694352Z",
     "iopub.status.idle": "2024-01-30T19:24:36.046090Z",
     "shell.execute_reply": "2024-01-30T19:24:36.044835Z"
    },
    "papermill": {
     "duration": 0.386913,
     "end_time": "2024-01-30T19:24:36.048778",
     "exception": false,
     "start_time": "2024-01-30T19:24:35.661865",
     "status": "completed"
    },
    "tags": []
   },
   "outputs": [
    {
     "data": {
      "image/png": "[encoded data removed]",
      "text/plain": [
       "<Figure size 1800x600 with 1 Axes>"
      ]
     },
     "metadata": {},
     "output_type": "display_data"
    }
   ],
   "source": [
    "missing_percentage = missing_percentage[missing_percentage != 0]   # Only missing values\n",
    "plt.rcParams['figure.figsize'] = (18,6)\n",
    "missing_percentage.plot(kind = 'barh')\n",
    "plt.title(\"Percentage of Missing values in the dataset\")\n",
    "plt.show()"
   ]
  },
  {
   "cell_type": "markdown",
   "id": "9b6cf53a",
   "metadata": {
    "papermill": {
     "duration": 0.035243,
     "end_time": "2024-01-30T19:24:36.117371",
     "exception": false,
     "start_time": "2024-01-30T19:24:36.082128",
     "status": "completed"
    },
    "tags": []
   },
   "source": [
    "> Figure 2: This visualization illustrates the percentage of missing values within the dataframe `df`"
   ]
  },
  {
   "cell_type": "markdown",
   "id": "f2b7624a",
   "metadata": {
    "papermill": {
     "duration": 0.030493,
     "end_time": "2024-01-30T19:24:36.183898",
     "exception": false,
     "start_time": "2024-01-30T19:24:36.153405",
     "status": "completed"
    },
    "tags": []
   },
   "source": [
    "## **5.0 Data Wrangling**\n",
    "Data wrangling, also known as data preprocessing or data cleaning, encompasses a set of processes aimed at preparing raw or messy data for analysis. It involves several key steps to ensure that the data is accurate, complete, consistent, and in a suitable format for further exploration and modeling."
   ]
  },
  {
   "cell_type": "markdown",
   "id": "212291f1",
   "metadata": {
    "papermill": {
     "duration": 0.032688,
     "end_time": "2024-01-30T19:24:36.248342",
     "exception": false,
     "start_time": "2024-01-30T19:24:36.215654",
     "status": "completed"
    },
    "tags": []
   },
   "source": [
    "### **5.1 Data Cleaning:**\n",
    "As we have seen that `Developer Website` has more than 50% missing values. So based on its lack of relevance and higher number of missing values, we can drop this column from the dataset."
   ]
  },
  {
   "cell_type": "code",
   "execution_count": 15,
   "id": "88e2c4ef",
   "metadata": {
    "execution": {
     "iopub.execute_input": "2024-01-30T19:24:36.313847Z",
     "iopub.status.busy": "2024-01-30T19:24:36.313045Z",
     "iopub.status.idle": "2024-01-30T19:24:36.610911Z",
     "shell.execute_reply": "2024-01-30T19:24:36.609591Z"
    },
    "papermill": {
     "duration": 0.334455,
     "end_time": "2024-01-30T19:24:36.613882",
     "exception": false,
     "start_time": "2024-01-30T19:24:36.279427",
     "status": "completed"
    },
    "tags": []
   },
   "outputs": [],
   "source": [
    "# Dropping developer website column from the dataset\n",
    "df.drop('Developer_Website', axis=1, inplace=True)"
   ]
  },
  {
   "cell_type": "code",
   "execution_count": 16,
   "id": "a45d0c02",
   "metadata": {
    "execution": {
     "iopub.execute_input": "2024-01-30T19:24:36.681002Z",
     "iopub.status.busy": "2024-01-30T19:24:36.680094Z",
     "iopub.status.idle": "2024-01-30T19:24:36.688226Z",
     "shell.execute_reply": "2024-01-30T19:24:36.686925Z"
    },
    "papermill": {
     "duration": 0.044718,
     "end_time": "2024-01-30T19:24:36.690567",
     "exception": false,
     "start_time": "2024-01-30T19:24:36.645849",
     "status": "completed"
    },
    "tags": []
   },
   "outputs": [
    {
     "data": {
      "text/plain": [
       "Index(['App_Id', 'App_Name', 'AppStore_Url', 'Primary_Genre', 'Content_Rating',\n",
       "       'Size_Bytes', 'Required_IOS_Version', 'Released', 'Updated', 'Version',\n",
       "       'Price', 'Currency', 'Free', 'DeveloperId', 'Developer',\n",
       "       'Developer_Url', 'Average_User_Rating', 'Reviews',\n",
       "       'Current_Version_Score', 'Current_Version_Reviews'],\n",
       "      dtype='object')"
      ]
     },
     "execution_count": 16,
     "metadata": {},
     "output_type": "execute_result"
    }
   ],
   "source": [
    "df.columns"
   ]
  },
  {
   "cell_type": "markdown",
   "id": "01911654",
   "metadata": {
    "papermill": {
     "duration": 0.032873,
     "end_time": "2024-01-30T19:24:36.755218",
     "exception": false,
     "start_time": "2024-01-30T19:24:36.722345",
     "status": "completed"
    },
    "tags": []
   },
   "source": [
    "> We have successfully remove `Developer_Websites` column from the dataset"
   ]
  },
  {
   "cell_type": "markdown",
   "id": "26182fc7",
   "metadata": {
    "papermill": {
     "duration": 0.033061,
     "end_time": "2024-01-30T19:24:36.820508",
     "exception": false,
     "start_time": "2024-01-30T19:24:36.787447",
     "status": "completed"
    },
    "tags": []
   },
   "source": [
    "### **5.2 Data Imputation:**"
   ]
  },
  {
   "cell_type": "code",
   "execution_count": 17,
   "id": "14fcf160",
   "metadata": {
    "execution": {
     "iopub.execute_input": "2024-01-30T19:24:36.886946Z",
     "iopub.status.busy": "2024-01-30T19:24:36.886528Z",
     "iopub.status.idle": "2024-01-30T19:24:39.087366Z",
     "shell.execute_reply": "2024-01-30T19:24:39.086136Z"
    },
    "papermill": {
     "duration": 2.237698,
     "end_time": "2024-01-30T19:24:39.090035",
     "exception": false,
     "start_time": "2024-01-30T19:24:36.852337",
     "status": "completed"
    },
    "tags": []
   },
   "outputs": [
    {
     "data": {
      "text/plain": [
       "Developer_Url              1109\n",
       "Price                       490\n",
       "Size_Bytes                  224\n",
       "Released                      3\n",
       "App_Name                      1\n",
       "Free                          0\n",
       "Current_Version_Score         0\n",
       "Reviews                       0\n",
       "Average_User_Rating           0\n",
       "Developer                     0\n",
       "DeveloperId                   0\n",
       "App_Id                        0\n",
       "Currency                      0\n",
       "Version                       0\n",
       "Updated                       0\n",
       "Required_IOS_Version          0\n",
       "Content_Rating                0\n",
       "Primary_Genre                 0\n",
       "AppStore_Url                  0\n",
       "Current_Version_Reviews       0\n",
       "dtype: int64"
      ]
     },
     "execution_count": 17,
     "metadata": {},
     "output_type": "execute_result"
    }
   ],
   "source": [
    "df.isnull().sum().sort_values(ascending=False)"
   ]
  },
  {
   "cell_type": "markdown",
   "id": "e8f18bf7",
   "metadata": {
    "papermill": {
     "duration": 0.031788,
     "end_time": "2024-01-30T19:24:39.153570",
     "exception": false,
     "start_time": "2024-01-30T19:24:39.121782",
     "status": "completed"
    },
    "tags": []
   },
   "source": [
    "**Observation Set 3:**\n",
    "- `Price` and `Size_Bytes` are important column so it is better to impute missing values in these columns, but you can also drop missing values from these columns because imputing null values is very sensitive task."
   ]
  },
  {
   "cell_type": "markdown",
   "id": "e5074dc2",
   "metadata": {
    "papermill": {
     "duration": 0.032441,
     "end_time": "2024-01-30T19:24:39.218839",
     "exception": false,
     "start_time": "2024-01-30T19:24:39.186398",
     "status": "completed"
    },
    "tags": []
   },
   "source": [
    "#### **5.2.1 Imputing null values in `Price` and `Size_Bytes` column using Linear Interpolation method:**"
   ]
  },
  {
   "cell_type": "code",
   "execution_count": 18,
   "id": "b2a8af2d",
   "metadata": {
    "execution": {
     "iopub.execute_input": "2024-01-30T19:24:39.288420Z",
     "iopub.status.busy": "2024-01-30T19:24:39.287967Z",
     "iopub.status.idle": "2024-01-30T19:24:39.405462Z",
     "shell.execute_reply": "2024-01-30T19:24:39.404146Z"
    },
    "papermill": {
     "duration": 0.153912,
     "end_time": "2024-01-30T19:24:39.408887",
     "exception": false,
     "start_time": "2024-01-30T19:24:39.254975",
     "status": "completed"
    },
    "tags": []
   },
   "outputs": [],
   "source": [
    "# Convert 'Price' column to numeric if needed\n",
    "df['Price'] = pd.to_numeric(df['Price'], errors='coerce')\n",
    "\n",
    "# Convert 'Size_Bytes' column to numeric if needed\n",
    "df['Size_Bytes'] = pd.to_numeric(df['Size_Bytes'], errors='coerce')\n",
    "\n",
    "# Impute null values using linear interpolation for 'Price' and 'Size_Bytes' columns\n",
    "df['Price'].interpolate(method='linear', inplace=True)\n",
    "df['Size_Bytes'].interpolate(method='linear', inplace=True)"
   ]
  },
  {
   "cell_type": "code",
   "execution_count": 19,
   "id": "2f649253",
   "metadata": {
    "execution": {
     "iopub.execute_input": "2024-01-30T19:24:39.474847Z",
     "iopub.status.busy": "2024-01-30T19:24:39.474367Z",
     "iopub.status.idle": "2024-01-30T19:24:41.815725Z",
     "shell.execute_reply": "2024-01-30T19:24:41.814509Z"
    },
    "papermill": {
     "duration": 2.376359,
     "end_time": "2024-01-30T19:24:41.818219",
     "exception": false,
     "start_time": "2024-01-30T19:24:39.441860",
     "status": "completed"
    },
    "tags": []
   },
   "outputs": [
    {
     "data": {
      "text/plain": [
       "Developer_Url              1109\n",
       "Released                      3\n",
       "App_Name                      1\n",
       "App_Id                        0\n",
       "Currency                      0\n",
       "Current_Version_Score         0\n",
       "Reviews                       0\n",
       "Average_User_Rating           0\n",
       "Developer                     0\n",
       "DeveloperId                   0\n",
       "Free                          0\n",
       "Price                         0\n",
       "Version                       0\n",
       "Updated                       0\n",
       "Required_IOS_Version          0\n",
       "Size_Bytes                    0\n",
       "Content_Rating                0\n",
       "Primary_Genre                 0\n",
       "AppStore_Url                  0\n",
       "Current_Version_Reviews       0\n",
       "dtype: int64"
      ]
     },
     "execution_count": 19,
     "metadata": {},
     "output_type": "execute_result"
    }
   ],
   "source": [
    "df.isnull().sum().sort_values(ascending=False)"
   ]
  },
  {
   "cell_type": "markdown",
   "id": "f0bfc9f9",
   "metadata": {
    "papermill": {
     "duration": 0.032497,
     "end_time": "2024-01-30T19:24:41.884334",
     "exception": false,
     "start_time": "2024-01-30T19:24:41.851837",
     "status": "completed"
    },
    "tags": []
   },
   "source": [
    "> We have successfully impute null values in `Price` and `Size_Bytes` column using linear interpolation method."
   ]
  },
  {
   "cell_type": "markdown",
   "id": "e3f7af65",
   "metadata": {
    "papermill": {
     "duration": 0.032497,
     "end_time": "2024-01-30T19:24:41.949194",
     "exception": false,
     "start_time": "2024-01-30T19:24:41.916697",
     "status": "completed"
    },
    "tags": []
   },
   "source": [
    "#### **5.2.2 Null values in `App Name`, `Released` and `Developer Url` column:**\n",
    "- When deciding whether to impute missing values or drop rows, it depends on the significance of the missing data and the impact on your analysis. Imputation is valuable when data loss is undesirable, as it retains more information for analysis. However, if the missing values are substantial or their imputation may introduce bias, dropping rows with missing values might be more appropriate to ensure data integrity."
   ]
  },
  {
   "cell_type": "markdown",
   "id": "4a4cb077",
   "metadata": {
    "papermill": {
     "duration": 0.032028,
     "end_time": "2024-01-30T19:24:42.012474",
     "exception": false,
     "start_time": "2024-01-30T19:24:41.980446",
     "status": "completed"
    },
    "tags": []
   },
   "source": [
    "#### **In case to impute null values:**\n",
    "1. We can try to write a code to replace the null value in the column *App_Name* by looking for same app_ID of the null row in other row with valid app_name value and same app_ID\n",
    "2. We can try to write a code to replace the null value in the column *Developer_Url* by looking for same app_ID of the null row in other row with valid app_name value and same app_ID\n",
    "3. We can try to write a code to replace the null value in the column *Released* by looking for same app_name of the null row in other row with valid app_name value and same app_ID"
   ]
  },
  {
   "cell_type": "markdown",
   "id": "f8a1c497",
   "metadata": {
    "papermill": {
     "duration": 0.032441,
     "end_time": "2024-01-30T19:24:42.077324",
     "exception": false,
     "start_time": "2024-01-30T19:24:42.044883",
     "status": "completed"
    },
    "tags": []
   },
   "source": [
    "#### **5.2.2.1 To only view rows where a column has missing value:**"
   ]
  },
  {
   "cell_type": "code",
   "execution_count": 20,
   "id": "515315ed",
   "metadata": {
    "execution": {
     "iopub.execute_input": "2024-01-30T19:24:42.146059Z",
     "iopub.status.busy": "2024-01-30T19:24:42.145602Z",
     "iopub.status.idle": "2024-01-30T19:24:42.253567Z",
     "shell.execute_reply": "2024-01-30T19:24:42.252054Z"
    },
    "papermill": {
     "duration": 0.145952,
     "end_time": "2024-01-30T19:24:42.256693",
     "exception": false,
     "start_time": "2024-01-30T19:24:42.110741",
     "status": "completed"
    },
    "tags": []
   },
   "outputs": [
    {
     "data": {
      "text/html": [
       "<div>\n",
       "<style scoped>\n",
       "    .dataframe tbody tr th:only-of-type {\n",
       "        vertical-align: middle;\n",
       "    }\n",
       "\n",
       "    .dataframe tbody tr th {\n",
       "        vertical-align: top;\n",
       "    }\n",
       "\n",
       "    .dataframe thead th {\n",
       "        text-align: right;\n",
       "    }\n",
       "</style>\n",
       "<table border=\"1\" class=\"dataframe\">\n",
       "  <thead>\n",
       "    <tr style=\"text-align: right;\">\n",
       "      <th></th>\n",
       "      <th>App_Id</th>\n",
       "      <th>App_Name</th>\n",
       "      <th>AppStore_Url</th>\n",
       "      <th>Primary_Genre</th>\n",
       "      <th>Content_Rating</th>\n",
       "      <th>Size_Bytes</th>\n",
       "      <th>Required_IOS_Version</th>\n",
       "      <th>Released</th>\n",
       "      <th>Updated</th>\n",
       "      <th>Version</th>\n",
       "      <th>Price</th>\n",
       "      <th>Currency</th>\n",
       "      <th>Free</th>\n",
       "      <th>DeveloperId</th>\n",
       "      <th>Developer</th>\n",
       "      <th>Developer_Url</th>\n",
       "      <th>Average_User_Rating</th>\n",
       "      <th>Reviews</th>\n",
       "      <th>Current_Version_Score</th>\n",
       "      <th>Current_Version_Reviews</th>\n",
       "    </tr>\n",
       "  </thead>\n",
       "  <tbody>\n",
       "    <tr>\n",
       "      <th>964888</th>\n",
       "      <td>se.promedia.NA</td>\n",
       "      <td>NaN</td>\n",
       "      <td>https://apps.apple.com/us/app/na/id449134868?uo=4</td>\n",
       "      <td>News</td>\n",
       "      <td>4+</td>\n",
       "      <td>19528704.0</td>\n",
       "      <td>9.0</td>\n",
       "      <td>2011-08-08T11:45:30Z</td>\n",
       "      <td>2020-12-21T14:08:02Z</td>\n",
       "      <td>8.1.2</td>\n",
       "      <td>0.0</td>\n",
       "      <td>USD</td>\n",
       "      <td>True</td>\n",
       "      <td>449134871</td>\n",
       "      <td>Promedia</td>\n",
       "      <td>https://apps.apple.com/us/developer/promedia/i...</td>\n",
       "      <td>5.0</td>\n",
       "      <td>1</td>\n",
       "      <td>5.0</td>\n",
       "      <td>1</td>\n",
       "    </tr>\n",
       "  </tbody>\n",
       "</table>\n",
       "</div>"
      ],
      "text/plain": [
       "                App_Id App_Name  \\\n",
       "964888  se.promedia.NA      NaN   \n",
       "\n",
       "                                             AppStore_Url Primary_Genre  \\\n",
       "964888  https://apps.apple.com/us/app/na/id449134868?uo=4          News   \n",
       "\n",
       "       Content_Rating  Size_Bytes Required_IOS_Version              Released  \\\n",
       "964888             4+  19528704.0                  9.0  2011-08-08T11:45:30Z   \n",
       "\n",
       "                     Updated Version  Price Currency  Free  DeveloperId  \\\n",
       "964888  2020-12-21T14:08:02Z   8.1.2    0.0      USD  True    449134871   \n",
       "\n",
       "       Developer                                      Developer_Url  \\\n",
       "964888  Promedia  https://apps.apple.com/us/developer/promedia/i...   \n",
       "\n",
       "        Average_User_Rating  Reviews  Current_Version_Score  \\\n",
       "964888                  5.0        1                    5.0   \n",
       "\n",
       "        Current_Version_Reviews  \n",
       "964888                        1  "
      ]
     },
     "execution_count": 20,
     "metadata": {},
     "output_type": "execute_result"
    }
   ],
   "source": [
    "# App Name\n",
    "df[df['App_Name'].isnull()].head()"
   ]
  },
  {
   "cell_type": "code",
   "execution_count": 21,
   "id": "1abb003d",
   "metadata": {
    "execution": {
     "iopub.execute_input": "2024-01-30T19:24:42.323929Z",
     "iopub.status.busy": "2024-01-30T19:24:42.323431Z",
     "iopub.status.idle": "2024-01-30T19:24:42.409605Z",
     "shell.execute_reply": "2024-01-30T19:24:42.408206Z"
    },
    "papermill": {
     "duration": 0.12337,
     "end_time": "2024-01-30T19:24:42.412433",
     "exception": false,
     "start_time": "2024-01-30T19:24:42.289063",
     "status": "completed"
    },
    "tags": []
   },
   "outputs": [
    {
     "data": {
      "text/html": [
       "<div>\n",
       "<style scoped>\n",
       "    .dataframe tbody tr th:only-of-type {\n",
       "        vertical-align: middle;\n",
       "    }\n",
       "\n",
       "    .dataframe tbody tr th {\n",
       "        vertical-align: top;\n",
       "    }\n",
       "\n",
       "    .dataframe thead th {\n",
       "        text-align: right;\n",
       "    }\n",
       "</style>\n",
       "<table border=\"1\" class=\"dataframe\">\n",
       "  <thead>\n",
       "    <tr style=\"text-align: right;\">\n",
       "      <th></th>\n",
       "      <th>App_Id</th>\n",
       "      <th>App_Name</th>\n",
       "      <th>AppStore_Url</th>\n",
       "      <th>Primary_Genre</th>\n",
       "      <th>Content_Rating</th>\n",
       "      <th>Size_Bytes</th>\n",
       "      <th>Required_IOS_Version</th>\n",
       "      <th>Released</th>\n",
       "      <th>Updated</th>\n",
       "      <th>Version</th>\n",
       "      <th>Price</th>\n",
       "      <th>Currency</th>\n",
       "      <th>Free</th>\n",
       "      <th>DeveloperId</th>\n",
       "      <th>Developer</th>\n",
       "      <th>Developer_Url</th>\n",
       "      <th>Average_User_Rating</th>\n",
       "      <th>Reviews</th>\n",
       "      <th>Current_Version_Score</th>\n",
       "      <th>Current_Version_Reviews</th>\n",
       "    </tr>\n",
       "  </thead>\n",
       "  <tbody>\n",
       "    <tr>\n",
       "      <th>264853</th>\n",
       "      <td>com.ironhidegames.frontiers.universal.premium</td>\n",
       "      <td>Kingdom Rush Frontiers TD+</td>\n",
       "      <td>https://apps.apple.com/us/app/kingdom-rush-fro...</td>\n",
       "      <td>Games</td>\n",
       "      <td>12+</td>\n",
       "      <td>287834263.0</td>\n",
       "      <td>13.0</td>\n",
       "      <td>NaN</td>\n",
       "      <td>2021-11-12T08:00:00Z</td>\n",
       "      <td>5.4.15</td>\n",
       "      <td>5.99</td>\n",
       "      <td>USD</td>\n",
       "      <td>False</td>\n",
       "      <td>1542047256</td>\n",
       "      <td>Ironhide Irl</td>\n",
       "      <td>https://apps.apple.com/us/developer/ironhide-i...</td>\n",
       "      <td>0.0</td>\n",
       "      <td>0</td>\n",
       "      <td>0.0</td>\n",
       "      <td>0</td>\n",
       "    </tr>\n",
       "    <tr>\n",
       "      <th>836858</th>\n",
       "      <td>com.redgamesco.transformers</td>\n",
       "      <td>Transformers: Tactical Arena</td>\n",
       "      <td>https://apps.apple.com/us/app/transformers-tac...</td>\n",
       "      <td>Games</td>\n",
       "      <td>9+</td>\n",
       "      <td>245046272.0</td>\n",
       "      <td>13.5.0</td>\n",
       "      <td>NaN</td>\n",
       "      <td>2021-11-05T07:00:00Z</td>\n",
       "      <td>0.1</td>\n",
       "      <td>0.00</td>\n",
       "      <td>USD</td>\n",
       "      <td>False</td>\n",
       "      <td>1456007507</td>\n",
       "      <td>RED GAMES CO, LLC</td>\n",
       "      <td>https://apps.apple.com/us/developer/red-games-...</td>\n",
       "      <td>0.0</td>\n",
       "      <td>0</td>\n",
       "      <td>0.0</td>\n",
       "      <td>0</td>\n",
       "    </tr>\n",
       "    <tr>\n",
       "      <th>919513</th>\n",
       "      <td>com.crayolallc.crayola-create-and-play-plus</td>\n",
       "      <td>Crayola Create and Play+</td>\n",
       "      <td>https://apps.apple.com/us/app/crayola-create-a...</td>\n",
       "      <td>Games</td>\n",
       "      <td>4+</td>\n",
       "      <td>92620800.0</td>\n",
       "      <td>13</td>\n",
       "      <td>NaN</td>\n",
       "      <td>2021-10-29T07:00:00Z</td>\n",
       "      <td>1.52</td>\n",
       "      <td>0.00</td>\n",
       "      <td>USD</td>\n",
       "      <td>False</td>\n",
       "      <td>1456007507</td>\n",
       "      <td>RED GAMES CO, LLC</td>\n",
       "      <td>https://apps.apple.com/us/developer/red-games-...</td>\n",
       "      <td>0.0</td>\n",
       "      <td>0</td>\n",
       "      <td>0.0</td>\n",
       "      <td>0</td>\n",
       "    </tr>\n",
       "  </tbody>\n",
       "</table>\n",
       "</div>"
      ],
      "text/plain": [
       "                                               App_Id  \\\n",
       "264853  com.ironhidegames.frontiers.universal.premium   \n",
       "836858                    com.redgamesco.transformers   \n",
       "919513    com.crayolallc.crayola-create-and-play-plus   \n",
       "\n",
       "                            App_Name  \\\n",
       "264853    Kingdom Rush Frontiers TD+   \n",
       "836858  Transformers: Tactical Arena   \n",
       "919513      Crayola Create and Play+   \n",
       "\n",
       "                                             AppStore_Url Primary_Genre  \\\n",
       "264853  https://apps.apple.com/us/app/kingdom-rush-fro...         Games   \n",
       "836858  https://apps.apple.com/us/app/transformers-tac...         Games   \n",
       "919513  https://apps.apple.com/us/app/crayola-create-a...         Games   \n",
       "\n",
       "       Content_Rating   Size_Bytes Required_IOS_Version Released  \\\n",
       "264853            12+  287834263.0                 13.0      NaN   \n",
       "836858             9+  245046272.0               13.5.0      NaN   \n",
       "919513             4+   92620800.0                   13      NaN   \n",
       "\n",
       "                     Updated Version  Price Currency   Free  DeveloperId  \\\n",
       "264853  2021-11-12T08:00:00Z  5.4.15   5.99      USD  False   1542047256   \n",
       "836858  2021-11-05T07:00:00Z     0.1   0.00      USD  False   1456007507   \n",
       "919513  2021-10-29T07:00:00Z    1.52   0.00      USD  False   1456007507   \n",
       "\n",
       "                Developer                                      Developer_Url  \\\n",
       "264853       Ironhide Irl  https://apps.apple.com/us/developer/ironhide-i...   \n",
       "836858  RED GAMES CO, LLC  https://apps.apple.com/us/developer/red-games-...   \n",
       "919513  RED GAMES CO, LLC  https://apps.apple.com/us/developer/red-games-...   \n",
       "\n",
       "        Average_User_Rating  Reviews  Current_Version_Score  \\\n",
       "264853                  0.0        0                    0.0   \n",
       "836858                  0.0        0                    0.0   \n",
       "919513                  0.0        0                    0.0   \n",
       "\n",
       "        Current_Version_Reviews  \n",
       "264853                        0  \n",
       "836858                        0  \n",
       "919513                        0  "
      ]
     },
     "execution_count": 21,
     "metadata": {},
     "output_type": "execute_result"
    }
   ],
   "source": [
    "# Released\n",
    "df[df['Released'].isnull()].head()"
   ]
  },
  {
   "cell_type": "code",
   "execution_count": 22,
   "id": "f533828c",
   "metadata": {
    "execution": {
     "iopub.execute_input": "2024-01-30T19:24:42.568399Z",
     "iopub.status.busy": "2024-01-30T19:24:42.567938Z",
     "iopub.status.idle": "2024-01-30T19:24:42.672835Z",
     "shell.execute_reply": "2024-01-30T19:24:42.671625Z"
    },
    "papermill": {
     "duration": 0.228059,
     "end_time": "2024-01-30T19:24:42.675461",
     "exception": false,
     "start_time": "2024-01-30T19:24:42.447402",
     "status": "completed"
    },
    "tags": []
   },
   "outputs": [
    {
     "data": {
      "text/html": [
       "<div>\n",
       "<style scoped>\n",
       "    .dataframe tbody tr th:only-of-type {\n",
       "        vertical-align: middle;\n",
       "    }\n",
       "\n",
       "    .dataframe tbody tr th {\n",
       "        vertical-align: top;\n",
       "    }\n",
       "\n",
       "    .dataframe thead th {\n",
       "        text-align: right;\n",
       "    }\n",
       "</style>\n",
       "<table border=\"1\" class=\"dataframe\">\n",
       "  <thead>\n",
       "    <tr style=\"text-align: right;\">\n",
       "      <th></th>\n",
       "      <th>App_Id</th>\n",
       "      <th>App_Name</th>\n",
       "      <th>AppStore_Url</th>\n",
       "      <th>Primary_Genre</th>\n",
       "      <th>Content_Rating</th>\n",
       "      <th>Size_Bytes</th>\n",
       "      <th>Required_IOS_Version</th>\n",
       "      <th>Released</th>\n",
       "      <th>Updated</th>\n",
       "      <th>Version</th>\n",
       "      <th>Price</th>\n",
       "      <th>Currency</th>\n",
       "      <th>Free</th>\n",
       "      <th>DeveloperId</th>\n",
       "      <th>Developer</th>\n",
       "      <th>Developer_Url</th>\n",
       "      <th>Average_User_Rating</th>\n",
       "      <th>Reviews</th>\n",
       "      <th>Current_Version_Score</th>\n",
       "      <th>Current_Version_Reviews</th>\n",
       "    </tr>\n",
       "  </thead>\n",
       "  <tbody>\n",
       "    <tr>\n",
       "      <th>2382</th>\n",
       "      <td>com.TroopAdmin2</td>\n",
       "      <td>C&amp;S Troop Admin</td>\n",
       "      <td>https://apps.apple.com/us/app/c-s-troop-admin/...</td>\n",
       "      <td>Business</td>\n",
       "      <td>4+</td>\n",
       "      <td>87355392.0</td>\n",
       "      <td>10.0</td>\n",
       "      <td>2021-06-04T07:00:00Z</td>\n",
       "      <td>2021-06-05T03:40:31Z</td>\n",
       "      <td>1.0</td>\n",
       "      <td>0.0</td>\n",
       "      <td>USD</td>\n",
       "      <td>True</td>\n",
       "      <td>1569780624</td>\n",
       "      <td>Hunter Biscuit &amp; Wolf Limited</td>\n",
       "      <td>NaN</td>\n",
       "      <td>0.00000</td>\n",
       "      <td>0</td>\n",
       "      <td>0.00000</td>\n",
       "      <td>0</td>\n",
       "    </tr>\n",
       "    <tr>\n",
       "      <th>2827</th>\n",
       "      <td>com.dhrubajyoti.bangla</td>\n",
       "      <td>Bangla Rhymes</td>\n",
       "      <td>https://apps.apple.com/us/app/bangla-rhymes/id...</td>\n",
       "      <td>Education</td>\n",
       "      <td>4+</td>\n",
       "      <td>56445952.0</td>\n",
       "      <td>9.1</td>\n",
       "      <td>2019-03-23T18:27:49Z</td>\n",
       "      <td>2019-03-23T18:27:49Z</td>\n",
       "      <td>1.0.1</td>\n",
       "      <td>0.0</td>\n",
       "      <td>USD</td>\n",
       "      <td>True</td>\n",
       "      <td>1452131894</td>\n",
       "      <td>Dhrubajyoti Dey</td>\n",
       "      <td>NaN</td>\n",
       "      <td>5.00000</td>\n",
       "      <td>5</td>\n",
       "      <td>5.00000</td>\n",
       "      <td>5</td>\n",
       "    </tr>\n",
       "    <tr>\n",
       "      <th>3498</th>\n",
       "      <td>com.f1rstmotors.f1rstmotors</td>\n",
       "      <td>F1RST MOTORS</td>\n",
       "      <td>https://apps.apple.com/us/app/f1rst-motors/id1...</td>\n",
       "      <td>Business</td>\n",
       "      <td>4+</td>\n",
       "      <td>77185024.0</td>\n",
       "      <td>13.0</td>\n",
       "      <td>2021-10-06T07:00:00Z</td>\n",
       "      <td>2021-10-06T12:15:27Z</td>\n",
       "      <td>1.0</td>\n",
       "      <td>0.0</td>\n",
       "      <td>USD</td>\n",
       "      <td>True</td>\n",
       "      <td>1588267041</td>\n",
       "      <td>F1RST MOTORS LLC</td>\n",
       "      <td>NaN</td>\n",
       "      <td>0.00000</td>\n",
       "      <td>0</td>\n",
       "      <td>0.00000</td>\n",
       "      <td>0</td>\n",
       "    </tr>\n",
       "    <tr>\n",
       "      <th>5820</th>\n",
       "      <td>tr.com.okuvaryum.mobil</td>\n",
       "      <td>Okuvaryum</td>\n",
       "      <td>https://apps.apple.com/us/app/okuvaryum/id1493...</td>\n",
       "      <td>Education</td>\n",
       "      <td>4+</td>\n",
       "      <td>79869952.0</td>\n",
       "      <td>11.0</td>\n",
       "      <td>2020-01-17T08:00:00Z</td>\n",
       "      <td>2021-05-29T15:20:58Z</td>\n",
       "      <td>1.0.21</td>\n",
       "      <td>0.0</td>\n",
       "      <td>USD</td>\n",
       "      <td>True</td>\n",
       "      <td>1589915483</td>\n",
       "      <td>OKUVARYUM EGITIM VE TEKNOLOJI ANONIM SIRKETI</td>\n",
       "      <td>NaN</td>\n",
       "      <td>4.44444</td>\n",
       "      <td>9</td>\n",
       "      <td>4.44444</td>\n",
       "      <td>9</td>\n",
       "    </tr>\n",
       "    <tr>\n",
       "      <th>5821</th>\n",
       "      <td>tr.com.okuvaryum.okul</td>\n",
       "      <td>Okuvaryum Okul</td>\n",
       "      <td>https://apps.apple.com/us/app/okuvaryum-okul/i...</td>\n",
       "      <td>Education</td>\n",
       "      <td>4+</td>\n",
       "      <td>39526400.0</td>\n",
       "      <td>11.0</td>\n",
       "      <td>2021-08-25T07:00:00Z</td>\n",
       "      <td>2021-10-08T17:07:59Z</td>\n",
       "      <td>1.0.2</td>\n",
       "      <td>0.0</td>\n",
       "      <td>USD</td>\n",
       "      <td>True</td>\n",
       "      <td>1589915483</td>\n",
       "      <td>OKUVARYUM EGITIM VE TEKNOLOJI ANONIM SIRKETI</td>\n",
       "      <td>NaN</td>\n",
       "      <td>0.00000</td>\n",
       "      <td>0</td>\n",
       "      <td>0.00000</td>\n",
       "      <td>0</td>\n",
       "    </tr>\n",
       "  </tbody>\n",
       "</table>\n",
       "</div>"
      ],
      "text/plain": [
       "                           App_Id         App_Name  \\\n",
       "2382              com.TroopAdmin2  C&S Troop Admin   \n",
       "2827       com.dhrubajyoti.bangla    Bangla Rhymes   \n",
       "3498  com.f1rstmotors.f1rstmotors     F1RST MOTORS   \n",
       "5820       tr.com.okuvaryum.mobil        Okuvaryum   \n",
       "5821        tr.com.okuvaryum.okul   Okuvaryum Okul   \n",
       "\n",
       "                                           AppStore_Url Primary_Genre  \\\n",
       "2382  https://apps.apple.com/us/app/c-s-troop-admin/...      Business   \n",
       "2827  https://apps.apple.com/us/app/bangla-rhymes/id...     Education   \n",
       "3498  https://apps.apple.com/us/app/f1rst-motors/id1...      Business   \n",
       "5820  https://apps.apple.com/us/app/okuvaryum/id1493...     Education   \n",
       "5821  https://apps.apple.com/us/app/okuvaryum-okul/i...     Education   \n",
       "\n",
       "     Content_Rating  Size_Bytes Required_IOS_Version              Released  \\\n",
       "2382             4+  87355392.0                 10.0  2021-06-04T07:00:00Z   \n",
       "2827             4+  56445952.0                  9.1  2019-03-23T18:27:49Z   \n",
       "3498             4+  77185024.0                 13.0  2021-10-06T07:00:00Z   \n",
       "5820             4+  79869952.0                 11.0  2020-01-17T08:00:00Z   \n",
       "5821             4+  39526400.0                 11.0  2021-08-25T07:00:00Z   \n",
       "\n",
       "                   Updated Version  Price Currency  Free  DeveloperId  \\\n",
       "2382  2021-06-05T03:40:31Z     1.0    0.0      USD  True   1569780624   \n",
       "2827  2019-03-23T18:27:49Z   1.0.1    0.0      USD  True   1452131894   \n",
       "3498  2021-10-06T12:15:27Z     1.0    0.0      USD  True   1588267041   \n",
       "5820  2021-05-29T15:20:58Z  1.0.21    0.0      USD  True   1589915483   \n",
       "5821  2021-10-08T17:07:59Z   1.0.2    0.0      USD  True   1589915483   \n",
       "\n",
       "                                         Developer Developer_Url  \\\n",
       "2382                 Hunter Biscuit & Wolf Limited           NaN   \n",
       "2827                               Dhrubajyoti Dey           NaN   \n",
       "3498                              F1RST MOTORS LLC           NaN   \n",
       "5820  OKUVARYUM EGITIM VE TEKNOLOJI ANONIM SIRKETI           NaN   \n",
       "5821  OKUVARYUM EGITIM VE TEKNOLOJI ANONIM SIRKETI           NaN   \n",
       "\n",
       "      Average_User_Rating  Reviews  Current_Version_Score  \\\n",
       "2382              0.00000        0                0.00000   \n",
       "2827              5.00000        5                5.00000   \n",
       "3498              0.00000        0                0.00000   \n",
       "5820              4.44444        9                4.44444   \n",
       "5821              0.00000        0                0.00000   \n",
       "\n",
       "      Current_Version_Reviews  \n",
       "2382                        0  \n",
       "2827                        5  \n",
       "3498                        0  \n",
       "5820                        9  \n",
       "5821                        0  "
      ]
     },
     "execution_count": 22,
     "metadata": {},
     "output_type": "execute_result"
    }
   ],
   "source": [
    "# Developer_Url\n",
    "df[df['Developer_Url'].isnull()].head()"
   ]
  },
  {
   "cell_type": "markdown",
   "id": "9765fe4b",
   "metadata": {
    "papermill": {
     "duration": 0.033626,
     "end_time": "2024-01-30T19:24:42.742305",
     "exception": false,
     "start_time": "2024-01-30T19:24:42.708679",
     "status": "completed"
    },
    "tags": []
   },
   "source": [
    "#### ***Important note:***\n",
    "- Exercise caution when handling null values, particularly in cases where unique identifiers like `App_ID` and `App_Name` are involved. When faced with null values in rows where `Released` is also null, filling these values can pose challenges. To ensure the integrity of your data, it's advisable to adopt a selective approach. Rather than filling null values indiscriminately, consider a targeted approach by removing rows only when `Developer_Url`, `Released`, and `App_Name` are all null. This approach helps preserve data quality while mitigating the risks associated with potentially complex null value imputation."
   ]
  },
  {
   "cell_type": "code",
   "execution_count": 23,
   "id": "99a83a03",
   "metadata": {
    "execution": {
     "iopub.execute_input": "2024-01-30T19:24:42.811328Z",
     "iopub.status.busy": "2024-01-30T19:24:42.810922Z",
     "iopub.status.idle": "2024-01-30T19:24:42.816866Z",
     "shell.execute_reply": "2024-01-30T19:24:42.815599Z"
    },
    "papermill": {
     "duration": 0.043637,
     "end_time": "2024-01-30T19:24:42.819004",
     "exception": false,
     "start_time": "2024-01-30T19:24:42.775367",
     "status": "completed"
    },
    "tags": []
   },
   "outputs": [],
   "source": [
    "# Create a mapping dictionary based on either App_Id or App_Name\n",
    "# if 'App_Id' in df.columns:\n",
    "#     app_map = df.dropna(subset=['Developer_Url', 'App_Id']).set_index('App_Id')['Developer_Url'].to_dict()\n",
    "# else:\n",
    "#     app_map = df.dropna(subset=['Developer_Url', 'App_Name']).set_index('App_Name')['Developer_Url'].to_dict()\n",
    "\n",
    "# # Replace NaN values with released date from app_map using app_id or app_name\n",
    "# if 'App_Id' in df.columns:\n",
    "#     df['Developer_Url'] = df.apply(lambda row: app_map[row['App_Id']] if pd.isna(row['Developer_Url']) else row['Developer_Url'], axis=1)\n",
    "# else:\n",
    "#     df['Developer_Url'] = df.apply(lambda row: app_map[row['App_Name']] if pd.isna(row['Developer_Url']) else row['Developer_Url'], axis=1)"
   ]
  },
  {
   "cell_type": "markdown",
   "id": "9e3e8b74",
   "metadata": {
    "papermill": {
     "duration": 0.033014,
     "end_time": "2024-01-30T19:24:42.888031",
     "exception": false,
     "start_time": "2024-01-30T19:24:42.855017",
     "status": "completed"
    },
    "tags": []
   },
   "source": [
    "#### **In case to drop null values:**"
   ]
  },
  {
   "cell_type": "code",
   "execution_count": 24,
   "id": "5920d579",
   "metadata": {
    "execution": {
     "iopub.execute_input": "2024-01-30T19:24:42.956762Z",
     "iopub.status.busy": "2024-01-30T19:24:42.956315Z",
     "iopub.status.idle": "2024-01-30T19:24:43.990232Z",
     "shell.execute_reply": "2024-01-30T19:24:43.989104Z"
    },
    "papermill": {
     "duration": 1.072145,
     "end_time": "2024-01-30T19:24:43.992879",
     "exception": false,
     "start_time": "2024-01-30T19:24:42.920734",
     "status": "completed"
    },
    "tags": []
   },
   "outputs": [],
   "source": [
    "df.dropna(subset=['App_Name', 'Released', 'Developer_Url'], inplace=True)"
   ]
  },
  {
   "cell_type": "code",
   "execution_count": 25,
   "id": "63bddafe",
   "metadata": {
    "execution": {
     "iopub.execute_input": "2024-01-30T19:24:44.062304Z",
     "iopub.status.busy": "2024-01-30T19:24:44.061892Z",
     "iopub.status.idle": "2024-01-30T19:24:46.298053Z",
     "shell.execute_reply": "2024-01-30T19:24:46.296815Z"
    },
    "papermill": {
     "duration": 2.273886,
     "end_time": "2024-01-30T19:24:46.300641",
     "exception": false,
     "start_time": "2024-01-30T19:24:44.026755",
     "status": "completed"
    },
    "tags": []
   },
   "outputs": [
    {
     "data": {
      "text/plain": [
       "App_Id                     0\n",
       "App_Name                   0\n",
       "AppStore_Url               0\n",
       "Primary_Genre              0\n",
       "Content_Rating             0\n",
       "Size_Bytes                 0\n",
       "Required_IOS_Version       0\n",
       "Released                   0\n",
       "Updated                    0\n",
       "Version                    0\n",
       "Price                      0\n",
       "Currency                   0\n",
       "Free                       0\n",
       "DeveloperId                0\n",
       "Developer                  0\n",
       "Developer_Url              0\n",
       "Average_User_Rating        0\n",
       "Reviews                    0\n",
       "Current_Version_Score      0\n",
       "Current_Version_Reviews    0\n",
       "dtype: int64"
      ]
     },
     "execution_count": 25,
     "metadata": {},
     "output_type": "execute_result"
    }
   ],
   "source": [
    "# View missing values in the dataframe\n",
    "df.isnull().sum()"
   ]
  },
  {
   "cell_type": "markdown",
   "id": "04c5b292",
   "metadata": {
    "papermill": {
     "duration": 0.03489,
     "end_time": "2024-01-30T19:24:46.369319",
     "exception": false,
     "start_time": "2024-01-30T19:24:46.334429",
     "status": "completed"
    },
    "tags": []
   },
   "source": [
    "> You can use any approach, either imputing missing values or dropping missing values from the `App_Name`, `Released` and `Developer_Url`"
   ]
  },
  {
   "cell_type": "markdown",
   "id": "6d0a6c17",
   "metadata": {
    "papermill": {
     "duration": 0.033036,
     "end_time": "2024-01-30T19:24:46.435791",
     "exception": false,
     "start_time": "2024-01-30T19:24:46.402755",
     "status": "completed"
    },
    "tags": []
   },
   "source": [
    "#### **Milestone 1:** We have successfully cleaned the dataset from null values 🥳"
   ]
  },
  {
   "cell_type": "markdown",
   "id": "c4c49777",
   "metadata": {
    "papermill": {
     "duration": 0.032465,
     "end_time": "2024-01-30T19:24:46.502598",
     "exception": false,
     "start_time": "2024-01-30T19:24:46.470133",
     "status": "completed"
    },
    "tags": []
   },
   "source": [
    "### **5.3 Handling Duplicates:**\n",
    "Let's see if there is any duplicates in our dataset and analyze them if they are valid duplicates."
   ]
  },
  {
   "cell_type": "code",
   "execution_count": 26,
   "id": "f07747e4",
   "metadata": {
    "execution": {
     "iopub.execute_input": "2024-01-30T19:24:46.570072Z",
     "iopub.status.busy": "2024-01-30T19:24:46.569668Z",
     "iopub.status.idle": "2024-01-30T19:24:50.861162Z",
     "shell.execute_reply": "2024-01-30T19:24:50.859530Z"
    },
    "papermill": {
     "duration": 4.329664,
     "end_time": "2024-01-30T19:24:50.864970",
     "exception": false,
     "start_time": "2024-01-30T19:24:46.535306",
     "status": "completed"
    },
    "tags": []
   },
   "outputs": [
    {
     "data": {
      "text/plain": [
       "False"
      ]
     },
     "execution_count": 26,
     "metadata": {},
     "output_type": "execute_result"
    }
   ],
   "source": [
    "df.duplicated().any()"
   ]
  },
  {
   "cell_type": "markdown",
   "id": "1d0c67c4",
   "metadata": {
    "papermill": {
     "duration": 0.033301,
     "end_time": "2024-01-30T19:24:50.940613",
     "exception": false,
     "start_time": "2024-01-30T19:24:50.907312",
     "status": "completed"
    },
    "tags": []
   },
   "source": [
    "Let's analyze column by column, firstly by checking unique values in different columns."
   ]
  },
  {
   "cell_type": "code",
   "execution_count": 27,
   "id": "64116877",
   "metadata": {
    "execution": {
     "iopub.execute_input": "2024-01-30T19:24:51.013903Z",
     "iopub.status.busy": "2024-01-30T19:24:51.012910Z",
     "iopub.status.idle": "2024-01-30T19:24:51.422889Z",
     "shell.execute_reply": "2024-01-30T19:24:51.421751Z"
    },
    "papermill": {
     "duration": 0.450174,
     "end_time": "2024-01-30T19:24:51.425414",
     "exception": false,
     "start_time": "2024-01-30T19:24:50.975240",
     "status": "completed"
    },
    "tags": []
   },
   "outputs": [
    {
     "data": {
      "text/plain": [
       "1222413"
      ]
     },
     "execution_count": 27,
     "metadata": {},
     "output_type": "execute_result"
    }
   ],
   "source": [
    "df['App_Name'].nunique()"
   ]
  },
  {
   "cell_type": "markdown",
   "id": "54fef552",
   "metadata": {
    "papermill": {
     "duration": 0.034773,
     "end_time": "2024-01-30T19:24:51.496647",
     "exception": false,
     "start_time": "2024-01-30T19:24:51.461874",
     "status": "completed"
    },
    "tags": []
   },
   "source": [
    "- As the number of unique values -> 1222413 is less then the number of total rows in the dataset 1230376. It means there are some duplicate values in `App_Name` column."
   ]
  },
  {
   "cell_type": "markdown",
   "id": "15edb285",
   "metadata": {
    "papermill": {
     "duration": 0.034677,
     "end_time": "2024-01-30T19:24:51.566072",
     "exception": false,
     "start_time": "2024-01-30T19:24:51.531395",
     "status": "completed"
    },
    "tags": []
   },
   "source": [
    "#### **5.3.1 Value counts in App_Name to check duplicates:**\n",
    "It will show that how many App names are there with same name."
   ]
  },
  {
   "cell_type": "code",
   "execution_count": 28,
   "id": "ce153b00",
   "metadata": {
    "execution": {
     "iopub.execute_input": "2024-01-30T19:24:51.639415Z",
     "iopub.status.busy": "2024-01-30T19:24:51.638922Z",
     "iopub.status.idle": "2024-01-30T19:24:53.194283Z",
     "shell.execute_reply": "2024-01-30T19:24:53.193093Z"
    },
    "papermill": {
     "duration": 1.595047,
     "end_time": "2024-01-30T19:24:53.197157",
     "exception": false,
     "start_time": "2024-01-30T19:24:51.602110",
     "status": "completed"
    },
    "tags": []
   },
   "outputs": [
    {
     "data": {
      "text/plain": [
       "Vanguard              6\n",
       "Linker                5\n",
       "Bloom                 5\n",
       "Currency Converter    4\n",
       "Awaken                4\n",
       "                     ..\n",
       "TwoFactor             1\n",
       "TWOTOO                1\n",
       "TwoWayStreaming       1\n",
       "TWSpeed Telecom       1\n",
       "Sổ Điểm Thông Minh    1\n",
       "Name: App_Name, Length: 1222413, dtype: int64"
      ]
     },
     "execution_count": 28,
     "metadata": {},
     "output_type": "execute_result"
    }
   ],
   "source": [
    "df['App_Name'].value_counts().sort_values(ascending=False)"
   ]
  },
  {
   "cell_type": "markdown",
   "id": "610128ae",
   "metadata": {
    "papermill": {
     "duration": 0.034762,
     "end_time": "2024-01-30T19:24:53.267344",
     "exception": false,
     "start_time": "2024-01-30T19:24:53.232582",
     "status": "completed"
    },
    "tags": []
   },
   "source": [
    "- From the above cell output we can see that `App_Name` column has multiple duplicated rows. Let's check out that if data in those rows is identical or not."
   ]
  },
  {
   "cell_type": "markdown",
   "id": "70a505cf",
   "metadata": {
    "papermill": {
     "duration": 0.034104,
     "end_time": "2024-01-30T19:24:53.335441",
     "exception": false,
     "start_time": "2024-01-30T19:24:53.301337",
     "status": "completed"
    },
    "tags": []
   },
   "source": [
    "#### **5.3.2 Duplicates in App_Name column:**\n",
    "Let's analyze if they are valid duplicates."
   ]
  },
  {
   "cell_type": "code",
   "execution_count": 29,
   "id": "6fa4656b",
   "metadata": {
    "execution": {
     "iopub.execute_input": "2024-01-30T19:24:53.409787Z",
     "iopub.status.busy": "2024-01-30T19:24:53.409355Z",
     "iopub.status.idle": "2024-01-30T19:24:53.520161Z",
     "shell.execute_reply": "2024-01-30T19:24:53.518430Z"
    },
    "papermill": {
     "duration": 0.151413,
     "end_time": "2024-01-30T19:24:53.522977",
     "exception": false,
     "start_time": "2024-01-30T19:24:53.371564",
     "status": "completed"
    },
    "tags": []
   },
   "outputs": [
    {
     "data": {
      "text/html": [
       "<div>\n",
       "<style scoped>\n",
       "    .dataframe tbody tr th:only-of-type {\n",
       "        vertical-align: middle;\n",
       "    }\n",
       "\n",
       "    .dataframe tbody tr th {\n",
       "        vertical-align: top;\n",
       "    }\n",
       "\n",
       "    .dataframe thead th {\n",
       "        text-align: right;\n",
       "    }\n",
       "</style>\n",
       "<table border=\"1\" class=\"dataframe\">\n",
       "  <thead>\n",
       "    <tr style=\"text-align: right;\">\n",
       "      <th></th>\n",
       "      <th>App_Id</th>\n",
       "      <th>App_Name</th>\n",
       "      <th>AppStore_Url</th>\n",
       "      <th>Primary_Genre</th>\n",
       "      <th>Content_Rating</th>\n",
       "      <th>Size_Bytes</th>\n",
       "      <th>Required_IOS_Version</th>\n",
       "      <th>Released</th>\n",
       "      <th>Updated</th>\n",
       "      <th>Version</th>\n",
       "      <th>Price</th>\n",
       "      <th>Currency</th>\n",
       "      <th>Free</th>\n",
       "      <th>DeveloperId</th>\n",
       "      <th>Developer</th>\n",
       "      <th>Developer_Url</th>\n",
       "      <th>Average_User_Rating</th>\n",
       "      <th>Reviews</th>\n",
       "      <th>Current_Version_Score</th>\n",
       "      <th>Current_Version_Reviews</th>\n",
       "    </tr>\n",
       "  </thead>\n",
       "  <tbody>\n",
       "    <tr>\n",
       "      <th>478488</th>\n",
       "      <td>com.vanguard.app</td>\n",
       "      <td>Vanguard</td>\n",
       "      <td>https://apps.apple.com/us/app/vanguard/id33518...</td>\n",
       "      <td>Finance</td>\n",
       "      <td>4+</td>\n",
       "      <td>160800768.0</td>\n",
       "      <td>10.0</td>\n",
       "      <td>2009-10-24T19:14:54Z</td>\n",
       "      <td>2021-08-26T19:55:20Z</td>\n",
       "      <td>11.14</td>\n",
       "      <td>0.0</td>\n",
       "      <td>USD</td>\n",
       "      <td>True</td>\n",
       "      <td>335186212</td>\n",
       "      <td>The Vanguard Group, Inc.</td>\n",
       "      <td>https://apps.apple.com/us/developer/the-vangua...</td>\n",
       "      <td>4.73977</td>\n",
       "      <td>167472</td>\n",
       "      <td>4.73977</td>\n",
       "      <td>167472</td>\n",
       "    </tr>\n",
       "    <tr>\n",
       "      <th>624553</th>\n",
       "      <td>com.omr.vngu</td>\n",
       "      <td>Vanguard</td>\n",
       "      <td>https://apps.apple.com/us/app/vanguard/id15822...</td>\n",
       "      <td>Games</td>\n",
       "      <td>4+</td>\n",
       "      <td>191240192.0</td>\n",
       "      <td>10.0</td>\n",
       "      <td>2021-08-27T07:00:00Z</td>\n",
       "      <td>2021-08-27T12:16:53Z</td>\n",
       "      <td>1.0</td>\n",
       "      <td>0.0</td>\n",
       "      <td>USD</td>\n",
       "      <td>True</td>\n",
       "      <td>1582197355</td>\n",
       "      <td>omar naser</td>\n",
       "      <td>https://apps.apple.com/us/developer/omar-naser...</td>\n",
       "      <td>3.00000</td>\n",
       "      <td>2</td>\n",
       "      <td>3.00000</td>\n",
       "      <td>2</td>\n",
       "    </tr>\n",
       "    <tr>\n",
       "      <th>871735</th>\n",
       "      <td>br.com.vanguardhome</td>\n",
       "      <td>Vanguard</td>\n",
       "      <td>https://apps.apple.com/us/app/vanguard/id14660...</td>\n",
       "      <td>Lifestyle</td>\n",
       "      <td>4+</td>\n",
       "      <td>87821312.0</td>\n",
       "      <td>9.0</td>\n",
       "      <td>2020-03-25T07:00:00Z</td>\n",
       "      <td>2021-10-05T23:12:01Z</td>\n",
       "      <td>1.1.10</td>\n",
       "      <td>0.0</td>\n",
       "      <td>USD</td>\n",
       "      <td>True</td>\n",
       "      <td>1459748843</td>\n",
       "      <td>Vanguard Home Empreendimentos Imobiliarios LTDA</td>\n",
       "      <td>https://apps.apple.com/us/developer/vanguard-h...</td>\n",
       "      <td>0.00000</td>\n",
       "      <td>0</td>\n",
       "      <td>0.00000</td>\n",
       "      <td>0</td>\n",
       "    </tr>\n",
       "    <tr>\n",
       "      <th>1024185</th>\n",
       "      <td>com.proptex.vanguard.barcelona</td>\n",
       "      <td>Vanguard</td>\n",
       "      <td>https://apps.apple.com/us/app/vanguard/id15690...</td>\n",
       "      <td>Productivity</td>\n",
       "      <td>17+</td>\n",
       "      <td>35228672.0</td>\n",
       "      <td>13.0</td>\n",
       "      <td>2021-06-11T07:00:00Z</td>\n",
       "      <td>2021-09-05T08:02:33Z</td>\n",
       "      <td>1.0.11</td>\n",
       "      <td>0.0</td>\n",
       "      <td>USD</td>\n",
       "      <td>True</td>\n",
       "      <td>1569057203</td>\n",
       "      <td>3k CO-LIVING $ ACCOMODATION</td>\n",
       "      <td>https://apps.apple.com/us/developer/3k-co-livi...</td>\n",
       "      <td>0.00000</td>\n",
       "      <td>0</td>\n",
       "      <td>0.00000</td>\n",
       "      <td>0</td>\n",
       "    </tr>\n",
       "    <tr>\n",
       "      <th>1066082</th>\n",
       "      <td>com.partnernogueiraalliance1.Vanguard1</td>\n",
       "      <td>Vanguard</td>\n",
       "      <td>https://apps.apple.com/us/app/vanguard/id14412...</td>\n",
       "      <td>Reference</td>\n",
       "      <td>4+</td>\n",
       "      <td>24201216.0</td>\n",
       "      <td>12.0</td>\n",
       "      <td>2018-11-13T01:31:37Z</td>\n",
       "      <td>2021-03-24T12:38:41Z</td>\n",
       "      <td>1.1.2</td>\n",
       "      <td>0.0</td>\n",
       "      <td>USD</td>\n",
       "      <td>True</td>\n",
       "      <td>1441217235</td>\n",
       "      <td>TONANDEL PTY LTD</td>\n",
       "      <td>https://apps.apple.com/us/developer/tonandel-p...</td>\n",
       "      <td>0.00000</td>\n",
       "      <td>0</td>\n",
       "      <td>0.00000</td>\n",
       "      <td>0</td>\n",
       "    </tr>\n",
       "    <tr>\n",
       "      <th>1094792</th>\n",
       "      <td>com.justbrands.highstreet.vanguard.ipad</td>\n",
       "      <td>Vanguard</td>\n",
       "      <td>https://apps.apple.com/us/app/vanguard/id91943...</td>\n",
       "      <td>Shopping</td>\n",
       "      <td>4+</td>\n",
       "      <td>68751360.0</td>\n",
       "      <td>13.0</td>\n",
       "      <td>2014-09-28T16:38:41Z</td>\n",
       "      <td>2021-07-26T09:36:18Z</td>\n",
       "      <td>2.114.14</td>\n",
       "      <td>0.0</td>\n",
       "      <td>USD</td>\n",
       "      <td>True</td>\n",
       "      <td>849091402</td>\n",
       "      <td>Just Brands B.V.</td>\n",
       "      <td>https://apps.apple.com/us/developer/just-brand...</td>\n",
       "      <td>5.00000</td>\n",
       "      <td>1</td>\n",
       "      <td>5.00000</td>\n",
       "      <td>1</td>\n",
       "    </tr>\n",
       "  </tbody>\n",
       "</table>\n",
       "</div>"
      ],
      "text/plain": [
       "                                          App_Id  App_Name  \\\n",
       "478488                          com.vanguard.app  Vanguard   \n",
       "624553                              com.omr.vngu  Vanguard   \n",
       "871735                       br.com.vanguardhome  Vanguard   \n",
       "1024185           com.proptex.vanguard.barcelona  Vanguard   \n",
       "1066082   com.partnernogueiraalliance1.Vanguard1  Vanguard   \n",
       "1094792  com.justbrands.highstreet.vanguard.ipad  Vanguard   \n",
       "\n",
       "                                              AppStore_Url Primary_Genre  \\\n",
       "478488   https://apps.apple.com/us/app/vanguard/id33518...       Finance   \n",
       "624553   https://apps.apple.com/us/app/vanguard/id15822...         Games   \n",
       "871735   https://apps.apple.com/us/app/vanguard/id14660...     Lifestyle   \n",
       "1024185  https://apps.apple.com/us/app/vanguard/id15690...  Productivity   \n",
       "1066082  https://apps.apple.com/us/app/vanguard/id14412...     Reference   \n",
       "1094792  https://apps.apple.com/us/app/vanguard/id91943...      Shopping   \n",
       "\n",
       "        Content_Rating   Size_Bytes Required_IOS_Version  \\\n",
       "478488              4+  160800768.0                 10.0   \n",
       "624553              4+  191240192.0                 10.0   \n",
       "871735              4+   87821312.0                  9.0   \n",
       "1024185            17+   35228672.0                 13.0   \n",
       "1066082             4+   24201216.0                 12.0   \n",
       "1094792             4+   68751360.0                 13.0   \n",
       "\n",
       "                     Released               Updated   Version  Price Currency  \\\n",
       "478488   2009-10-24T19:14:54Z  2021-08-26T19:55:20Z     11.14    0.0      USD   \n",
       "624553   2021-08-27T07:00:00Z  2021-08-27T12:16:53Z       1.0    0.0      USD   \n",
       "871735   2020-03-25T07:00:00Z  2021-10-05T23:12:01Z    1.1.10    0.0      USD   \n",
       "1024185  2021-06-11T07:00:00Z  2021-09-05T08:02:33Z    1.0.11    0.0      USD   \n",
       "1066082  2018-11-13T01:31:37Z  2021-03-24T12:38:41Z     1.1.2    0.0      USD   \n",
       "1094792  2014-09-28T16:38:41Z  2021-07-26T09:36:18Z  2.114.14    0.0      USD   \n",
       "\n",
       "         Free  DeveloperId                                        Developer  \\\n",
       "478488   True    335186212                         The Vanguard Group, Inc.   \n",
       "624553   True   1582197355                                       omar naser   \n",
       "871735   True   1459748843  Vanguard Home Empreendimentos Imobiliarios LTDA   \n",
       "1024185  True   1569057203                      3k CO-LIVING $ ACCOMODATION   \n",
       "1066082  True   1441217235                                 TONANDEL PTY LTD   \n",
       "1094792  True    849091402                                 Just Brands B.V.   \n",
       "\n",
       "                                             Developer_Url  \\\n",
       "478488   https://apps.apple.com/us/developer/the-vangua...   \n",
       "624553   https://apps.apple.com/us/developer/omar-naser...   \n",
       "871735   https://apps.apple.com/us/developer/vanguard-h...   \n",
       "1024185  https://apps.apple.com/us/developer/3k-co-livi...   \n",
       "1066082  https://apps.apple.com/us/developer/tonandel-p...   \n",
       "1094792  https://apps.apple.com/us/developer/just-brand...   \n",
       "\n",
       "         Average_User_Rating  Reviews  Current_Version_Score  \\\n",
       "478488               4.73977   167472                4.73977   \n",
       "624553               3.00000        2                3.00000   \n",
       "871735               0.00000        0                0.00000   \n",
       "1024185              0.00000        0                0.00000   \n",
       "1066082              0.00000        0                0.00000   \n",
       "1094792              5.00000        1                5.00000   \n",
       "\n",
       "         Current_Version_Reviews  \n",
       "478488                    167472  \n",
       "624553                         2  \n",
       "871735                         0  \n",
       "1024185                        0  \n",
       "1066082                        0  \n",
       "1094792                        1  "
      ]
     },
     "execution_count": 29,
     "metadata": {},
     "output_type": "execute_result"
    }
   ],
   "source": [
    "df[df['App_Name'] == 'Vanguard']"
   ]
  },
  {
   "cell_type": "markdown",
   "id": "36084cd8",
   "metadata": {
    "papermill": {
     "duration": 0.034166,
     "end_time": "2024-01-30T19:24:53.591689",
     "exception": false,
     "start_time": "2024-01-30T19:24:53.557523",
     "status": "completed"
    },
    "tags": []
   },
   "source": [
    "**Observation Set 4:** Although `App_Name` may have duplications, the records are unique as a whole, with varying versions, AppIds, and release dates.\n",
    "### **Milestone 2:** Hence no duplicates found in the data 🤩"
   ]
  },
  {
   "cell_type": "markdown",
   "id": "7ef73461",
   "metadata": {
    "papermill": {
     "duration": 0.034141,
     "end_time": "2024-01-30T19:24:53.662957",
     "exception": false,
     "start_time": "2024-01-30T19:24:53.628816",
     "status": "completed"
    },
    "tags": []
   },
   "source": [
    "### **5.4 Data Tranformation:**\n",
    "Converting, reshaping, or aggregating data to meet specific analysis requirements. This may involve merging or joining multiple datasets, creating new features, or changing data formats."
   ]
  },
  {
   "cell_type": "markdown",
   "id": "f95f7ab3",
   "metadata": {
    "papermill": {
     "duration": 0.03492,
     "end_time": "2024-01-30T19:24:53.731839",
     "exception": false,
     "start_time": "2024-01-30T19:24:53.696919",
     "status": "completed"
    },
    "tags": []
   },
   "source": [
    "#### **5.4.1 Converting `Size_Bytes` into `Size_MBs`:**\n",
    "We are converting size of applications from bytes to mega bytes for better understanding."
   ]
  },
  {
   "cell_type": "code",
   "execution_count": 30,
   "id": "def6edb0",
   "metadata": {
    "execution": {
     "iopub.execute_input": "2024-01-30T19:24:53.804442Z",
     "iopub.status.busy": "2024-01-30T19:24:53.803962Z",
     "iopub.status.idle": "2024-01-30T19:24:53.823229Z",
     "shell.execute_reply": "2024-01-30T19:24:53.822050Z"
    },
    "papermill": {
     "duration": 0.060174,
     "end_time": "2024-01-30T19:24:53.825971",
     "exception": false,
     "start_time": "2024-01-30T19:24:53.765797",
     "status": "completed"
    },
    "tags": []
   },
   "outputs": [],
   "source": [
    "# Convert Size_Bytes to MBs\n",
    "df['Size_MBs'] = df['Size_Bytes'] / (1024 * 1024)\n",
    "df['Size_MBs'] = df['Size_MBs'].round(2)"
   ]
  },
  {
   "cell_type": "markdown",
   "id": "63b055a6",
   "metadata": {
    "papermill": {
     "duration": 0.033484,
     "end_time": "2024-01-30T19:24:53.895007",
     "exception": false,
     "start_time": "2024-01-30T19:24:53.861523",
     "status": "completed"
    },
    "tags": []
   },
   "source": [
    "#### **5.4.1.1 Dropping `Size_Bytes` column:**\n",
    "As we have converted `Size_Bytes` into `Size_MBs`. Now, there is no need of `Size_Bytes` column in the dataset, so drop it"
   ]
  },
  {
   "cell_type": "code",
   "execution_count": 31,
   "id": "baa7cbd9",
   "metadata": {
    "execution": {
     "iopub.execute_input": "2024-01-30T19:24:53.965352Z",
     "iopub.status.busy": "2024-01-30T19:24:53.964905Z",
     "iopub.status.idle": "2024-01-30T19:24:54.252724Z",
     "shell.execute_reply": "2024-01-30T19:24:54.250974Z"
    },
    "papermill": {
     "duration": 0.326137,
     "end_time": "2024-01-30T19:24:54.255597",
     "exception": false,
     "start_time": "2024-01-30T19:24:53.929460",
     "status": "completed"
    },
    "tags": []
   },
   "outputs": [],
   "source": [
    "# Dropping Size_Bytes column\n",
    "df.drop('Size_Bytes', axis=1, inplace=True)"
   ]
  },
  {
   "cell_type": "code",
   "execution_count": 32,
   "id": "cd0a8d56",
   "metadata": {
    "execution": {
     "iopub.execute_input": "2024-01-30T19:24:54.329725Z",
     "iopub.status.busy": "2024-01-30T19:24:54.329299Z",
     "iopub.status.idle": "2024-01-30T19:24:54.337275Z",
     "shell.execute_reply": "2024-01-30T19:24:54.336002Z"
    },
    "papermill": {
     "duration": 0.049716,
     "end_time": "2024-01-30T19:24:54.340358",
     "exception": false,
     "start_time": "2024-01-30T19:24:54.290642",
     "status": "completed"
    },
    "tags": []
   },
   "outputs": [
    {
     "data": {
      "text/plain": [
       "Index(['App_Id', 'App_Name', 'AppStore_Url', 'Primary_Genre', 'Content_Rating',\n",
       "       'Required_IOS_Version', 'Released', 'Updated', 'Version', 'Price',\n",
       "       'Currency', 'Free', 'DeveloperId', 'Developer', 'Developer_Url',\n",
       "       'Average_User_Rating', 'Reviews', 'Current_Version_Score',\n",
       "       'Current_Version_Reviews', 'Size_MBs'],\n",
       "      dtype='object')"
      ]
     },
     "execution_count": 32,
     "metadata": {},
     "output_type": "execute_result"
    }
   ],
   "source": [
    "df.columns"
   ]
  },
  {
   "cell_type": "markdown",
   "id": "edc2dba8",
   "metadata": {
    "papermill": {
     "duration": 0.03448,
     "end_time": "2024-01-30T19:24:54.410617",
     "exception": false,
     "start_time": "2024-01-30T19:24:54.376137",
     "status": "completed"
    },
    "tags": []
   },
   "source": [
    "- Size_Bytes column is dropped from the dataset successfully."
   ]
  },
  {
   "cell_type": "markdown",
   "id": "c2e4d7e1",
   "metadata": {
    "papermill": {
     "duration": 0.035364,
     "end_time": "2024-01-30T19:24:54.482381",
     "exception": false,
     "start_time": "2024-01-30T19:24:54.447017",
     "status": "completed"
    },
    "tags": []
   },
   "source": [
    "#### **5.4.2 Converting `Free` into `Type` column:**\n",
    "We're transforming the `Free` column, which currently holds True/False values representing whether an app is Free or Paid, into a new `Type` column that will provide clearer labels of Free or Paid for enhanced comprehension and dealing with Free and Paid apps easily."
   ]
  },
  {
   "cell_type": "code",
   "execution_count": 33,
   "id": "9212b7a6",
   "metadata": {
    "execution": {
     "iopub.execute_input": "2024-01-30T19:24:54.555602Z",
     "iopub.status.busy": "2024-01-30T19:24:54.555152Z",
     "iopub.status.idle": "2024-01-30T19:24:54.570891Z",
     "shell.execute_reply": "2024-01-30T19:24:54.569628Z"
    },
    "papermill": {
     "duration": 0.055368,
     "end_time": "2024-01-30T19:24:54.574122",
     "exception": false,
     "start_time": "2024-01-30T19:24:54.518754",
     "status": "completed"
    },
    "tags": []
   },
   "outputs": [
    {
     "data": {
      "text/plain": [
       "array([ True, False])"
      ]
     },
     "execution_count": 33,
     "metadata": {},
     "output_type": "execute_result"
    }
   ],
   "source": [
    "df.Free.unique()"
   ]
  },
  {
   "cell_type": "code",
   "execution_count": 34,
   "id": "bc49d33d",
   "metadata": {
    "execution": {
     "iopub.execute_input": "2024-01-30T19:24:54.644742Z",
     "iopub.status.busy": "2024-01-30T19:24:54.644247Z",
     "iopub.status.idle": "2024-01-30T19:24:55.070384Z",
     "shell.execute_reply": "2024-01-30T19:24:55.069176Z"
    },
    "papermill": {
     "duration": 0.464807,
     "end_time": "2024-01-30T19:24:55.073108",
     "exception": false,
     "start_time": "2024-01-30T19:24:54.608301",
     "status": "completed"
    },
    "tags": []
   },
   "outputs": [],
   "source": [
    "df['Type'] = np.where(df['Free'] == True, 'Free', 'Paid')\n",
    "df.drop('Free', axis=1, inplace=True)"
   ]
  },
  {
   "cell_type": "markdown",
   "id": "f782ca22",
   "metadata": {
    "papermill": {
     "duration": 0.033819,
     "end_time": "2024-01-30T19:24:55.142133",
     "exception": false,
     "start_time": "2024-01-30T19:24:55.108314",
     "status": "completed"
    },
    "tags": []
   },
   "source": [
    "- We have successfully transform `Free` column into `Type` column and also have dropped `Free` column from the dataset."
   ]
  },
  {
   "cell_type": "code",
   "execution_count": 35,
   "id": "8bb60977",
   "metadata": {
    "execution": {
     "iopub.execute_input": "2024-01-30T19:24:55.212500Z",
     "iopub.status.busy": "2024-01-30T19:24:55.212079Z",
     "iopub.status.idle": "2024-01-30T19:24:55.220505Z",
     "shell.execute_reply": "2024-01-30T19:24:55.219206Z"
    },
    "papermill": {
     "duration": 0.046717,
     "end_time": "2024-01-30T19:24:55.222998",
     "exception": false,
     "start_time": "2024-01-30T19:24:55.176281",
     "status": "completed"
    },
    "tags": []
   },
   "outputs": [
    {
     "data": {
      "text/plain": [
       "Index(['App_Id', 'App_Name', 'AppStore_Url', 'Primary_Genre', 'Content_Rating',\n",
       "       'Required_IOS_Version', 'Released', 'Updated', 'Version', 'Price',\n",
       "       'Currency', 'DeveloperId', 'Developer', 'Developer_Url',\n",
       "       'Average_User_Rating', 'Reviews', 'Current_Version_Score',\n",
       "       'Current_Version_Reviews', 'Size_MBs', 'Type'],\n",
       "      dtype='object')"
      ]
     },
     "execution_count": 35,
     "metadata": {},
     "output_type": "execute_result"
    }
   ],
   "source": [
    "df.columns"
   ]
  },
  {
   "cell_type": "markdown",
   "id": "0e0e7131",
   "metadata": {
    "papermill": {
     "duration": 0.037346,
     "end_time": "2024-01-30T19:24:55.298005",
     "exception": false,
     "start_time": "2024-01-30T19:24:55.260659",
     "status": "completed"
    },
    "tags": []
   },
   "source": [
    "**Observation Set 5:**\n",
    "- There are Free and Paid Apps on Apple Appstore."
   ]
  },
  {
   "cell_type": "markdown",
   "id": "7f340b03",
   "metadata": {
    "papermill": {
     "duration": 0.034932,
     "end_time": "2024-01-30T19:24:55.369422",
     "exception": false,
     "start_time": "2024-01-30T19:24:55.334490",
     "status": "completed"
    },
    "tags": []
   },
   "source": [
    "#### **5.4.3 `Content_Rating` column:**\n",
    "Let's examine the distinct values within the `Content_Rating` column. This will unveil the age groups for which apps are accessible on the Apple App Store, providing insights into the targeted audience."
   ]
  },
  {
   "cell_type": "code",
   "execution_count": 36,
   "id": "8d5154c7",
   "metadata": {
    "execution": {
     "iopub.execute_input": "2024-01-30T19:24:55.442843Z",
     "iopub.status.busy": "2024-01-30T19:24:55.442292Z",
     "iopub.status.idle": "2024-01-30T19:24:55.516235Z",
     "shell.execute_reply": "2024-01-30T19:24:55.514956Z"
    },
    "papermill": {
     "duration": 0.114521,
     "end_time": "2024-01-30T19:24:55.518790",
     "exception": false,
     "start_time": "2024-01-30T19:24:55.404269",
     "status": "completed"
    },
    "tags": []
   },
   "outputs": [
    {
     "data": {
      "text/plain": [
       "array(['4+', '17+', '9+', '12+', 'Not yet rated'], dtype=object)"
      ]
     },
     "execution_count": 36,
     "metadata": {},
     "output_type": "execute_result"
    }
   ],
   "source": [
    "df.Content_Rating.unique()"
   ]
  },
  {
   "cell_type": "markdown",
   "id": "ae1281c9",
   "metadata": {
    "papermill": {
     "duration": 0.036639,
     "end_time": "2024-01-30T19:24:55.592423",
     "exception": false,
     "start_time": "2024-01-30T19:24:55.555784",
     "status": "completed"
    },
    "tags": []
   },
   "source": [
    "**Observation Set 6:**\n",
    "\n",
    "Within the `Content Rating` column, we encounter distinct categories:\n",
    "- 4+\n",
    "- 17+\n",
    "- 9+\n",
    "- 12+\n",
    "- Not yet rated"
   ]
  },
  {
   "cell_type": "markdown",
   "id": "a244477e",
   "metadata": {
    "papermill": {
     "duration": 0.03637,
     "end_time": "2024-01-30T19:24:55.664013",
     "exception": false,
     "start_time": "2024-01-30T19:24:55.627643",
     "status": "completed"
    },
    "tags": []
   },
   "source": [
    "#### **5.4.3.1 Transforming `Content_Rating` column:**\n",
    "To enhance clarity, we are simplifying these categories into four reader-friendly labels for improved comprehension:\n",
    "- 4+: Categorized as Kids\n",
    "- 9+: Categorized as Children\n",
    "- 12+: Categorized as Teens\n",
    "- 17+: Categorized as Adults\n",
    "- Not yet rated: Categorized as Everyone\n",
    "\n",
    "This transformation offers a more intuitive representation, classifying apps into broader age-based groups of Children, Teens, Adults, and Everyone."
   ]
  },
  {
   "cell_type": "code",
   "execution_count": 37,
   "id": "7981db99",
   "metadata": {
    "execution": {
     "iopub.execute_input": "2024-01-30T19:24:55.742194Z",
     "iopub.status.busy": "2024-01-30T19:24:55.741712Z",
     "iopub.status.idle": "2024-01-30T19:24:56.233696Z",
     "shell.execute_reply": "2024-01-30T19:24:56.231915Z"
    },
    "papermill": {
     "duration": 0.536245,
     "end_time": "2024-01-30T19:24:56.237133",
     "exception": false,
     "start_time": "2024-01-30T19:24:55.700888",
     "status": "completed"
    },
    "tags": []
   },
   "outputs": [],
   "source": [
    "df[\"Content_Rating\"]=df[\"Content_Rating\"].replace(\"4+\",\"Kids\")\n",
    "df[\"Content_Rating\"]=df[\"Content_Rating\"].replace(\"9+\",\"Children\")\n",
    "df[\"Content_Rating\"]=df[\"Content_Rating\"].replace(\"12+\",\"Teens\")\n",
    "df[\"Content_Rating\"]=df[\"Content_Rating\"].replace(\"17+\",\"Adults\")\n",
    "df[\"Content_Rating\"]=df[\"Content_Rating\"].replace(\"Not yet rated\",\"Everyone\")"
   ]
  },
  {
   "cell_type": "code",
   "execution_count": 38,
   "id": "62f072c7",
   "metadata": {
    "execution": {
     "iopub.execute_input": "2024-01-30T19:24:56.316873Z",
     "iopub.status.busy": "2024-01-30T19:24:56.315798Z",
     "iopub.status.idle": "2024-01-30T19:24:56.346923Z",
     "shell.execute_reply": "2024-01-30T19:24:56.345705Z"
    },
    "papermill": {
     "duration": 0.076953,
     "end_time": "2024-01-30T19:24:56.349752",
     "exception": false,
     "start_time": "2024-01-30T19:24:56.272799",
     "status": "completed"
    },
    "tags": []
   },
   "outputs": [
    {
     "data": {
      "text/html": [
       "<div>\n",
       "<style scoped>\n",
       "    .dataframe tbody tr th:only-of-type {\n",
       "        vertical-align: middle;\n",
       "    }\n",
       "\n",
       "    .dataframe tbody tr th {\n",
       "        vertical-align: top;\n",
       "    }\n",
       "\n",
       "    .dataframe thead th {\n",
       "        text-align: right;\n",
       "    }\n",
       "</style>\n",
       "<table border=\"1\" class=\"dataframe\">\n",
       "  <thead>\n",
       "    <tr style=\"text-align: right;\">\n",
       "      <th></th>\n",
       "      <th>App_Id</th>\n",
       "      <th>App_Name</th>\n",
       "      <th>AppStore_Url</th>\n",
       "      <th>Primary_Genre</th>\n",
       "      <th>Content_Rating</th>\n",
       "      <th>Required_IOS_Version</th>\n",
       "      <th>Released</th>\n",
       "      <th>Updated</th>\n",
       "      <th>Version</th>\n",
       "      <th>Price</th>\n",
       "      <th>Currency</th>\n",
       "      <th>DeveloperId</th>\n",
       "      <th>Developer</th>\n",
       "      <th>Developer_Url</th>\n",
       "      <th>Average_User_Rating</th>\n",
       "      <th>Reviews</th>\n",
       "      <th>Current_Version_Score</th>\n",
       "      <th>Current_Version_Reviews</th>\n",
       "      <th>Size_MBs</th>\n",
       "      <th>Type</th>\n",
       "    </tr>\n",
       "  </thead>\n",
       "  <tbody>\n",
       "    <tr>\n",
       "      <th>0</th>\n",
       "      <td>com.hkbu.arc.apaper</td>\n",
       "      <td>A+ Paper Guide</td>\n",
       "      <td>https://apps.apple.com/us/app/a-paper-guide/id...</td>\n",
       "      <td>Education</td>\n",
       "      <td>Kids</td>\n",
       "      <td>8.0</td>\n",
       "      <td>2017-09-28T03:02:41Z</td>\n",
       "      <td>2018-12-21T21:30:36Z</td>\n",
       "      <td>1.1.2</td>\n",
       "      <td>0.00</td>\n",
       "      <td>USD</td>\n",
       "      <td>1375410542</td>\n",
       "      <td>HKBU ARC</td>\n",
       "      <td>https://apps.apple.com/us/developer/hkbu-arc/i...</td>\n",
       "      <td>0.0</td>\n",
       "      <td>0</td>\n",
       "      <td>0.0</td>\n",
       "      <td>0</td>\n",
       "      <td>20.97</td>\n",
       "      <td>Free</td>\n",
       "    </tr>\n",
       "    <tr>\n",
       "      <th>1</th>\n",
       "      <td>com.dmitriev.abooks</td>\n",
       "      <td>A-Books</td>\n",
       "      <td>https://apps.apple.com/us/app/a-books/id103157...</td>\n",
       "      <td>Book</td>\n",
       "      <td>Kids</td>\n",
       "      <td>10.0</td>\n",
       "      <td>2015-08-31T19:31:32Z</td>\n",
       "      <td>2019-07-23T20:31:09Z</td>\n",
       "      <td>1.3</td>\n",
       "      <td>0.00</td>\n",
       "      <td>USD</td>\n",
       "      <td>1031572001</td>\n",
       "      <td>Roman Dmitriev</td>\n",
       "      <td>https://apps.apple.com/us/developer/roman-dmit...</td>\n",
       "      <td>5.0</td>\n",
       "      <td>1</td>\n",
       "      <td>5.0</td>\n",
       "      <td>1</td>\n",
       "      <td>12.53</td>\n",
       "      <td>Free</td>\n",
       "    </tr>\n",
       "    <tr>\n",
       "      <th>2</th>\n",
       "      <td>no.terp.abooks</td>\n",
       "      <td>A-books</td>\n",
       "      <td>https://apps.apple.com/us/app/a-books/id145702...</td>\n",
       "      <td>Book</td>\n",
       "      <td>Kids</td>\n",
       "      <td>9.0</td>\n",
       "      <td>2021-04-14T07:00:00Z</td>\n",
       "      <td>2021-05-30T21:08:54Z</td>\n",
       "      <td>1.3.1</td>\n",
       "      <td>0.00</td>\n",
       "      <td>USD</td>\n",
       "      <td>1457024163</td>\n",
       "      <td>Terp AS</td>\n",
       "      <td>https://apps.apple.com/us/developer/terp-as/id...</td>\n",
       "      <td>0.0</td>\n",
       "      <td>0</td>\n",
       "      <td>0.0</td>\n",
       "      <td>0</td>\n",
       "      <td>20.93</td>\n",
       "      <td>Free</td>\n",
       "    </tr>\n",
       "    <tr>\n",
       "      <th>3</th>\n",
       "      <td>fr.antoinettefleur.Book1</td>\n",
       "      <td>A-F Book #1</td>\n",
       "      <td>https://apps.apple.com/us/app/a-f-book-1/id500...</td>\n",
       "      <td>Book</td>\n",
       "      <td>Kids</td>\n",
       "      <td>8.0</td>\n",
       "      <td>2012-02-10T03:40:07Z</td>\n",
       "      <td>2019-10-29T12:40:37Z</td>\n",
       "      <td>1.2</td>\n",
       "      <td>2.99</td>\n",
       "      <td>USD</td>\n",
       "      <td>439568839</td>\n",
       "      <td>i-editeur.com</td>\n",
       "      <td>https://apps.apple.com/us/developer/i-editeur-...</td>\n",
       "      <td>0.0</td>\n",
       "      <td>0</td>\n",
       "      <td>0.0</td>\n",
       "      <td>0</td>\n",
       "      <td>78.06</td>\n",
       "      <td>Paid</td>\n",
       "    </tr>\n",
       "    <tr>\n",
       "      <th>4</th>\n",
       "      <td>com.imonstersoft.azdictionaryios</td>\n",
       "      <td>A-Z Synonyms Dictionary</td>\n",
       "      <td>https://apps.apple.com/us/app/a-z-synonyms-dic...</td>\n",
       "      <td>Reference</td>\n",
       "      <td>Kids</td>\n",
       "      <td>9.0</td>\n",
       "      <td>2020-12-16T08:00:00Z</td>\n",
       "      <td>2020-12-18T21:36:11Z</td>\n",
       "      <td>1.0.1</td>\n",
       "      <td>0.00</td>\n",
       "      <td>USD</td>\n",
       "      <td>656731821</td>\n",
       "      <td>Ngov chiheang</td>\n",
       "      <td>https://apps.apple.com/us/developer/ngov-chihe...</td>\n",
       "      <td>0.0</td>\n",
       "      <td>0</td>\n",
       "      <td>0.0</td>\n",
       "      <td>0</td>\n",
       "      <td>61.70</td>\n",
       "      <td>Free</td>\n",
       "    </tr>\n",
       "  </tbody>\n",
       "</table>\n",
       "</div>"
      ],
      "text/plain": [
       "                             App_Id                 App_Name  \\\n",
       "0               com.hkbu.arc.apaper           A+ Paper Guide   \n",
       "1               com.dmitriev.abooks                  A-Books   \n",
       "2                    no.terp.abooks                  A-books   \n",
       "3          fr.antoinettefleur.Book1              A-F Book #1   \n",
       "4  com.imonstersoft.azdictionaryios  A-Z Synonyms Dictionary   \n",
       "\n",
       "                                        AppStore_Url Primary_Genre  \\\n",
       "0  https://apps.apple.com/us/app/a-paper-guide/id...     Education   \n",
       "1  https://apps.apple.com/us/app/a-books/id103157...          Book   \n",
       "2  https://apps.apple.com/us/app/a-books/id145702...          Book   \n",
       "3  https://apps.apple.com/us/app/a-f-book-1/id500...          Book   \n",
       "4  https://apps.apple.com/us/app/a-z-synonyms-dic...     Reference   \n",
       "\n",
       "  Content_Rating Required_IOS_Version              Released  \\\n",
       "0           Kids                  8.0  2017-09-28T03:02:41Z   \n",
       "1           Kids                 10.0  2015-08-31T19:31:32Z   \n",
       "2           Kids                  9.0  2021-04-14T07:00:00Z   \n",
       "3           Kids                  8.0  2012-02-10T03:40:07Z   \n",
       "4           Kids                  9.0  2020-12-16T08:00:00Z   \n",
       "\n",
       "                Updated Version  Price Currency  DeveloperId       Developer  \\\n",
       "0  2018-12-21T21:30:36Z   1.1.2   0.00      USD   1375410542        HKBU ARC   \n",
       "1  2019-07-23T20:31:09Z     1.3   0.00      USD   1031572001  Roman Dmitriev   \n",
       "2  2021-05-30T21:08:54Z   1.3.1   0.00      USD   1457024163         Terp AS   \n",
       "3  2019-10-29T12:40:37Z     1.2   2.99      USD    439568839   i-editeur.com   \n",
       "4  2020-12-18T21:36:11Z   1.0.1   0.00      USD    656731821   Ngov chiheang   \n",
       "\n",
       "                                       Developer_Url  Average_User_Rating  \\\n",
       "0  https://apps.apple.com/us/developer/hkbu-arc/i...                  0.0   \n",
       "1  https://apps.apple.com/us/developer/roman-dmit...                  5.0   \n",
       "2  https://apps.apple.com/us/developer/terp-as/id...                  0.0   \n",
       "3  https://apps.apple.com/us/developer/i-editeur-...                  0.0   \n",
       "4  https://apps.apple.com/us/developer/ngov-chihe...                  0.0   \n",
       "\n",
       "   Reviews  Current_Version_Score  Current_Version_Reviews  Size_MBs  Type  \n",
       "0        0                    0.0                        0     20.97  Free  \n",
       "1        1                    5.0                        1     12.53  Free  \n",
       "2        0                    0.0                        0     20.93  Free  \n",
       "3        0                    0.0                        0     78.06  Paid  \n",
       "4        0                    0.0                        0     61.70  Free  "
      ]
     },
     "execution_count": 38,
     "metadata": {},
     "output_type": "execute_result"
    }
   ],
   "source": [
    "df.head()"
   ]
  },
  {
   "cell_type": "markdown",
   "id": "059e6170",
   "metadata": {
    "papermill": {
     "duration": 0.038393,
     "end_time": "2024-01-30T19:24:56.425500",
     "exception": false,
     "start_time": "2024-01-30T19:24:56.387107",
     "status": "completed"
    },
    "tags": []
   },
   "source": [
    "- We have successfully categorize `Content_Rating` column."
   ]
  },
  {
   "cell_type": "markdown",
   "id": "7cc33160",
   "metadata": {
    "papermill": {
     "duration": 0.042893,
     "end_time": "2024-01-30T19:24:56.506175",
     "exception": false,
     "start_time": "2024-01-30T19:24:56.463282",
     "status": "completed"
    },
    "tags": []
   },
   "source": [
    "#### **5.4.4 `Reviews` column:**\n",
    "Let's explore `Reviews` column."
   ]
  },
  {
   "cell_type": "code",
   "execution_count": 39,
   "id": "f80b1341",
   "metadata": {
    "execution": {
     "iopub.execute_input": "2024-01-30T19:24:56.584616Z",
     "iopub.status.busy": "2024-01-30T19:24:56.583864Z",
     "iopub.status.idle": "2024-01-30T19:24:56.600500Z",
     "shell.execute_reply": "2024-01-30T19:24:56.599099Z"
    },
    "papermill": {
     "duration": 0.058033,
     "end_time": "2024-01-30T19:24:56.602962",
     "exception": false,
     "start_time": "2024-01-30T19:24:56.544929",
     "status": "completed"
    },
    "tags": []
   },
   "outputs": [
    {
     "data": {
      "text/plain": [
       "13667"
      ]
     },
     "execution_count": 39,
     "metadata": {},
     "output_type": "execute_result"
    }
   ],
   "source": [
    "# Number of unique values in Reviews\n",
    "df.Reviews.nunique()"
   ]
  },
  {
   "cell_type": "code",
   "execution_count": 40,
   "id": "661b7a51",
   "metadata": {
    "execution": {
     "iopub.execute_input": "2024-01-30T19:24:56.681343Z",
     "iopub.status.busy": "2024-01-30T19:24:56.680915Z",
     "iopub.status.idle": "2024-01-30T19:24:56.689805Z",
     "shell.execute_reply": "2024-01-30T19:24:56.688073Z"
    },
    "papermill": {
     "duration": 0.051363,
     "end_time": "2024-01-30T19:24:56.692586",
     "exception": false,
     "start_time": "2024-01-30T19:24:56.641223",
     "status": "completed"
    },
    "tags": []
   },
   "outputs": [
    {
     "data": {
      "text/plain": [
       "22685334"
      ]
     },
     "execution_count": 40,
     "metadata": {},
     "output_type": "execute_result"
    }
   ],
   "source": [
    "# Max Rating\n",
    "df.Reviews.max()"
   ]
  },
  {
   "cell_type": "code",
   "execution_count": 41,
   "id": "8c9cb801",
   "metadata": {
    "execution": {
     "iopub.execute_input": "2024-01-30T19:24:56.776668Z",
     "iopub.status.busy": "2024-01-30T19:24:56.776206Z",
     "iopub.status.idle": "2024-01-30T19:24:56.784348Z",
     "shell.execute_reply": "2024-01-30T19:24:56.783129Z"
    },
    "papermill": {
     "duration": 0.053849,
     "end_time": "2024-01-30T19:24:56.786686",
     "exception": false,
     "start_time": "2024-01-30T19:24:56.732837",
     "status": "completed"
    },
    "tags": []
   },
   "outputs": [
    {
     "data": {
      "text/plain": [
       "0"
      ]
     },
     "execution_count": 41,
     "metadata": {},
     "output_type": "execute_result"
    }
   ],
   "source": [
    "# Min Rating\n",
    "df.Reviews.min()"
   ]
  },
  {
   "cell_type": "markdown",
   "id": "94053045",
   "metadata": {
    "papermill": {
     "duration": 0.039673,
     "end_time": "2024-01-30T19:24:56.862615",
     "exception": false,
     "start_time": "2024-01-30T19:24:56.822942",
     "status": "completed"
    },
    "tags": []
   },
   "source": [
    "**Observation Set 7**\n",
    "\n",
    "The highest rating ever assigned to an application stands at 22,685,334. Additionally, it's worth noting that some apps on the Apple App Store have never received any ratings."
   ]
  },
  {
   "cell_type": "markdown",
   "id": "7726e2d7",
   "metadata": {
    "papermill": {
     "duration": 0.035879,
     "end_time": "2024-01-30T19:24:56.936282",
     "exception": false,
     "start_time": "2024-01-30T19:24:56.900403",
     "status": "completed"
    },
    "tags": []
   },
   "source": [
    "#### **5.4.4.1 Categorizing `Reviews` column:**\n",
    "Let's divide `Reviews` column into different ranges for better understanding and seeing the differnre Free and Paid Apps with most and least reviews."
   ]
  },
  {
   "cell_type": "code",
   "execution_count": 42,
   "id": "64fb1a94",
   "metadata": {
    "execution": {
     "iopub.execute_input": "2024-01-30T19:24:57.014488Z",
     "iopub.status.busy": "2024-01-30T19:24:57.014054Z",
     "iopub.status.idle": "2024-01-30T19:24:57.146344Z",
     "shell.execute_reply": "2024-01-30T19:24:57.145303Z"
    },
    "papermill": {
     "duration": 0.17334,
     "end_time": "2024-01-30T19:24:57.148787",
     "exception": false,
     "start_time": "2024-01-30T19:24:56.975447",
     "status": "completed"
    },
    "tags": []
   },
   "outputs": [
    {
     "data": {
      "text/plain": [
       "NoReviewsProvided        683549\n",
       "Less than 10K            538691\n",
       "Between 10K and 500K       6725\n",
       "Million Plus                152\n",
       "Between 500K and 1Mil       146\n",
       "Name: Review_Category, dtype: int64"
      ]
     },
     "execution_count": 42,
     "metadata": {},
     "output_type": "execute_result"
    }
   ],
   "source": [
    "df['Review_Category'] = 'NoReviewsProvided'\n",
    "df.loc[(df['Reviews'] > 0) & (df['Reviews'] <= 10000.0),'Review_Category'] = 'Less than 10K'\n",
    "df.loc[(df['Reviews'] > 10000) & (df['Reviews'] <= 500000.0),'Review_Category'] = 'Between 10K and 500K'\n",
    "df.loc[(df['Reviews'] > 500000) & (df['Reviews'] <= 1000000),'Review_Category'] = 'Between 500K and 1Mil'\n",
    "df.loc[(df['Reviews'] > 1000000) & (df['Reviews'] <= 22685334),'Review_Category'] = 'Million Plus'\n",
    "df['Review_Category'].value_counts()"
   ]
  },
  {
   "cell_type": "markdown",
   "id": "532447e4",
   "metadata": {
    "papermill": {
     "duration": 0.038126,
     "end_time": "2024-01-30T19:24:57.224144",
     "exception": false,
     "start_time": "2024-01-30T19:24:57.186018",
     "status": "completed"
    },
    "tags": []
   },
   "source": [
    "**Observation Set 8:**\n",
    "- The most number of Apps on Apple Appstore have never been reveiwed by users and there are 152 Apps on Apple Appstore with 1 Million plus reviews."
   ]
  },
  {
   "cell_type": "markdown",
   "id": "3dcbaab3",
   "metadata": {
    "papermill": {
     "duration": 0.039727,
     "end_time": "2024-01-30T19:24:57.302684",
     "exception": false,
     "start_time": "2024-01-30T19:24:57.262957",
     "status": "completed"
    },
    "tags": []
   },
   "source": [
    "### **Milestone 3:** We have transformed the necessary columns 🤝🏻"
   ]
  },
  {
   "cell_type": "markdown",
   "id": "66776a0e",
   "metadata": {
    "papermill": {
     "duration": 0.037671,
     "end_time": "2024-01-30T19:24:57.382255",
     "exception": false,
     "start_time": "2024-01-30T19:24:57.344584",
     "status": "completed"
    },
    "tags": []
   },
   "source": [
    "## **6.0 Exploring all other Important Columns/Attributes of the Dataset**\n",
    "In this section, we will explore all other columns of the dataset, that we have not discussed yet."
   ]
  },
  {
   "cell_type": "code",
   "execution_count": 43,
   "id": "6c634e06",
   "metadata": {
    "execution": {
     "iopub.execute_input": "2024-01-30T19:24:57.460413Z",
     "iopub.status.busy": "2024-01-30T19:24:57.459948Z",
     "iopub.status.idle": "2024-01-30T19:24:57.468173Z",
     "shell.execute_reply": "2024-01-30T19:24:57.467025Z"
    },
    "papermill": {
     "duration": 0.049823,
     "end_time": "2024-01-30T19:24:57.470514",
     "exception": false,
     "start_time": "2024-01-30T19:24:57.420691",
     "status": "completed"
    },
    "tags": []
   },
   "outputs": [
    {
     "data": {
      "text/plain": [
       "Index(['App_Id', 'App_Name', 'AppStore_Url', 'Primary_Genre', 'Content_Rating',\n",
       "       'Required_IOS_Version', 'Released', 'Updated', 'Version', 'Price',\n",
       "       'Currency', 'DeveloperId', 'Developer', 'Developer_Url',\n",
       "       'Average_User_Rating', 'Reviews', 'Current_Version_Score',\n",
       "       'Current_Version_Reviews', 'Size_MBs', 'Type', 'Review_Category'],\n",
       "      dtype='object')"
      ]
     },
     "execution_count": 43,
     "metadata": {},
     "output_type": "execute_result"
    }
   ],
   "source": [
    "df.columns"
   ]
  },
  {
   "cell_type": "markdown",
   "id": "0028c342",
   "metadata": {
    "papermill": {
     "duration": 0.036562,
     "end_time": "2024-01-30T19:24:57.544601",
     "exception": false,
     "start_time": "2024-01-30T19:24:57.508039",
     "status": "completed"
    },
    "tags": []
   },
   "source": [
    "### **6.1 Primary Genre:**\n",
    "It shows that how many categories of apps are there on Apple Appstore."
   ]
  },
  {
   "cell_type": "code",
   "execution_count": 44,
   "id": "ae8ee9c4",
   "metadata": {
    "execution": {
     "iopub.execute_input": "2024-01-30T19:24:57.620745Z",
     "iopub.status.busy": "2024-01-30T19:24:57.620326Z",
     "iopub.status.idle": "2024-01-30T19:25:00.263225Z",
     "shell.execute_reply": "2024-01-30T19:25:00.261866Z"
    },
    "papermill": {
     "duration": 2.683563,
     "end_time": "2024-01-30T19:25:00.265725",
     "exception": false,
     "start_time": "2024-01-30T19:24:57.582162",
     "status": "completed"
    },
    "tags": []
   },
   "outputs": [
    {
     "name": "stdout",
     "output_type": "stream",
     "text": [
      "1. Games: 193641\n",
      "2. Business: 128203\n",
      "3. Education: 119114\n",
      "4. Utilities: 93937\n",
      "5. Lifestyle: 84493\n",
      "6. Food & Drink: 72815\n",
      "7. Health & Fitness: 60682\n",
      "8. Productivity: 59389\n",
      "9. Entertainment: 53076\n",
      "10. Shopping: 49493\n",
      "11. Finance: 44958\n",
      "12. Travel: 43705\n",
      "13. Sports: 31438\n",
      "14. Music: 29886\n",
      "15. Medical: 27985\n",
      "16. Photo & Video: 25944\n",
      "17. Social Networking: 25404\n",
      "18. News: 20408\n",
      "19. Reference: 18608\n",
      "20. Navigation: 12630\n",
      "21. Stickers: 12407\n",
      "22. Book: 11467\n",
      "23. Weather: 3559\n",
      "24. Graphics & Design: 2779\n",
      "25. Developer Tools: 1947\n",
      "26. Magazines & Newspapers: 1295\n"
     ]
    }
   ],
   "source": [
    "# Categories of Apps along with index and value counts\n",
    "for index, genre in enumerate(df['Primary_Genre'].value_counts().index, start=1):\n",
    "    print(f\"{index}. {genre}: {df['Primary_Genre'].value_counts()[genre]}\")"
   ]
  },
  {
   "cell_type": "markdown",
   "id": "3df2ae00",
   "metadata": {
    "papermill": {
     "duration": 0.038212,
     "end_time": "2024-01-30T19:25:00.340518",
     "exception": false,
     "start_time": "2024-01-30T19:25:00.302306",
     "status": "completed"
    },
    "tags": []
   },
   "source": [
    "**Observation Set 9:**\n",
    "- It shows that there are 26 types of applications available on Apple Appstore according to our data.\n",
    "- The top 3 categories of applications present on Apple Appstore are:\n",
    "   1. Games with 193641 number of apps\n",
    "   2. Busniess with 128203 number of apps\n",
    "   3. Education with 119114 number of apps\n",
    "- The least categories of applications present on Apple Appstore are:\n",
    "   1. Graphics & Design with 2779 number of apps\n",
    "   2. Developer Tools with 1947 number of apps\n",
    "   3. Magazines & Newspapers with 1295 number of apps"
   ]
  },
  {
   "cell_type": "markdown",
   "id": "2083f27e",
   "metadata": {
    "papermill": {
     "duration": 0.037396,
     "end_time": "2024-01-30T19:25:00.415394",
     "exception": false,
     "start_time": "2024-01-30T19:25:00.377998",
     "status": "completed"
    },
    "tags": []
   },
   "source": [
    "### **6.2 Required IOS Version:**\n",
    "It tells the required IOS version to run any application on Apple Appstore."
   ]
  },
  {
   "cell_type": "code",
   "execution_count": 45,
   "id": "29e39a44",
   "metadata": {
    "execution": {
     "iopub.execute_input": "2024-01-30T19:25:00.495494Z",
     "iopub.status.busy": "2024-01-30T19:25:00.495050Z",
     "iopub.status.idle": "2024-01-30T19:25:00.578596Z",
     "shell.execute_reply": "2024-01-30T19:25:00.577348Z"
    },
    "papermill": {
     "duration": 0.126344,
     "end_time": "2024-01-30T19:25:00.581051",
     "exception": false,
     "start_time": "2024-01-30T19:25:00.454707",
     "status": "completed"
    },
    "tags": []
   },
   "outputs": [
    {
     "data": {
      "text/plain": [
       "259"
      ]
     },
     "execution_count": 45,
     "metadata": {},
     "output_type": "execute_result"
    }
   ],
   "source": [
    "# Number of versions on which you can run Appstore application\n",
    "df.Required_IOS_Version.nunique()"
   ]
  },
  {
   "cell_type": "code",
   "execution_count": 46,
   "id": "651a4c91",
   "metadata": {
    "execution": {
     "iopub.execute_input": "2024-01-30T19:25:00.659036Z",
     "iopub.status.busy": "2024-01-30T19:25:00.658406Z",
     "iopub.status.idle": "2024-01-30T19:25:00.771272Z",
     "shell.execute_reply": "2024-01-30T19:25:00.769915Z"
    },
    "papermill": {
     "duration": 0.155808,
     "end_time": "2024-01-30T19:25:00.774386",
     "exception": false,
     "start_time": "2024-01-30T19:25:00.618578",
     "status": "completed"
    },
    "tags": []
   },
   "outputs": [
    {
     "data": {
      "text/plain": [
       "11.0      210600\n",
       "9.0       206001\n",
       "10.0      195939\n",
       "8.0       150913\n",
       "12.0       94408\n",
       "           ...  \n",
       "10.3.0         1\n",
       "5.0.0          1\n",
       "10.6.5         1\n",
       "3.2.0          1\n",
       "11.2.2         1\n",
       "Name: Required_IOS_Version, Length: 259, dtype: int64"
      ]
     },
     "execution_count": 46,
     "metadata": {},
     "output_type": "execute_result"
    }
   ],
   "source": [
    "# Number of times a specific IOS version appears\n",
    "df.Required_IOS_Version.value_counts()"
   ]
  },
  {
   "cell_type": "markdown",
   "id": "d9f25c71",
   "metadata": {
    "papermill": {
     "duration": 0.040771,
     "end_time": "2024-01-30T19:25:00.857626",
     "exception": false,
     "start_time": "2024-01-30T19:25:00.816855",
     "status": "completed"
    },
    "tags": []
   },
   "source": [
    "**Observation Set 10:**\n",
    "- It shows that there are different applications available with different IOS version requirements, means that not every version can run application of the Appstore.\n",
    "- There are 259 specific IOS versions that can run applications from Appstore."
   ]
  },
  {
   "cell_type": "markdown",
   "id": "8e81bdd8",
   "metadata": {
    "papermill": {
     "duration": 0.039284,
     "end_time": "2024-01-30T19:25:00.936911",
     "exception": false,
     "start_time": "2024-01-30T19:25:00.897627",
     "status": "completed"
    },
    "tags": []
   },
   "source": [
    "### **6.3 Released:**\n",
    "It shows the date when a specific app was released."
   ]
  },
  {
   "cell_type": "code",
   "execution_count": 47,
   "id": "9cc3c7c9",
   "metadata": {
    "execution": {
     "iopub.execute_input": "2024-01-30T19:25:01.027149Z",
     "iopub.status.busy": "2024-01-30T19:25:01.026729Z",
     "iopub.status.idle": "2024-01-30T19:25:01.134755Z",
     "shell.execute_reply": "2024-01-30T19:25:01.133393Z"
    },
    "papermill": {
     "duration": 0.154041,
     "end_time": "2024-01-30T19:25:01.137283",
     "exception": false,
     "start_time": "2024-01-30T19:25:00.983242",
     "status": "completed"
    },
    "tags": []
   },
   "outputs": [
    {
     "data": {
      "text/plain": [
       "'2008-09-24T19:48:40Z'"
      ]
     },
     "execution_count": 47,
     "metadata": {},
     "output_type": "execute_result"
    }
   ],
   "source": [
    "df.Released.min()"
   ]
  },
  {
   "cell_type": "code",
   "execution_count": 48,
   "id": "03d937a8",
   "metadata": {
    "execution": {
     "iopub.execute_input": "2024-01-30T19:25:01.220457Z",
     "iopub.status.busy": "2024-01-30T19:25:01.219321Z",
     "iopub.status.idle": "2024-01-30T19:25:01.325458Z",
     "shell.execute_reply": "2024-01-30T19:25:01.324180Z"
    },
    "papermill": {
     "duration": 0.151835,
     "end_time": "2024-01-30T19:25:01.327935",
     "exception": false,
     "start_time": "2024-01-30T19:25:01.176100",
     "status": "completed"
    },
    "tags": []
   },
   "outputs": [
    {
     "data": {
      "text/plain": [
       "'2022-04-09T07:00:00Z'"
      ]
     },
     "execution_count": 48,
     "metadata": {},
     "output_type": "execute_result"
    }
   ],
   "source": [
    "df.Released.max()"
   ]
  },
  {
   "cell_type": "markdown",
   "id": "b5654147",
   "metadata": {
    "papermill": {
     "duration": 0.038368,
     "end_time": "2024-01-30T19:25:01.404806",
     "exception": false,
     "start_time": "2024-01-30T19:25:01.366438",
     "status": "completed"
    },
    "tags": []
   },
   "source": [
    "**Observation Set 11:**\n",
    "- It shows that according to data the first app released was on 24 Sep, 2008 and the last app released was on 09 April, 2022.\n",
    "- It also shows that the data we have is between Sep 2008 to April 2022."
   ]
  },
  {
   "cell_type": "markdown",
   "id": "23e1de31",
   "metadata": {
    "papermill": {
     "duration": 0.038391,
     "end_time": "2024-01-30T19:25:01.482074",
     "exception": false,
     "start_time": "2024-01-30T19:25:01.443683",
     "status": "completed"
    },
    "tags": []
   },
   "source": [
    "### **6.4 Currency:**\n",
    "It shows the currency in which price is listed for applications on Appstore like for in-app purchases and subscriptions."
   ]
  },
  {
   "cell_type": "code",
   "execution_count": 49,
   "id": "b84f32d1",
   "metadata": {
    "execution": {
     "iopub.execute_input": "2024-01-30T19:25:01.562610Z",
     "iopub.status.busy": "2024-01-30T19:25:01.561678Z",
     "iopub.status.idle": "2024-01-30T19:25:01.634962Z",
     "shell.execute_reply": "2024-01-30T19:25:01.633164Z"
    },
    "papermill": {
     "duration": 0.116398,
     "end_time": "2024-01-30T19:25:01.638119",
     "exception": false,
     "start_time": "2024-01-30T19:25:01.521721",
     "status": "completed"
    },
    "tags": []
   },
   "outputs": [
    {
     "data": {
      "text/plain": [
       "array(['USD'], dtype=object)"
      ]
     },
     "execution_count": 49,
     "metadata": {},
     "output_type": "execute_result"
    }
   ],
   "source": [
    "df.Currency.unique()"
   ]
  },
  {
   "cell_type": "markdown",
   "id": "b05cb62d",
   "metadata": {
    "papermill": {
     "duration": 0.040993,
     "end_time": "2024-01-30T19:25:01.720618",
     "exception": false,
     "start_time": "2024-01-30T19:25:01.679625",
     "status": "completed"
    },
    "tags": []
   },
   "source": [
    "**Observation Set 12**\n",
    "\n",
    "It shows that for paid apps if you want to buy an app or in-app purchases or subscriptions then you only can but it in US dollars."
   ]
  },
  {
   "cell_type": "markdown",
   "id": "58d38a1b",
   "metadata": {
    "papermill": {
     "duration": 0.042666,
     "end_time": "2024-01-30T19:25:01.804985",
     "exception": false,
     "start_time": "2024-01-30T19:25:01.762319",
     "status": "completed"
    },
    "tags": []
   },
   "source": [
    "### **6.5 Price:**\n",
    "It shows the price for different apps on Appstore and as we have seen in the above column prices will be in US dollars."
   ]
  },
  {
   "cell_type": "code",
   "execution_count": 50,
   "id": "e1402a50",
   "metadata": {
    "execution": {
     "iopub.execute_input": "2024-01-30T19:25:01.890443Z",
     "iopub.status.busy": "2024-01-30T19:25:01.889476Z",
     "iopub.status.idle": "2024-01-30T19:25:01.910537Z",
     "shell.execute_reply": "2024-01-30T19:25:01.909018Z"
    },
    "papermill": {
     "duration": 0.067442,
     "end_time": "2024-01-30T19:25:01.913584",
     "exception": false,
     "start_time": "2024-01-30T19:25:01.846142",
     "status": "completed"
    },
    "tags": []
   },
   "outputs": [
    {
     "data": {
      "text/plain": [
       "array([0.00000000e+00, 2.99000000e+00, 1.99000000e+00, 9.90000000e-01,\n",
       "       4.99000000e+00, 9.99000000e+00, 5.99000000e+00, 6.99000000e+00,\n",
       "       1.69900000e+01, 1.99900000e+01, 3.99900000e+01, 5.99900000e+01,\n",
       "       8.99000000e+00, 7.99000000e+00, 1.89900000e+01, 3.99000000e+00,\n",
       "       2.49900000e+01, 1.49900000e+01, 2.89900000e+01, 2.19900000e+01,\n",
       "       1.39900000e+01, 1.09900000e+01, 1.19900000e+01, 1.29990000e+02,\n",
       "       2.29900000e+01, 1.39990000e+02, 2.59900000e+01, 1.29900000e+01,\n",
       "       4.99900000e+01, 2.39900000e+01, 1.19990000e+02, 7.99900000e+01,\n",
       "       1.79900000e+01, 4.99990000e+02, 2.49990000e+02, 1.99990000e+02,\n",
       "       2.29990000e+02, 3.49900000e+01, 2.09900000e+01, 9.99900000e+01,\n",
       "       3.39900000e+01, 5.49900000e+01, 4.59900000e+01, 4.49900000e+01,\n",
       "       2.99900000e+01, 6.99900000e+01, 2.79900000e+01, 8.49900000e+01,\n",
       "       6.49900000e+01, 1.59900000e+01, 2.69900000e+01, 3.59900000e+01,\n",
       "       4.09900000e+01, 1.74990000e+02, 1.49990000e+02, 9.49900000e+01,\n",
       "       7.49900000e+01, 3.49990000e+02, 4.89900000e+01, 1.09990000e+02,\n",
       "       3.89900000e+01, 3.19900000e+01, 3.69900000e+01, 8.99900000e+01,\n",
       "       1.69990000e+02, 1.24990000e+02, 3.99990000e+02, 2.19990000e+02,\n",
       "       4.39900000e+01, 6.99990000e+02, 4.29900000e+01, 3.79900000e+01,\n",
       "       2.99990000e+02, 4.49990000e+02, 1.59990000e+02, 4.19900000e+01,\n",
       "       3.29900000e+01, 9.95000000e-01, 3.09900000e+01, 7.99990000e+02,\n",
       "       9.99990000e+02, 4.79900000e+01, 2.49500000e+00, 1.79990000e+02,\n",
       "       4.95000000e-01, 2.09990000e+02, 4.99500000e+00, 3.30000000e-01,\n",
       "       6.60000000e-01, 1.24950000e+01, 1.99500000e+00, 2.39990000e+02,\n",
       "       3.49500000e+00, 2.99500000e+00, 5.99990000e+02, 4.69900000e+01,\n",
       "       1.49500000e+00, 6.99500000e+00, 9.99500000e+00, 1.49000000e+00,\n",
       "       1.32666667e+00, 6.63333333e-01, 5.99500000e+00, 8.99990000e+02,\n",
       "       1.89990000e+02])"
      ]
     },
     "execution_count": 50,
     "metadata": {},
     "output_type": "execute_result"
    }
   ],
   "source": [
    "df.Price.unique()"
   ]
  },
  {
   "cell_type": "code",
   "execution_count": 51,
   "id": "4b160715",
   "metadata": {
    "execution": {
     "iopub.execute_input": "2024-01-30T19:25:01.996905Z",
     "iopub.status.busy": "2024-01-30T19:25:01.996445Z",
     "iopub.status.idle": "2024-01-30T19:25:02.007788Z",
     "shell.execute_reply": "2024-01-30T19:25:02.006443Z"
    },
    "papermill": {
     "duration": 0.057377,
     "end_time": "2024-01-30T19:25:02.011534",
     "exception": false,
     "start_time": "2024-01-30T19:25:01.954157",
     "status": "completed"
    },
    "tags": []
   },
   "outputs": [
    {
     "data": {
      "text/plain": [
       "999.99"
      ]
     },
     "execution_count": 51,
     "metadata": {},
     "output_type": "execute_result"
    }
   ],
   "source": [
    "df.Price.max()"
   ]
  },
  {
   "cell_type": "code",
   "execution_count": 52,
   "id": "ce69b894",
   "metadata": {
    "execution": {
     "iopub.execute_input": "2024-01-30T19:25:02.092299Z",
     "iopub.status.busy": "2024-01-30T19:25:02.091894Z",
     "iopub.status.idle": "2024-01-30T19:25:02.870226Z",
     "shell.execute_reply": "2024-01-30T19:25:02.869068Z"
    },
    "papermill": {
     "duration": 0.822245,
     "end_time": "2024-01-30T19:25:02.872765",
     "exception": false,
     "start_time": "2024-01-30T19:25:02.050520",
     "status": "completed"
    },
    "tags": []
   },
   "outputs": [
    {
     "data": {
      "text/plain": [
       "App_Id                                App_Name                        AppStore_Url                                                                   Primary_Genre     Content_Rating  Required_IOS_Version  Released              Updated               Version  Price   Currency  DeveloperId  Developer                                  Developer_Url                                                                                    Average_User_Rating  Reviews  Current_Version_Score  Current_Version_Reviews  Size_MBs  Type  Review_Category  \n",
       "com.acespritech.pos-V13               ASPL POS (Odoo V13)             https://apps.apple.com/us/app/aspl-pos-odoo-v13/id1533963112?uo=4              Business          Kids            11.1                  2020-10-07T07:00:00Z  2020-10-07T17:09:17Z  1.0      999.99  USD       1533958181   ACESPRITECH SOLUTIONS PRIVATE LIMITED      https://apps.apple.com/us/developer/acespritech-solutions-private-limited/id1533958181?uo=4      0.00000              0        0.00000                0                        20.72     Paid  NoReviewsProvided    1\n",
       "com.acespritech.pos-V14               ASPL POS (Odoo V14)             https://apps.apple.com/us/app/aspl-pos-odoo-v14/id1544904509?uo=4              Business          Kids            12.0                  2020-12-23T08:00:00Z  2020-12-23T15:42:42Z  1.0      999.99  USD       1533958181   ACESPRITECH SOLUTIONS PRIVATE LIMITED      https://apps.apple.com/us/developer/acespritech-solutions-private-limited/id1533958181?uo=4      0.00000              0        0.00000                0                        20.54     Paid  NoReviewsProvided    1\n",
       "com.entertastic.controlpanel          Entertastic white label admin   https://apps.apple.com/us/app/entertastic-white-label-admin/id1164060711?uo=4  Business          Kids            13.4                  2016-10-18T22:44:21Z  2020-05-19T12:52:32Z  2.2      999.99  USD       1072443162   Entertastic                                https://apps.apple.com/us/developer/entertastic/id1072443162?uo=4                                0.00000              0        0.00000                0                        2.59      Paid  NoReviewsProvided    1\n",
       "com.kanal.magnetvision                MagnetVision™                   https://apps.apple.com/us/app/magnetvision/id1299179220?uo=4                   Medical           Adults          11.4                  2018-03-07T12:42:13Z  2020-09-30T14:41:06Z  2.6      999.99  USD       1114168861   Advanced Magnetic Analytics, LLC           https://apps.apple.com/us/developer/advanced-magnetic-analytics-llc/id1114168861?uo=4            0.00000              0        0.00000                0                        849.03    Paid  NoReviewsProvided    1\n",
       "com.mayfonkathletic.Vert-Stealth      VERT Stealth                    https://apps.apple.com/us/app/vert-stealth/id1210026862?uo=4                   Sports            Kids            13.0                  2017-04-27T19:38:03Z  2021-10-06T00:44:44Z  1.3.3    999.99  USD       750050887    Mayfonk Athletic, LLC                      https://apps.apple.com/us/developer/mayfonk-athletic-llc/id750050887?uo=4                        0.00000              0        0.00000                0                        148.35    Paid  NoReviewsProvided    1\n",
       "com.mayfonkathletic.vert-team-system  VERT Team System                https://apps.apple.com/us/app/vert-team-system/id1375563028?uo=4               Health & Fitness  Kids            13.0                  2018-06-12T10:28:09Z  2021-10-06T00:45:00Z  1.3.3    999.99  USD       750050887    Mayfonk Athletic, LLC                      https://apps.apple.com/us/developer/mayfonk-athletic-llc/id750050887?uo=4                        0.00000              0        0.00000                0                        148.49    Paid  NoReviewsProvided    1\n",
       "com.motionics.TowerGage               Tower Gage                      https://apps.apple.com/us/app/tower-gage/id1418993903?uo=4                     Productivity      Kids            10.0                  2019-12-05T08:00:00Z  2020-01-23T19:22:42Z  1.1      999.99  USD       424498959    Motionics LLC                              https://apps.apple.com/us/developer/motionics-llc/id424498959?uo=4                               0.00000              0        0.00000                0                        68.94     Paid  NoReviewsProvided    1\n",
       "com.motionics.VibraShaker             Shale Shaker Vibration          https://apps.apple.com/us/app/shale-shaker-vibration/id804227520?uo=4          Utilities         Kids            9.0                   2015-02-25T21:32:42Z  2021-10-12T08:46:22Z  1.9      999.99  USD       424498959    Motionics LLC                              https://apps.apple.com/us/developer/motionics-llc/id424498959?uo=4                               0.00000              0        0.00000                0                        9.59      Paid  NoReviewsProvided    1\n",
       "com.reyburn.cybertuner                CyberTuner                      https://apps.apple.com/us/app/cybertuner/id490451741?uo=4                      Music             Adults          9.0                   2012-04-26T04:02:49Z  2021-05-01T15:18:42Z  7.9.9    999.99  USD       490451744    Reyburn Piano Service, Inc.                https://apps.apple.com/us/developer/reyburn-piano-service-inc/id490451744?uo=4                   4.84091              44       4.84091                44                       13.46     Paid  Less than 10K        1\n",
       "com.tapjets.pilot                     Plane Factor - Private Jet Ops  https://apps.apple.com/us/app/plane-factor-private-jet-ops/id1317066467?uo=4   Navigation        Kids            8.2                   2020-05-06T07:00:00Z  2020-05-07T03:55:19Z  1.0.1    999.99  USD       1090888420   Tapjets                                    https://apps.apple.com/us/developer/tapjets/id1090888420?uo=4                                    0.00000              0        0.00000                0                        68.43     Paid  NoReviewsProvided    1\n",
       "com.vertigo.shottracertournament      Shot Tracer Event               https://apps.apple.com/us/app/shot-tracer-event/id1484938181?uo=4              Sports            Kids            14.5                  2020-01-27T08:00:00Z  2021-09-19T17:34:06Z  2.7      999.99  USD       1039078678   Visual Vertigo Software Technologies GmbH  https://apps.apple.com/us/developer/visual-vertigo-software-technologies-gmbh/id1039078678?uo=4  0.00000              0        0.00000                0                        39.12     Paid  NoReviewsProvided    1\n",
       "com.yourcrawlspace.ycssketch          YCS Sketch                      https://apps.apple.com/us/app/ycs-sketch/id1514163940?uo=4                     Utilities         Kids            11.0                  2020-05-22T07:00:00Z  2020-05-22T16:01:10Z  0.0.12   999.99  USD       1514163939   Your Crawl Space                           https://apps.apple.com/us/developer/your-crawl-space/id1514163939?uo=4                           0.00000              0        0.00000                0                        30.13     Paid  NoReviewsProvided    1\n",
       "it.intesy.RP-MEDIA                    RP.MEDIA                        https://apps.apple.com/us/app/rp-media/id548946856?uo=4                        Music             Kids            7.0                   2012-08-09T15:50:30Z  2020-06-23T04:59:42Z  1.8.0    999.99  USD       505422535    INTESY S.R.L.                              https://apps.apple.com/us/developer/intesy-s-r-l/id505422535?uo=4                                5.00000              1        5.00000                1                        11.75     Paid  Less than 10K        1\n",
       "dtype: int64"
      ]
     },
     "execution_count": 52,
     "metadata": {},
     "output_type": "execute_result"
    }
   ],
   "source": [
    "df[df['Price']==999.99].value_counts()"
   ]
  },
  {
   "cell_type": "markdown",
   "id": "3be6fd61",
   "metadata": {
    "papermill": {
     "duration": 0.04472,
     "end_time": "2024-01-30T19:25:02.960812",
     "exception": false,
     "start_time": "2024-01-30T19:25:02.916092",
     "status": "completed"
    },
    "tags": []
   },
   "source": [
    "**Observations Set 13:**\n",
    "\n",
    "It shows that there are free as well as paid apps on Appstore and there are 13 Apps of different categories like Business(3), Sports, Utilities and Music(2), Navigation, Productivity, Medical, Health & Fitness(1) with highest price of 999.99 US dollars."
   ]
  },
  {
   "cell_type": "markdown",
   "id": "9a73c943",
   "metadata": {
    "papermill": {
     "duration": 0.043716,
     "end_time": "2024-01-30T19:25:03.045813",
     "exception": false,
     "start_time": "2024-01-30T19:25:03.002097",
     "status": "completed"
    },
    "tags": []
   },
   "source": [
    "### **6.6 Developer:**\n",
    "It can tell us which developer has the most number of apps on Apple Appstore and also how many number of developers have apps on Appstore."
   ]
  },
  {
   "cell_type": "code",
   "execution_count": 53,
   "id": "8ba3414e",
   "metadata": {
    "execution": {
     "iopub.execute_input": "2024-01-30T19:25:03.136708Z",
     "iopub.status.busy": "2024-01-30T19:25:03.134923Z",
     "iopub.status.idle": "2024-01-30T19:25:03.498879Z",
     "shell.execute_reply": "2024-01-30T19:25:03.497700Z"
    },
    "papermill": {
     "duration": 0.412874,
     "end_time": "2024-01-30T19:25:03.501714",
     "exception": false,
     "start_time": "2024-01-30T19:25:03.088840",
     "status": "completed"
    },
    "tags": []
   },
   "outputs": [
    {
     "data": {
      "text/plain": [
       "504606"
      ]
     },
     "execution_count": 53,
     "metadata": {},
     "output_type": "execute_result"
    }
   ],
   "source": [
    "df.Developer.nunique()"
   ]
  },
  {
   "cell_type": "code",
   "execution_count": 54,
   "id": "cae8afbd",
   "metadata": {
    "execution": {
     "iopub.execute_input": "2024-01-30T19:25:03.589837Z",
     "iopub.status.busy": "2024-01-30T19:25:03.588902Z",
     "iopub.status.idle": "2024-01-30T19:25:04.513326Z",
     "shell.execute_reply": "2024-01-30T19:25:04.512014Z"
    },
    "papermill": {
     "duration": 0.969743,
     "end_time": "2024-01-30T19:25:04.516016",
     "exception": false,
     "start_time": "2024-01-30T19:25:03.546273",
     "status": "completed"
    },
    "tags": []
   },
   "outputs": [
    {
     "data": {
      "text/plain": [
       "ChowNow                               3966\n",
       "Touch2Success                         1649\n",
       "Alexander Velimirovic                 1506\n",
       "MINDBODY, Incorporated                1247\n",
       "Phorest                               1131\n",
       "                                      ... \n",
       "GRIN BOKS, OOO                           1\n",
       "Luke Miller                              1\n",
       "Green2Green                              1\n",
       "Green Health Foodstuff Trading LLC       1\n",
       "Luu Minh                                 1\n",
       "Name: Developer, Length: 504606, dtype: int64"
      ]
     },
     "execution_count": 54,
     "metadata": {},
     "output_type": "execute_result"
    }
   ],
   "source": [
    "df.Developer.value_counts()"
   ]
  },
  {
   "cell_type": "markdown",
   "id": "0fc68d75",
   "metadata": {
    "papermill": {
     "duration": 0.039026,
     "end_time": "2024-01-30T19:25:04.596812",
     "exception": false,
     "start_time": "2024-01-30T19:25:04.557786",
     "status": "completed"
    },
    "tags": []
   },
   "source": [
    "**Observation Set 14:**\n",
    "\n",
    "It tells us that there are 504606 developers who have uploaded their apps on Apple Appstore and from these 504606 developers, the top 3 with most applications are:\n",
    "1. ChowNow -> 3966 Apps\n",
    "2. Touch2Success -> 1694 Apps\n",
    "3. Alexander Velimirovic -> 1506 Apps"
   ]
  },
  {
   "cell_type": "markdown",
   "id": "eb466278",
   "metadata": {
    "papermill": {
     "duration": 0.03852,
     "end_time": "2024-01-30T19:25:04.674424",
     "exception": false,
     "start_time": "2024-01-30T19:25:04.635904",
     "status": "completed"
    },
    "tags": []
   },
   "source": [
    "### **6.7 Average_User_Rating:**\n",
    "Let's round off and store the float decimal values in the df.Average_User_Rating column, which are currently in the range of 0 to 5."
   ]
  },
  {
   "cell_type": "code",
   "execution_count": 55,
   "id": "342a4b34",
   "metadata": {
    "execution": {
     "iopub.execute_input": "2024-01-30T19:25:04.754790Z",
     "iopub.status.busy": "2024-01-30T19:25:04.754331Z",
     "iopub.status.idle": "2024-01-30T19:25:04.775125Z",
     "shell.execute_reply": "2024-01-30T19:25:04.773881Z"
    },
    "papermill": {
     "duration": 0.064611,
     "end_time": "2024-01-30T19:25:04.778049",
     "exception": false,
     "start_time": "2024-01-30T19:25:04.713438",
     "status": "completed"
    },
    "tags": []
   },
   "outputs": [],
   "source": [
    "df[\"Average_User_Rating\"] = df[\"Average_User_Rating\"].round().astype(int)"
   ]
  },
  {
   "cell_type": "code",
   "execution_count": 56,
   "id": "ee1a8763",
   "metadata": {
    "execution": {
     "iopub.execute_input": "2024-01-30T19:25:04.865297Z",
     "iopub.status.busy": "2024-01-30T19:25:04.864201Z",
     "iopub.status.idle": "2024-01-30T19:25:04.895818Z",
     "shell.execute_reply": "2024-01-30T19:25:04.894684Z"
    },
    "papermill": {
     "duration": 0.079211,
     "end_time": "2024-01-30T19:25:04.898862",
     "exception": false,
     "start_time": "2024-01-30T19:25:04.819651",
     "status": "completed"
    },
    "tags": []
   },
   "outputs": [
    {
     "data": {
      "text/html": [
       "<div>\n",
       "<style scoped>\n",
       "    .dataframe tbody tr th:only-of-type {\n",
       "        vertical-align: middle;\n",
       "    }\n",
       "\n",
       "    .dataframe tbody tr th {\n",
       "        vertical-align: top;\n",
       "    }\n",
       "\n",
       "    .dataframe thead th {\n",
       "        text-align: right;\n",
       "    }\n",
       "</style>\n",
       "<table border=\"1\" class=\"dataframe\">\n",
       "  <thead>\n",
       "    <tr style=\"text-align: right;\">\n",
       "      <th></th>\n",
       "      <th>App_Id</th>\n",
       "      <th>App_Name</th>\n",
       "      <th>AppStore_Url</th>\n",
       "      <th>Primary_Genre</th>\n",
       "      <th>Content_Rating</th>\n",
       "      <th>Required_IOS_Version</th>\n",
       "      <th>Released</th>\n",
       "      <th>Updated</th>\n",
       "      <th>Version</th>\n",
       "      <th>Price</th>\n",
       "      <th>Currency</th>\n",
       "      <th>DeveloperId</th>\n",
       "      <th>Developer</th>\n",
       "      <th>Developer_Url</th>\n",
       "      <th>Average_User_Rating</th>\n",
       "      <th>Reviews</th>\n",
       "      <th>Current_Version_Score</th>\n",
       "      <th>Current_Version_Reviews</th>\n",
       "      <th>Size_MBs</th>\n",
       "      <th>Type</th>\n",
       "      <th>Review_Category</th>\n",
       "    </tr>\n",
       "  </thead>\n",
       "  <tbody>\n",
       "    <tr>\n",
       "      <th>0</th>\n",
       "      <td>com.hkbu.arc.apaper</td>\n",
       "      <td>A+ Paper Guide</td>\n",
       "      <td>https://apps.apple.com/us/app/a-paper-guide/id...</td>\n",
       "      <td>Education</td>\n",
       "      <td>Kids</td>\n",
       "      <td>8.0</td>\n",
       "      <td>2017-09-28T03:02:41Z</td>\n",
       "      <td>2018-12-21T21:30:36Z</td>\n",
       "      <td>1.1.2</td>\n",
       "      <td>0.00</td>\n",
       "      <td>USD</td>\n",
       "      <td>1375410542</td>\n",
       "      <td>HKBU ARC</td>\n",
       "      <td>https://apps.apple.com/us/developer/hkbu-arc/i...</td>\n",
       "      <td>0</td>\n",
       "      <td>0</td>\n",
       "      <td>0.0</td>\n",
       "      <td>0</td>\n",
       "      <td>20.97</td>\n",
       "      <td>Free</td>\n",
       "      <td>NoReviewsProvided</td>\n",
       "    </tr>\n",
       "    <tr>\n",
       "      <th>1</th>\n",
       "      <td>com.dmitriev.abooks</td>\n",
       "      <td>A-Books</td>\n",
       "      <td>https://apps.apple.com/us/app/a-books/id103157...</td>\n",
       "      <td>Book</td>\n",
       "      <td>Kids</td>\n",
       "      <td>10.0</td>\n",
       "      <td>2015-08-31T19:31:32Z</td>\n",
       "      <td>2019-07-23T20:31:09Z</td>\n",
       "      <td>1.3</td>\n",
       "      <td>0.00</td>\n",
       "      <td>USD</td>\n",
       "      <td>1031572001</td>\n",
       "      <td>Roman Dmitriev</td>\n",
       "      <td>https://apps.apple.com/us/developer/roman-dmit...</td>\n",
       "      <td>5</td>\n",
       "      <td>1</td>\n",
       "      <td>5.0</td>\n",
       "      <td>1</td>\n",
       "      <td>12.53</td>\n",
       "      <td>Free</td>\n",
       "      <td>Less than 10K</td>\n",
       "    </tr>\n",
       "    <tr>\n",
       "      <th>2</th>\n",
       "      <td>no.terp.abooks</td>\n",
       "      <td>A-books</td>\n",
       "      <td>https://apps.apple.com/us/app/a-books/id145702...</td>\n",
       "      <td>Book</td>\n",
       "      <td>Kids</td>\n",
       "      <td>9.0</td>\n",
       "      <td>2021-04-14T07:00:00Z</td>\n",
       "      <td>2021-05-30T21:08:54Z</td>\n",
       "      <td>1.3.1</td>\n",
       "      <td>0.00</td>\n",
       "      <td>USD</td>\n",
       "      <td>1457024163</td>\n",
       "      <td>Terp AS</td>\n",
       "      <td>https://apps.apple.com/us/developer/terp-as/id...</td>\n",
       "      <td>0</td>\n",
       "      <td>0</td>\n",
       "      <td>0.0</td>\n",
       "      <td>0</td>\n",
       "      <td>20.93</td>\n",
       "      <td>Free</td>\n",
       "      <td>NoReviewsProvided</td>\n",
       "    </tr>\n",
       "    <tr>\n",
       "      <th>3</th>\n",
       "      <td>fr.antoinettefleur.Book1</td>\n",
       "      <td>A-F Book #1</td>\n",
       "      <td>https://apps.apple.com/us/app/a-f-book-1/id500...</td>\n",
       "      <td>Book</td>\n",
       "      <td>Kids</td>\n",
       "      <td>8.0</td>\n",
       "      <td>2012-02-10T03:40:07Z</td>\n",
       "      <td>2019-10-29T12:40:37Z</td>\n",
       "      <td>1.2</td>\n",
       "      <td>2.99</td>\n",
       "      <td>USD</td>\n",
       "      <td>439568839</td>\n",
       "      <td>i-editeur.com</td>\n",
       "      <td>https://apps.apple.com/us/developer/i-editeur-...</td>\n",
       "      <td>0</td>\n",
       "      <td>0</td>\n",
       "      <td>0.0</td>\n",
       "      <td>0</td>\n",
       "      <td>78.06</td>\n",
       "      <td>Paid</td>\n",
       "      <td>NoReviewsProvided</td>\n",
       "    </tr>\n",
       "    <tr>\n",
       "      <th>4</th>\n",
       "      <td>com.imonstersoft.azdictionaryios</td>\n",
       "      <td>A-Z Synonyms Dictionary</td>\n",
       "      <td>https://apps.apple.com/us/app/a-z-synonyms-dic...</td>\n",
       "      <td>Reference</td>\n",
       "      <td>Kids</td>\n",
       "      <td>9.0</td>\n",
       "      <td>2020-12-16T08:00:00Z</td>\n",
       "      <td>2020-12-18T21:36:11Z</td>\n",
       "      <td>1.0.1</td>\n",
       "      <td>0.00</td>\n",
       "      <td>USD</td>\n",
       "      <td>656731821</td>\n",
       "      <td>Ngov chiheang</td>\n",
       "      <td>https://apps.apple.com/us/developer/ngov-chihe...</td>\n",
       "      <td>0</td>\n",
       "      <td>0</td>\n",
       "      <td>0.0</td>\n",
       "      <td>0</td>\n",
       "      <td>61.70</td>\n",
       "      <td>Free</td>\n",
       "      <td>NoReviewsProvided</td>\n",
       "    </tr>\n",
       "  </tbody>\n",
       "</table>\n",
       "</div>"
      ],
      "text/plain": [
       "                             App_Id                 App_Name  \\\n",
       "0               com.hkbu.arc.apaper           A+ Paper Guide   \n",
       "1               com.dmitriev.abooks                  A-Books   \n",
       "2                    no.terp.abooks                  A-books   \n",
       "3          fr.antoinettefleur.Book1              A-F Book #1   \n",
       "4  com.imonstersoft.azdictionaryios  A-Z Synonyms Dictionary   \n",
       "\n",
       "                                        AppStore_Url Primary_Genre  \\\n",
       "0  https://apps.apple.com/us/app/a-paper-guide/id...     Education   \n",
       "1  https://apps.apple.com/us/app/a-books/id103157...          Book   \n",
       "2  https://apps.apple.com/us/app/a-books/id145702...          Book   \n",
       "3  https://apps.apple.com/us/app/a-f-book-1/id500...          Book   \n",
       "4  https://apps.apple.com/us/app/a-z-synonyms-dic...     Reference   \n",
       "\n",
       "  Content_Rating Required_IOS_Version              Released  \\\n",
       "0           Kids                  8.0  2017-09-28T03:02:41Z   \n",
       "1           Kids                 10.0  2015-08-31T19:31:32Z   \n",
       "2           Kids                  9.0  2021-04-14T07:00:00Z   \n",
       "3           Kids                  8.0  2012-02-10T03:40:07Z   \n",
       "4           Kids                  9.0  2020-12-16T08:00:00Z   \n",
       "\n",
       "                Updated Version  Price Currency  DeveloperId       Developer  \\\n",
       "0  2018-12-21T21:30:36Z   1.1.2   0.00      USD   1375410542        HKBU ARC   \n",
       "1  2019-07-23T20:31:09Z     1.3   0.00      USD   1031572001  Roman Dmitriev   \n",
       "2  2021-05-30T21:08:54Z   1.3.1   0.00      USD   1457024163         Terp AS   \n",
       "3  2019-10-29T12:40:37Z     1.2   2.99      USD    439568839   i-editeur.com   \n",
       "4  2020-12-18T21:36:11Z   1.0.1   0.00      USD    656731821   Ngov chiheang   \n",
       "\n",
       "                                       Developer_Url  Average_User_Rating  \\\n",
       "0  https://apps.apple.com/us/developer/hkbu-arc/i...                    0   \n",
       "1  https://apps.apple.com/us/developer/roman-dmit...                    5   \n",
       "2  https://apps.apple.com/us/developer/terp-as/id...                    0   \n",
       "3  https://apps.apple.com/us/developer/i-editeur-...                    0   \n",
       "4  https://apps.apple.com/us/developer/ngov-chihe...                    0   \n",
       "\n",
       "   Reviews  Current_Version_Score  Current_Version_Reviews  Size_MBs  Type  \\\n",
       "0        0                    0.0                        0     20.97  Free   \n",
       "1        1                    5.0                        1     12.53  Free   \n",
       "2        0                    0.0                        0     20.93  Free   \n",
       "3        0                    0.0                        0     78.06  Paid   \n",
       "4        0                    0.0                        0     61.70  Free   \n",
       "\n",
       "     Review_Category  \n",
       "0  NoReviewsProvided  \n",
       "1      Less than 10K  \n",
       "2  NoReviewsProvided  \n",
       "3  NoReviewsProvided  \n",
       "4  NoReviewsProvided  "
      ]
     },
     "execution_count": 56,
     "metadata": {},
     "output_type": "execute_result"
    }
   ],
   "source": [
    "df.head()"
   ]
  },
  {
   "cell_type": "markdown",
   "id": "78d1c9b3",
   "metadata": {
    "papermill": {
     "duration": 0.044698,
     "end_time": "2024-01-30T19:25:04.989480",
     "exception": false,
     "start_time": "2024-01-30T19:25:04.944782",
     "status": "completed"
    },
    "tags": []
   },
   "source": [
    "### **6.8 Data Distrbution:**\n",
    "You can here check the distribution of each column here to check whether data sis normally or skewed."
   ]
  },
  {
   "cell_type": "markdown",
   "id": "b7862fa3",
   "metadata": {
    "papermill": {
     "duration": 0.044319,
     "end_time": "2024-01-30T19:25:05.076591",
     "exception": false,
     "start_time": "2024-01-30T19:25:05.032272",
     "status": "completed"
    },
    "tags": []
   },
   "source": [
    "## **7.0 Questions & Answers**\n",
    "In this section, we will explore key questions and provide insightful answers based on the dataset analysis:\n",
    "\n",
    "**1. Developer Insights:**\n",
    "\n",
    "Question: Which developer boasts the highest number of apps on the Apple App Store, and how are these apps categorized?\n",
    "\n",
    "**2. Impact of Updates:**\n",
    "\n",
    "Question: Is there a discernible impact of app updates on the average user rating?\n",
    "\n",
    "**3. Top Categories:**\n",
    "\n",
    "Question: What are the top 10 categories of apps that are prevalent on the Apple App Store?\n",
    "\n",
    "**4. Genre Attracted Clintele:**\n",
    "\n",
    "Question: What type of Genre attracted what kind of clintele in terms of revenues?\n",
    "\n",
    "### **5. Pricing across categories:**\n",
    "\n",
    "How does the pricing strategy differ across genres and categories?\n",
    "\n",
    "**6. App Size and User Rating:**\n",
    "\n",
    "Question: How does the size of an app relate to its average user rating?\n",
    "\n",
    "**7. App Size Distribution by Genre:**\n",
    "\n",
    "Question: How are app sizes distributed across different primary genres?\n",
    "\n",
    "**8. Required iOS Versions:**\n",
    "\n",
    "Question: Which iOS versions are most commonly required by the apps in the dataset?\n",
    "\n",
    "**9. Impact of Reviews on App Size:**\n",
    "\n",
    "Question: Is there a noticeable impact of the number of reviews on the size of apps?\n",
    "\n",
    "**10. Current Version Score and Popularity:**\n",
    "\n",
    "Question: How does an app's current version score influence its popularity and user ratings?"
   ]
  },
  {
   "cell_type": "markdown",
   "id": "cabaa871",
   "metadata": {
    "papermill": {
     "duration": 0.040981,
     "end_time": "2024-01-30T19:25:05.158237",
     "exception": false,
     "start_time": "2024-01-30T19:25:05.117256",
     "status": "completed"
    },
    "tags": []
   },
   "source": [
    "---"
   ]
  },
  {
   "cell_type": "markdown",
   "id": "7b72412e",
   "metadata": {
    "papermill": {
     "duration": 0.041809,
     "end_time": "2024-01-30T19:25:05.244579",
     "exception": false,
     "start_time": "2024-01-30T19:25:05.202770",
     "status": "completed"
    },
    "tags": []
   },
   "source": [
    "### **1. Developer Insights:**\n",
    "\n",
    "Question: Which developer boasts the highest number of apps on the Apple App Store, and how are these apps categorized?"
   ]
  },
  {
   "cell_type": "code",
   "execution_count": 57,
   "id": "9d962727",
   "metadata": {
    "execution": {
     "iopub.execute_input": "2024-01-30T19:25:05.333176Z",
     "iopub.status.busy": "2024-01-30T19:25:05.330751Z",
     "iopub.status.idle": "2024-01-30T19:25:07.142381Z",
     "shell.execute_reply": "2024-01-30T19:25:07.140094Z"
    },
    "papermill": {
     "duration": 1.857212,
     "end_time": "2024-01-30T19:25:07.144829",
     "exception": false,
     "start_time": "2024-01-30T19:25:05.287617",
     "status": "completed"
    },
    "tags": []
   },
   "outputs": [
    {
     "name": "stdout",
     "output_type": "stream",
     "text": [
      "The developer with the highest number of apps is ChowNow with 3966 apps.\n",
      "The categories in which their apps are categorized are:\n",
      "Food & Drink    3965\n",
      "Productivity       1\n",
      "Name: Primary_Genre, dtype: int64\n"
     ]
    }
   ],
   "source": [
    "# Group the dataframe by Developer and count the number of apps for each developer\n",
    "developer_counts = df.groupby('Developer').size().reset_index(name='App_Count')\n",
    "\n",
    "# Sort the developers by the number of apps in descending order\n",
    "sorted_developers = developer_counts.sort_values('App_Count', ascending=False)\n",
    "\n",
    "# Get the developer with the highest number of apps\n",
    "top_developer = sorted_developers.iloc[0]['Developer']\n",
    "top_apps_count = sorted_developers.iloc[0]['App_Count']\n",
    "\n",
    "# Filter the dataframe by the top developer\n",
    "top_developer_apps = df[df['Developer'] == top_developer]\n",
    "\n",
    "# Count the number of apps in each primary genre category for the top developer\n",
    "genre_counts = top_developer_apps['Primary_Genre'].value_counts()\n",
    "\n",
    "# Print the results\n",
    "print(f\"The developer with the highest number of apps is {top_developer} with {top_apps_count} apps.\")\n",
    "print(\"The categories in which their apps are categorized are:\")\n",
    "print(genre_counts)"
   ]
  },
  {
   "cell_type": "code",
   "execution_count": 58,
   "id": "e456dcaa",
   "metadata": {
    "execution": {
     "iopub.execute_input": "2024-01-30T19:25:07.231916Z",
     "iopub.status.busy": "2024-01-30T19:25:07.231460Z",
     "iopub.status.idle": "2024-01-30T19:25:09.290716Z",
     "shell.execute_reply": "2024-01-30T19:25:09.289239Z"
    },
    "papermill": {
     "duration": 2.104254,
     "end_time": "2024-01-30T19:25:09.293376",
     "exception": false,
     "start_time": "2024-01-30T19:25:07.189122",
     "status": "completed"
    },
    "tags": []
   },
   "outputs": [
    {
     "data": {
      "image/png": "[encoded data removed]",
      "text/plain": [
       "<Figure size 1800x600 with 1 Axes>"
      ]
     },
     "metadata": {},
     "output_type": "display_data"
    }
   ],
   "source": [
    "# Group the dataframe by Developer and count the number of apps for each developer\n",
    "developer_counts = df.groupby('Developer').size().reset_index(name='App_Count')\n",
    "\n",
    "# Sort the developers by the number of apps in descending order\n",
    "sorted_developers = developer_counts.sort_values('App_Count', ascending=False)\n",
    "\n",
    "# Get the top 10 developers by app count\n",
    "top_10_developers = sorted_developers.head(10)\n",
    "\n",
    "# Plot a bar chart of the top 10 developers and their app counts\n",
    "top_10_developers.plot(kind='bar', x='Developer', y='App_Count')\n",
    "\n",
    "# Set the title and axis labels\n",
    "plt.title('Top 10 Developers by App Count')\n",
    "plt.xlabel('Developer')\n",
    "plt.ylabel('App Count')\n",
    "\n",
    "# Show the plot\n",
    "plt.show()"
   ]
  },
  {
   "cell_type": "markdown",
   "id": "4e0c1357",
   "metadata": {
    "papermill": {
     "duration": 0.044313,
     "end_time": "2024-01-30T19:25:09.381450",
     "exception": false,
     "start_time": "2024-01-30T19:25:09.337137",
     "status": "completed"
    },
    "tags": []
   },
   "source": [
    "> Figure 3: Show the top 10 Developers with most Apps"
   ]
  },
  {
   "cell_type": "markdown",
   "id": "75b7d847",
   "metadata": {
    "papermill": {
     "duration": 0.040287,
     "end_time": "2024-01-30T19:25:09.464782",
     "exception": false,
     "start_time": "2024-01-30T19:25:09.424495",
     "status": "completed"
    },
    "tags": []
   },
   "source": [
    "Answer 1: \n",
    "\n",
    "The developer with the highest number of apps is ChowNow with 3966 apps.\n",
    "\n",
    "\n",
    "The categories in which their apps are categorized are:\n",
    "- Food & Drink  ->  3965\n",
    "- Productivity  ->  1"
   ]
  },
  {
   "cell_type": "markdown",
   "id": "62243039",
   "metadata": {
    "papermill": {
     "duration": 0.043011,
     "end_time": "2024-01-30T19:25:09.551328",
     "exception": false,
     "start_time": "2024-01-30T19:25:09.508317",
     "status": "completed"
    },
    "tags": []
   },
   "source": [
    "### **2. Impact of Updates:**\n",
    "\n",
    "Question: Is there a discernible impact of app updates on the average user rating?"
   ]
  },
  {
   "cell_type": "code",
   "execution_count": 59,
   "id": "0425eb29",
   "metadata": {
    "execution": {
     "iopub.execute_input": "2024-01-30T19:25:09.636139Z",
     "iopub.status.busy": "2024-01-30T19:25:09.634403Z",
     "iopub.status.idle": "2024-01-30T19:25:12.992404Z",
     "shell.execute_reply": "2024-01-30T19:25:12.990912Z"
    },
    "papermill": {
     "duration": 3.402698,
     "end_time": "2024-01-30T19:25:12.995045",
     "exception": false,
     "start_time": "2024-01-30T19:25:09.592347",
     "status": "completed"
    },
    "tags": []
   },
   "outputs": [
    {
     "name": "stderr",
     "output_type": "stream",
     "text": [
      "/tmp/ipykernel_20/1190299600.py:5: UserWarning: Converting to PeriodArray/Index representation will drop timezone information.\n",
      "  df['UpdateMonth'] = df['Updated'].dt.to_period('M').dt.to_timestamp()\n"
     ]
    },
    {
     "data": {
      "text/html": [
       "        <script type=\"text/javascript\">\n",
       "        window.PlotlyConfig = {MathJaxConfig: 'local'};\n",
       "        if (window.MathJax && window.MathJax.Hub && window.MathJax.Hub.Config) {window.MathJax.Hub.Config({SVG: {font: \"STIX-Web\"}});}\n",
       "        if (typeof require !== 'undefined') {\n",
       "        require.undef(\"plotly\");\n",
       "        requirejs.config({\n",
       "            paths: {\n",
       "                'plotly': ['https://cdn.plot.ly/plotly-2.24.1.min']\n",
       "            }\n",
       "        });\n",
       "        require(['plotly'], function(Plotly) {\n",
       "            window._Plotly = Plotly;\n",
       "        });\n",
       "        }\n",
       "        </script>\n",
       "        "
      ]
     },
     "metadata": {},
     "output_type": "display_data"
    },
    {
     "data": {
      "text/html": [
       "<div>                            <div id=\"77e66bb8-0605-4aeb-8444-2d98cac40b5c\" class=\"plotly-graph-div\" style=\"height:525px; width:100%;\"></div>            <script type=\"text/javascript\">                require([\"plotly\"], function(Plotly) {                    window.PLOTLYENV=window.PLOTLYENV || {};                                    if (document.getElementById(\"77e66bb8-0605-4aeb-8444-2d98cac40b5c\")) {                    Plotly.newPlot(                        \"77e66bb8-0605-4aeb-8444-2d98cac40b5c\",                        [{\"hovertemplate\":\"UpdateMonth=%{x}\\u003cbr\\u003eAverage_User_Rating=%{y}\\u003cextra\\u003e\\u003c\\u002fextra\\u003e\",\"legendgroup\":\"\",\"line\":{\"color\":\"#636efa\",\"dash\":\"solid\"},\"marker\":{\"symbol\":\"circle\"},\"mode\":\"lines\",\"name\":\"\",\"orientation\":\"v\",\"showlegend\":false,\"x\":[\"2008-10-01T00:00:00\",\"2008-11-01T00:00:00\",\"2008-12-01T00:00:00\",\"2009-01-01T00:00:00\",\"2009-02-01T00:00:00\",\"2009-03-01T00:00:00\",\"2009-04-01T00:00:00\",\"2009-05-01T00:00:00\",\"2009-06-01T00:00:00\",\"2009-07-01T00:00:00\",\"2009-08-01T00:00:00\",\"2009-09-01T00:00:00\",\"2009-10-01T00:00:00\",\"2009-11-01T00:00:00\",\"2009-12-01T00:00:00\",\"2010-01-01T00:00:00\",\"2010-02-01T00:00:00\",\"2010-03-01T00:00:00\",\"2010-04-01T00:00:00\",\"2010-05-01T00:00:00\",\"2010-06-01T00:00:00\",\"2010-07-01T00:00:00\",\"2010-08-01T00:00:00\",\"2010-09-01T00:00:00\",\"2010-10-01T00:00:00\",\"2010-11-01T00:00:00\",\"2010-12-01T00:00:00\",\"2011-01-01T00:00:00\",\"2011-02-01T00:00:00\",\"2011-03-01T00:00:00\",\"2011-04-01T00:00:00\",\"2011-05-01T00:00:00\",\"2011-06-01T00:00:00\",\"2011-07-01T00:00:00\",\"2011-08-01T00:00:00\",\"2011-09-01T00:00:00\",\"2011-10-01T00:00:00\",\"2011-11-01T00:00:00\",\"2011-12-01T00:00:00\",\"2012-01-01T00:00:00\",\"2012-02-01T00:00:00\",\"2012-03-01T00:00:00\",\"2012-04-01T00:00:00\",\"2012-05-01T00:00:00\",\"2012-06-01T00:00:00\",\"2012-07-01T00:00:00\",\"2012-08-01T00:00:00\",\"2012-09-01T00:00:00\",\"2012-10-01T00:00:00\",\"2012-11-01T00:00:00\",\"2012-12-01T00:00:00\",\"2013-01-01T00:00:00\",\"2013-02-01T00:00:00\",\"2013-03-01T00:00:00\",\"2013-04-01T00:00:00\",\"2013-05-01T00:00:00\",\"2013-06-01T00:00:00\",\"2013-07-01T00:00:00\",\"2013-08-01T00:00:00\",\"2013-09-01T00:00:00\",\"2013-10-01T00:00:00\",\"2013-11-01T00:00:00\",\"2013-12-01T00:00:00\",\"2014-01-01T00:00:00\",\"2014-02-01T00:00:00\",\"2014-03-01T00:00:00\",\"2014-04-01T00:00:00\",\"2014-05-01T00:00:00\",\"2014-06-01T00:00:00\",\"2014-07-01T00:00:00\",\"2014-08-01T00:00:00\",\"2014-09-01T00:00:00\",\"2014-10-01T00:00:00\",\"2014-11-01T00:00:00\",\"2014-12-01T00:00:00\",\"2015-01-01T00:00:00\",\"2015-02-01T00:00:00\",\"2015-03-01T00:00:00\",\"2015-04-01T00:00:00\",\"2015-05-01T00:00:00\",\"2015-06-01T00:00:00\",\"2015-07-01T00:00:00\",\"2015-08-01T00:00:00\",\"2015-09-01T00:00:00\",\"2015-10-01T00:00:00\",\"2015-11-01T00:00:00\",\"2015-12-01T00:00:00\",\"2016-01-01T00:00:00\",\"2016-02-01T00:00:00\",\"2016-03-01T00:00:00\",\"2016-04-01T00:00:00\",\"2016-05-01T00:00:00\",\"2016-06-01T00:00:00\",\"2016-07-01T00:00:00\",\"2016-08-01T00:00:00\",\"2016-09-01T00:00:00\",\"2016-10-01T00:00:00\",\"2016-11-01T00:00:00\",\"2016-12-01T00:00:00\",\"2017-01-01T00:00:00\",\"2017-02-01T00:00:00\",\"2017-03-01T00:00:00\",\"2017-04-01T00:00:00\",\"2017-05-01T00:00:00\",\"2017-06-01T00:00:00\",\"2017-07-01T00:00:00\",\"2017-08-01T00:00:00\",\"2017-09-01T00:00:00\",\"2017-10-01T00:00:00\",\"2017-11-01T00:00:00\",\"2017-12-01T00:00:00\",\"2018-01-01T00:00:00\",\"2018-02-01T00:00:00\",\"2018-03-01T00:00:00\",\"2018-04-01T00:00:00\",\"2018-05-01T00:00:00\",\"2018-06-01T00:00:00\",\"2018-07-01T00:00:00\",\"2018-08-01T00:00:00\",\"2018-09-01T00:00:00\",\"2018-10-01T00:00:00\",\"2018-11-01T00:00:00\",\"2018-12-01T00:00:00\",\"2019-01-01T00:00:00\",\"2019-02-01T00:00:00\",\"2019-03-01T00:00:00\",\"2019-04-01T00:00:00\",\"2019-05-01T00:00:00\",\"2019-06-01T00:00:00\",\"2019-07-01T00:00:00\",\"2019-08-01T00:00:00\",\"2019-09-01T00:00:00\",\"2019-10-01T00:00:00\",\"2019-11-01T00:00:00\",\"2019-12-01T00:00:00\",\"2020-01-01T00:00:00\",\"2020-02-01T00:00:00\",\"2020-03-01T00:00:00\",\"2020-04-01T00:00:00\",\"2020-05-01T00:00:00\",\"2020-06-01T00:00:00\",\"2020-07-01T00:00:00\",\"2020-08-01T00:00:00\",\"2020-09-01T00:00:00\",\"2020-10-01T00:00:00\",\"2020-11-01T00:00:00\",\"2020-12-01T00:00:00\",\"2021-01-01T00:00:00\",\"2021-02-01T00:00:00\",\"2021-03-01T00:00:00\",\"2021-04-01T00:00:00\",\"2021-05-01T00:00:00\",\"2021-06-01T00:00:00\",\"2021-07-01T00:00:00\",\"2021-08-01T00:00:00\",\"2021-09-01T00:00:00\",\"2021-10-01T00:00:00\",\"2021-11-01T00:00:00\",\"2021-12-01T00:00:00\",\"2022-01-01T00:00:00\",\"2022-02-01T00:00:00\",\"2022-03-01T00:00:00\",\"2022-04-01T00:00:00\"],\"xaxis\":\"x\",\"y\":[3.0,2.142857142857143,2.75,3.0,3.0,2.6666666666666665,2.8333333333333335,2.6666666666666665,3.25,2.8,3.0,2.7,2.888888888888889,2.933333333333333,3.0454545454545454,2.5384615384615383,2.8,2.8823529411764706,2.772727272727273,3.0,2.806451612903226,3.051282051282051,3.0606060606060606,3.075,3.0606060606060606,3.0,2.765625,1.9111111111111112,1.8214285714285714,1.6527777777777777,2.1927710843373496,2.5,1.89247311827957,2.4285714285714284,2.525252525252525,2.221311475409836,2.5625,2.441666666666667,2.5670103092783507,2.5874125874125875,2.5180722891566263,2.781609195402299,2.6149732620320854,2.385869565217391,2.232258064516129,2.7409638554216866,2.595959595959596,2.730964467005076,2.6387832699619773,2.902027027027027,2.696485623003195,2.4882154882154883,2.708053691275168,2.9611650485436893,2.9242424242424243,2.842391304347826,2.5495495495495497,2.8831521739130435,2.870206489675516,2.8608490566037736,2.7996357012750455,2.734959349593496,2.842758620689655,2.5834683954619124,2.5804195804195804,2.5339470655926353,2.4492924528301887,2.484593837535014,2.275500476644423,2.43849765258216,2.3366666666666664,2.3157894736842106,2.409652076318743,2.2797507788161995,2.276779773785762,2.226219512195122,2.17607332368548,2.2326139088729016,2.202784222737819,2.039050535987749,2.051242829827916,1.9844935664797096,2.0836305984938566,2.1641285956006766,2.0112916551914073,1.9597122302158274,1.9535017221584385,1.9889714696715417,1.868869385647909,1.8880881729546417,1.8992747784045125,1.9631852741096438,1.9221922731356693,1.9067927016926798,1.9497525694708793,1.8453758732144718,1.9085913416432114,1.7855407047387606,1.688927015969381,1.9123234916559693,1.8110274082384998,1.7914601601219977,1.9369357045143638,1.9580318379160637,1.9762498167424132,1.953138216883776,2.0389863547758287,2.1162105263157893,2.091466346153846,2.050834099566531,2.0076034919740917,2.0188096987509185,2.1855819339895772,1.9725197950628783,1.8509344408187483,2.0955501371533067,2.0322728663199756,1.890295358649789,1.6106739032112167,1.4056097775433043,1.483636066110293,1.5879252958579881,1.605918025930573,1.6864144211811098,1.6934284864704132,1.6669254658385093,1.5804746709214201,1.6285354595048258,1.5690104166666667,1.6042442293373045,1.6574851346624695,1.6789781714647263,1.6902676852369418,1.6075940768917267,1.627981587390152,1.676244094997735,1.6478829963743624,1.6786357562024288,1.7575004143875352,1.7697704081632653,1.7430431931040944,1.6760600335852225,1.6484276384391636,1.642195227349114,1.615229469518228,1.5597725875845114,1.5799022039543618,1.6672584410033862,1.5952680675252575,1.7336250876471868,1.6781940201332197,1.6463426234186245,1.6122144561882032,1.686920376870497,1.8274664442253734,1.950211571163048,2.2834809094462187,0.0,0.0,0.0,0.0,0.0,0.0],\"yaxis\":\"y\",\"type\":\"scatter\"}],                        {\"template\":{\"data\":{\"histogram2dcontour\":[{\"type\":\"histogram2dcontour\",\"colorbar\":{\"outlinewidth\":0,\"ticks\":\"\"},\"colorscale\":[[0.0,\"#0d0887\"],[0.1111111111111111,\"#46039f\"],[0.2222222222222222,\"#7201a8\"],[0.3333333333333333,\"#9c179e\"],[0.4444444444444444,\"#bd3786\"],[0.5555555555555556,\"#d8576b\"],[0.6666666666666666,\"#ed7953\"],[0.7777777777777778,\"#fb9f3a\"],[0.8888888888888888,\"#fdca26\"],[1.0,\"#f0f921\"]]}],\"choropleth\":[{\"type\":\"choropleth\",\"colorbar\":{\"outlinewidth\":0,\"ticks\":\"\"}}],\"histogram2d\":[{\"type\":\"histogram2d\",\"colorbar\":{\"outlinewidth\":0,\"ticks\":\"\"},\"colorscale\":[[0.0,\"#0d0887\"],[0.1111111111111111,\"#46039f\"],[0.2222222222222222,\"#7201a8\"],[0.3333333333333333,\"#9c179e\"],[0.4444444444444444,\"#bd3786\"],[0.5555555555555556,\"#d8576b\"],[0.6666666666666666,\"#ed7953\"],[0.7777777777777778,\"#fb9f3a\"],[0.8888888888888888,\"#fdca26\"],[1.0,\"#f0f921\"]]}],\"heatmap\":[{\"type\":\"heatmap\",\"colorbar\":{\"outlinewidth\":0,\"ticks\":\"\"},\"colorscale\":[[0.0,\"#0d0887\"],[0.1111111111111111,\"#46039f\"],[0.2222222222222222,\"#7201a8\"],[0.3333333333333333,\"#9c179e\"],[0.4444444444444444,\"#bd3786\"],[0.5555555555555556,\"#d8576b\"],[0.6666666666666666,\"#ed7953\"],[0.7777777777777778,\"#fb9f3a\"],[0.8888888888888888,\"#fdca26\"],[1.0,\"#f0f921\"]]}],\"heatmapgl\":[{\"type\":\"heatmapgl\",\"colorbar\":{\"outlinewidth\":0,\"ticks\":\"\"},\"colorscale\":[[0.0,\"#0d0887\"],[0.1111111111111111,\"#46039f\"],[0.2222222222222222,\"#7201a8\"],[0.3333333333333333,\"#9c179e\"],[0.4444444444444444,\"#bd3786\"],[0.5555555555555556,\"#d8576b\"],[0.6666666666666666,\"#ed7953\"],[0.7777777777777778,\"#fb9f3a\"],[0.8888888888888888,\"#fdca26\"],[1.0,\"#f0f921\"]]}],\"contourcarpet\":[{\"type\":\"contourcarpet\",\"colorbar\":{\"outlinewidth\":0,\"ticks\":\"\"}}],\"contour\":[{\"type\":\"contour\",\"colorbar\":{\"outlinewidth\":0,\"ticks\":\"\"},\"colorscale\":[[0.0,\"#0d0887\"],[0.1111111111111111,\"#46039f\"],[0.2222222222222222,\"#7201a8\"],[0.3333333333333333,\"#9c179e\"],[0.4444444444444444,\"#bd3786\"],[0.5555555555555556,\"#d8576b\"],[0.6666666666666666,\"#ed7953\"],[0.7777777777777778,\"#fb9f3a\"],[0.8888888888888888,\"#fdca26\"],[1.0,\"#f0f921\"]]}],\"surface\":[{\"type\":\"surface\",\"colorbar\":{\"outlinewidth\":0,\"ticks\":\"\"},\"colorscale\":[[0.0,\"#0d0887\"],[0.1111111111111111,\"#46039f\"],[0.2222222222222222,\"#7201a8\"],[0.3333333333333333,\"#9c179e\"],[0.4444444444444444,\"#bd3786\"],[0.5555555555555556,\"#d8576b\"],[0.6666666666666666,\"#ed7953\"],[0.7777777777777778,\"#fb9f3a\"],[0.8888888888888888,\"#fdca26\"],[1.0,\"#f0f921\"]]}],\"mesh3d\":[{\"type\":\"mesh3d\",\"colorbar\":{\"outlinewidth\":0,\"ticks\":\"\"}}],\"scatter\":[{\"fillpattern\":{\"fillmode\":\"overlay\",\"size\":10,\"solidity\":0.2},\"type\":\"scatter\"}],\"parcoords\":[{\"type\":\"parcoords\",\"line\":{\"colorbar\":{\"outlinewidth\":0,\"ticks\":\"\"}}}],\"scatterpolargl\":[{\"type\":\"scatterpolargl\",\"marker\":{\"colorbar\":{\"outlinewidth\":0,\"ticks\":\"\"}}}],\"bar\":[{\"error_x\":{\"color\":\"#2a3f5f\"},\"error_y\":{\"color\":\"#2a3f5f\"},\"marker\":{\"line\":{\"color\":\"#E5ECF6\",\"width\":0.5},\"pattern\":{\"fillmode\":\"overlay\",\"size\":10,\"solidity\":0.2}},\"type\":\"bar\"}],\"scattergeo\":[{\"type\":\"scattergeo\",\"marker\":{\"colorbar\":{\"outlinewidth\":0,\"ticks\":\"\"}}}],\"scatterpolar\":[{\"type\":\"scatterpolar\",\"marker\":{\"colorbar\":{\"outlinewidth\":0,\"ticks\":\"\"}}}],\"histogram\":[{\"marker\":{\"pattern\":{\"fillmode\":\"overlay\",\"size\":10,\"solidity\":0.2}},\"type\":\"histogram\"}],\"scattergl\":[{\"type\":\"scattergl\",\"marker\":{\"colorbar\":{\"outlinewidth\":0,\"ticks\":\"\"}}}],\"scatter3d\":[{\"type\":\"scatter3d\",\"line\":{\"colorbar\":{\"outlinewidth\":0,\"ticks\":\"\"}},\"marker\":{\"colorbar\":{\"outlinewidth\":0,\"ticks\":\"\"}}}],\"scattermapbox\":[{\"type\":\"scattermapbox\",\"marker\":{\"colorbar\":{\"outlinewidth\":0,\"ticks\":\"\"}}}],\"scatterternary\":[{\"type\":\"scatterternary\",\"marker\":{\"colorbar\":{\"outlinewidth\":0,\"ticks\":\"\"}}}],\"scattercarpet\":[{\"type\":\"scattercarpet\",\"marker\":{\"colorbar\":{\"outlinewidth\":0,\"ticks\":\"\"}}}],\"carpet\":[{\"aaxis\":{\"endlinecolor\":\"#2a3f5f\",\"gridcolor\":\"white\",\"linecolor\":\"white\",\"minorgridcolor\":\"white\",\"startlinecolor\":\"#2a3f5f\"},\"baxis\":{\"endlinecolor\":\"#2a3f5f\",\"gridcolor\":\"white\",\"linecolor\":\"white\",\"minorgridcolor\":\"white\",\"startlinecolor\":\"#2a3f5f\"},\"type\":\"carpet\"}],\"table\":[{\"cells\":{\"fill\":{\"color\":\"#EBF0F8\"},\"line\":{\"color\":\"white\"}},\"header\":{\"fill\":{\"color\":\"#C8D4E3\"},\"line\":{\"color\":\"white\"}},\"type\":\"table\"}],\"barpolar\":[{\"marker\":{\"line\":{\"color\":\"#E5ECF6\",\"width\":0.5},\"pattern\":{\"fillmode\":\"overlay\",\"size\":10,\"solidity\":0.2}},\"type\":\"barpolar\"}],\"pie\":[{\"automargin\":true,\"type\":\"pie\"}]},\"layout\":{\"autotypenumbers\":\"strict\",\"colorway\":[\"#636efa\",\"#EF553B\",\"#00cc96\",\"#ab63fa\",\"#FFA15A\",\"#19d3f3\",\"#FF6692\",\"#B6E880\",\"#FF97FF\",\"#FECB52\"],\"font\":{\"color\":\"#2a3f5f\"},\"hovermode\":\"closest\",\"hoverlabel\":{\"align\":\"left\"},\"paper_bgcolor\":\"white\",\"plot_bgcolor\":\"#E5ECF6\",\"polar\":{\"bgcolor\":\"#E5ECF6\",\"angularaxis\":{\"gridcolor\":\"white\",\"linecolor\":\"white\",\"ticks\":\"\"},\"radialaxis\":{\"gridcolor\":\"white\",\"linecolor\":\"white\",\"ticks\":\"\"}},\"ternary\":{\"bgcolor\":\"#E5ECF6\",\"aaxis\":{\"gridcolor\":\"white\",\"linecolor\":\"white\",\"ticks\":\"\"},\"baxis\":{\"gridcolor\":\"white\",\"linecolor\":\"white\",\"ticks\":\"\"},\"caxis\":{\"gridcolor\":\"white\",\"linecolor\":\"white\",\"ticks\":\"\"}},\"coloraxis\":{\"colorbar\":{\"outlinewidth\":0,\"ticks\":\"\"}},\"colorscale\":{\"sequential\":[[0.0,\"#0d0887\"],[0.1111111111111111,\"#46039f\"],[0.2222222222222222,\"#7201a8\"],[0.3333333333333333,\"#9c179e\"],[0.4444444444444444,\"#bd3786\"],[0.5555555555555556,\"#d8576b\"],[0.6666666666666666,\"#ed7953\"],[0.7777777777777778,\"#fb9f3a\"],[0.8888888888888888,\"#fdca26\"],[1.0,\"#f0f921\"]],\"sequentialminus\":[[0.0,\"#0d0887\"],[0.1111111111111111,\"#46039f\"],[0.2222222222222222,\"#7201a8\"],[0.3333333333333333,\"#9c179e\"],[0.4444444444444444,\"#bd3786\"],[0.5555555555555556,\"#d8576b\"],[0.6666666666666666,\"#ed7953\"],[0.7777777777777778,\"#fb9f3a\"],[0.8888888888888888,\"#fdca26\"],[1.0,\"#f0f921\"]],\"diverging\":[[0,\"#8e0152\"],[0.1,\"#c51b7d\"],[0.2,\"#de77ae\"],[0.3,\"#f1b6da\"],[0.4,\"#fde0ef\"],[0.5,\"#f7f7f7\"],[0.6,\"#e6f5d0\"],[0.7,\"#b8e186\"],[0.8,\"#7fbc41\"],[0.9,\"#4d9221\"],[1,\"#276419\"]]},\"xaxis\":{\"gridcolor\":\"white\",\"linecolor\":\"white\",\"ticks\":\"\",\"title\":{\"standoff\":15},\"zerolinecolor\":\"white\",\"automargin\":true,\"zerolinewidth\":2},\"yaxis\":{\"gridcolor\":\"white\",\"linecolor\":\"white\",\"ticks\":\"\",\"title\":{\"standoff\":15},\"zerolinecolor\":\"white\",\"automargin\":true,\"zerolinewidth\":2},\"scene\":{\"xaxis\":{\"backgroundcolor\":\"#E5ECF6\",\"gridcolor\":\"white\",\"linecolor\":\"white\",\"showbackground\":true,\"ticks\":\"\",\"zerolinecolor\":\"white\",\"gridwidth\":2},\"yaxis\":{\"backgroundcolor\":\"#E5ECF6\",\"gridcolor\":\"white\",\"linecolor\":\"white\",\"showbackground\":true,\"ticks\":\"\",\"zerolinecolor\":\"white\",\"gridwidth\":2},\"zaxis\":{\"backgroundcolor\":\"#E5ECF6\",\"gridcolor\":\"white\",\"linecolor\":\"white\",\"showbackground\":true,\"ticks\":\"\",\"zerolinecolor\":\"white\",\"gridwidth\":2}},\"shapedefaults\":{\"line\":{\"color\":\"#2a3f5f\"}},\"annotationdefaults\":{\"arrowcolor\":\"#2a3f5f\",\"arrowhead\":0,\"arrowwidth\":1},\"geo\":{\"bgcolor\":\"white\",\"landcolor\":\"#E5ECF6\",\"subunitcolor\":\"white\",\"showland\":true,\"showlakes\":true,\"lakecolor\":\"white\"},\"title\":{\"x\":0.05},\"mapbox\":{\"style\":\"light\"}}},\"xaxis\":{\"anchor\":\"y\",\"domain\":[0.0,1.0],\"title\":{\"text\":\"Update Year\"}},\"yaxis\":{\"anchor\":\"x\",\"domain\":[0.0,1.0],\"title\":{\"text\":\"Average User Rating\"}},\"legend\":{\"tracegroupgap\":0},\"title\":{\"text\":\"Impact of App Updates on Average User Rating\"}},                        {\"responsive\": true}                    ).then(function(){\n",
       "                            \n",
       "var gd = document.getElementById('77e66bb8-0605-4aeb-8444-2d98cac40b5c');\n",
       "var x = new MutationObserver(function (mutations, observer) {{\n",
       "        var display = window.getComputedStyle(gd).display;\n",
       "        if (!display || display === 'none') {{\n",
       "            console.log([gd, 'removed!']);\n",
       "            Plotly.purge(gd);\n",
       "            observer.disconnect();\n",
       "        }}\n",
       "}});\n",
       "\n",
       "// Listen for the removal of the full notebook cells\n",
       "var notebookContainer = gd.closest('#notebook-container');\n",
       "if (notebookContainer) {{\n",
       "    x.observe(notebookContainer, {childList: true});\n",
       "}}\n",
       "\n",
       "// Listen for the clearing of the current output cell\n",
       "var outputEl = gd.closest('.output');\n",
       "if (outputEl) {{\n",
       "    x.observe(outputEl, {childList: true});\n",
       "}}\n",
       "\n",
       "                        })                };                });            </script>        </div>"
      ]
     },
     "metadata": {},
     "output_type": "display_data"
    }
   ],
   "source": [
    "# Convert 'Updated' column to datetime format\n",
    "df['Updated'] = pd.to_datetime(df['Updated'])\n",
    "\n",
    "# Define time intervals (e.g., months)\n",
    "df['UpdateMonth'] = df['Updated'].dt.to_period('M').dt.to_timestamp()\n",
    "\n",
    "# Calculate average user rating for each time interval\n",
    "average_ratings = df.groupby('UpdateMonth')['Average_User_Rating'].mean().reset_index()\n",
    "\n",
    "# Create a line plot using Plotly\n",
    "fig = px.line(average_ratings, x='UpdateMonth', y='Average_User_Rating', \n",
    "              title='Impact of App Updates on Average User Rating')\n",
    "fig.update_xaxes(title='Update Year')\n",
    "fig.update_yaxes(title='Average User Rating')\n",
    "fig.show()"
   ]
  },
  {
   "cell_type": "markdown",
   "id": "ee7bf2cf",
   "metadata": {
    "papermill": {
     "duration": 0.046051,
     "end_time": "2024-01-30T19:25:13.088460",
     "exception": false,
     "start_time": "2024-01-30T19:25:13.042409",
     "status": "completed"
    },
    "tags": []
   },
   "source": [
    "> Figure 4: Plotly graph of Updates with Average_User_Rating"
   ]
  },
  {
   "cell_type": "markdown",
   "id": "ae1edc06",
   "metadata": {
    "papermill": {
     "duration": 0.04384,
     "end_time": "2024-01-30T19:25:13.178296",
     "exception": false,
     "start_time": "2024-01-30T19:25:13.134456",
     "status": "completed"
    },
    "tags": []
   },
   "source": [
    "Answer 2: It shows that with updates mostly the Average user rating is decreased."
   ]
  },
  {
   "cell_type": "markdown",
   "id": "776ef129",
   "metadata": {
    "papermill": {
     "duration": 0.043836,
     "end_time": "2024-01-30T19:25:13.267172",
     "exception": false,
     "start_time": "2024-01-30T19:25:13.223336",
     "status": "completed"
    },
    "tags": []
   },
   "source": [
    "### **3. Top Categories:**\n",
    "\n",
    "Question: What are the top 10 categories of apps that are prevalent on the Apple App Store?"
   ]
  },
  {
   "cell_type": "code",
   "execution_count": 60,
   "id": "87819397",
   "metadata": {
    "execution": {
     "iopub.execute_input": "2024-01-30T19:25:13.360902Z",
     "iopub.status.busy": "2024-01-30T19:25:13.359360Z",
     "iopub.status.idle": "2024-01-30T19:25:13.470851Z",
     "shell.execute_reply": "2024-01-30T19:25:13.469612Z"
    },
    "papermill": {
     "duration": 0.161442,
     "end_time": "2024-01-30T19:25:13.473580",
     "exception": false,
     "start_time": "2024-01-30T19:25:13.312138",
     "status": "completed"
    },
    "tags": []
   },
   "outputs": [
    {
     "data": {
      "text/html": [
       "<div>\n",
       "<style scoped>\n",
       "    .dataframe tbody tr th:only-of-type {\n",
       "        vertical-align: middle;\n",
       "    }\n",
       "\n",
       "    .dataframe tbody tr th {\n",
       "        vertical-align: top;\n",
       "    }\n",
       "\n",
       "    .dataframe thead th {\n",
       "        text-align: right;\n",
       "    }\n",
       "</style>\n",
       "<table border=\"1\" class=\"dataframe\">\n",
       "  <thead>\n",
       "    <tr style=\"text-align: right;\">\n",
       "      <th></th>\n",
       "      <th>Primary_Genre</th>\n",
       "      <th>Count</th>\n",
       "    </tr>\n",
       "  </thead>\n",
       "  <tbody>\n",
       "    <tr>\n",
       "      <th>0</th>\n",
       "      <td>Games</td>\n",
       "      <td>193641</td>\n",
       "    </tr>\n",
       "    <tr>\n",
       "      <th>1</th>\n",
       "      <td>Business</td>\n",
       "      <td>128203</td>\n",
       "    </tr>\n",
       "    <tr>\n",
       "      <th>2</th>\n",
       "      <td>Education</td>\n",
       "      <td>119114</td>\n",
       "    </tr>\n",
       "    <tr>\n",
       "      <th>3</th>\n",
       "      <td>Utilities</td>\n",
       "      <td>93937</td>\n",
       "    </tr>\n",
       "    <tr>\n",
       "      <th>4</th>\n",
       "      <td>Lifestyle</td>\n",
       "      <td>84493</td>\n",
       "    </tr>\n",
       "    <tr>\n",
       "      <th>5</th>\n",
       "      <td>Food &amp; Drink</td>\n",
       "      <td>72815</td>\n",
       "    </tr>\n",
       "    <tr>\n",
       "      <th>6</th>\n",
       "      <td>Health &amp; Fitness</td>\n",
       "      <td>60682</td>\n",
       "    </tr>\n",
       "    <tr>\n",
       "      <th>7</th>\n",
       "      <td>Productivity</td>\n",
       "      <td>59389</td>\n",
       "    </tr>\n",
       "    <tr>\n",
       "      <th>8</th>\n",
       "      <td>Entertainment</td>\n",
       "      <td>53076</td>\n",
       "    </tr>\n",
       "    <tr>\n",
       "      <th>9</th>\n",
       "      <td>Shopping</td>\n",
       "      <td>49493</td>\n",
       "    </tr>\n",
       "  </tbody>\n",
       "</table>\n",
       "</div>"
      ],
      "text/plain": [
       "      Primary_Genre   Count\n",
       "0             Games  193641\n",
       "1          Business  128203\n",
       "2         Education  119114\n",
       "3         Utilities   93937\n",
       "4         Lifestyle   84493\n",
       "5      Food & Drink   72815\n",
       "6  Health & Fitness   60682\n",
       "7      Productivity   59389\n",
       "8     Entertainment   53076\n",
       "9          Shopping   49493"
      ]
     },
     "execution_count": 60,
     "metadata": {},
     "output_type": "execute_result"
    }
   ],
   "source": [
    "top_Genre = df.Primary_Genre.value_counts().reset_index().rename(columns={'Primary_Genre':'Count','index':'Primary_Genre'})\n",
    "top10_top_Genre = top_Genre.head(10)\n",
    "top10_top_Genre.head(10)"
   ]
  },
  {
   "cell_type": "code",
   "execution_count": 61,
   "id": "ac6e817c",
   "metadata": {
    "execution": {
     "iopub.execute_input": "2024-01-30T19:25:13.567230Z",
     "iopub.status.busy": "2024-01-30T19:25:13.566799Z",
     "iopub.status.idle": "2024-01-30T19:25:14.584376Z",
     "shell.execute_reply": "2024-01-30T19:25:14.581980Z"
    },
    "papermill": {
     "duration": 1.068793,
     "end_time": "2024-01-30T19:25:14.587030",
     "exception": true,
     "start_time": "2024-01-30T19:25:13.518237",
     "status": "failed"
    },
    "tags": []
   },
   "outputs": [
    {
     "ename": "ValueError",
     "evalue": "Could not interpret input 'count'",
     "output_type": "error",
     "traceback": [
      "\u001b[0;31m---------------------------------------------------------------------------\u001b[0m",
      "\u001b[0;31mValueError\u001b[0m                                Traceback (most recent call last)",
      "Cell \u001b[0;32mIn[61], line 2\u001b[0m\n\u001b[1;32m      1\u001b[0m plt\u001b[38;5;241m.\u001b[39mtitle(\u001b[38;5;124m\"\u001b[39m\u001b[38;5;124mTop 10 App Categorize\u001b[39m\u001b[38;5;124m\"\u001b[39m)\n\u001b[0;32m----> 2\u001b[0m \u001b[43msns\u001b[49m\u001b[38;5;241;43m.\u001b[39;49m\u001b[43mbarplot\u001b[49m\u001b[43m(\u001b[49m\u001b[43mtop10_top_Genre\u001b[49m\u001b[43m \u001b[49m\u001b[43m,\u001b[49m\u001b[43m \u001b[49m\u001b[43mx\u001b[49m\u001b[38;5;241;43m=\u001b[39;49m\u001b[38;5;124;43m'\u001b[39;49m\u001b[38;5;124;43mcount\u001b[39;49m\u001b[38;5;124;43m'\u001b[39;49m\u001b[43m,\u001b[49m\u001b[43m \u001b[49m\u001b[43my\u001b[49m\u001b[38;5;241;43m=\u001b[39;49m\u001b[38;5;124;43m'\u001b[39;49m\u001b[38;5;124;43mCount\u001b[39;49m\u001b[38;5;124;43m'\u001b[39;49m\u001b[43m,\u001b[49m\u001b[43m \u001b[49m\u001b[43mcolor\u001b[49m\u001b[38;5;241;43m=\u001b[39;49m\u001b[38;5;124;43m'\u001b[39;49m\u001b[38;5;124;43mlightBlue\u001b[39;49m\u001b[38;5;124;43m'\u001b[39;49m\u001b[43m)\u001b[49m\n",
      "File \u001b[0;32m/opt/conda/lib/python3.10/site-packages/seaborn/categorical.py:2755\u001b[0m, in \u001b[0;36mbarplot\u001b[0;34m(data, x, y, hue, order, hue_order, estimator, errorbar, n_boot, units, seed, orient, color, palette, saturation, width, errcolor, errwidth, capsize, dodge, ci, ax, **kwargs)\u001b[0m\n\u001b[1;32m   2752\u001b[0m \u001b[38;5;28;01mif\u001b[39;00m estimator \u001b[38;5;129;01mis\u001b[39;00m \u001b[38;5;28mlen\u001b[39m:\n\u001b[1;32m   2753\u001b[0m     estimator \u001b[38;5;241m=\u001b[39m \u001b[38;5;124m\"\u001b[39m\u001b[38;5;124msize\u001b[39m\u001b[38;5;124m\"\u001b[39m\n\u001b[0;32m-> 2755\u001b[0m plotter \u001b[38;5;241m=\u001b[39m \u001b[43m_BarPlotter\u001b[49m\u001b[43m(\u001b[49m\u001b[43mx\u001b[49m\u001b[43m,\u001b[49m\u001b[43m \u001b[49m\u001b[43my\u001b[49m\u001b[43m,\u001b[49m\u001b[43m \u001b[49m\u001b[43mhue\u001b[49m\u001b[43m,\u001b[49m\u001b[43m \u001b[49m\u001b[43mdata\u001b[49m\u001b[43m,\u001b[49m\u001b[43m \u001b[49m\u001b[43morder\u001b[49m\u001b[43m,\u001b[49m\u001b[43m \u001b[49m\u001b[43mhue_order\u001b[49m\u001b[43m,\u001b[49m\n\u001b[1;32m   2756\u001b[0m \u001b[43m                      \u001b[49m\u001b[43mestimator\u001b[49m\u001b[43m,\u001b[49m\u001b[43m \u001b[49m\u001b[43merrorbar\u001b[49m\u001b[43m,\u001b[49m\u001b[43m \u001b[49m\u001b[43mn_boot\u001b[49m\u001b[43m,\u001b[49m\u001b[43m \u001b[49m\u001b[43munits\u001b[49m\u001b[43m,\u001b[49m\u001b[43m \u001b[49m\u001b[43mseed\u001b[49m\u001b[43m,\u001b[49m\n\u001b[1;32m   2757\u001b[0m \u001b[43m                      \u001b[49m\u001b[43morient\u001b[49m\u001b[43m,\u001b[49m\u001b[43m \u001b[49m\u001b[43mcolor\u001b[49m\u001b[43m,\u001b[49m\u001b[43m \u001b[49m\u001b[43mpalette\u001b[49m\u001b[43m,\u001b[49m\u001b[43m \u001b[49m\u001b[43msaturation\u001b[49m\u001b[43m,\u001b[49m\n\u001b[1;32m   2758\u001b[0m \u001b[43m                      \u001b[49m\u001b[43mwidth\u001b[49m\u001b[43m,\u001b[49m\u001b[43m \u001b[49m\u001b[43merrcolor\u001b[49m\u001b[43m,\u001b[49m\u001b[43m \u001b[49m\u001b[43merrwidth\u001b[49m\u001b[43m,\u001b[49m\u001b[43m \u001b[49m\u001b[43mcapsize\u001b[49m\u001b[43m,\u001b[49m\u001b[43m \u001b[49m\u001b[43mdodge\u001b[49m\u001b[43m)\u001b[49m\n\u001b[1;32m   2760\u001b[0m \u001b[38;5;28;01mif\u001b[39;00m ax \u001b[38;5;129;01mis\u001b[39;00m \u001b[38;5;28;01mNone\u001b[39;00m:\n\u001b[1;32m   2761\u001b[0m     ax \u001b[38;5;241m=\u001b[39m plt\u001b[38;5;241m.\u001b[39mgca()\n",
      "File \u001b[0;32m/opt/conda/lib/python3.10/site-packages/seaborn/categorical.py:1530\u001b[0m, in \u001b[0;36m_BarPlotter.__init__\u001b[0;34m(self, x, y, hue, data, order, hue_order, estimator, errorbar, n_boot, units, seed, orient, color, palette, saturation, width, errcolor, errwidth, capsize, dodge)\u001b[0m\n\u001b[1;32m   1525\u001b[0m \u001b[38;5;28;01mdef\u001b[39;00m \u001b[38;5;21m__init__\u001b[39m(\u001b[38;5;28mself\u001b[39m, x, y, hue, data, order, hue_order,\n\u001b[1;32m   1526\u001b[0m              estimator, errorbar, n_boot, units, seed,\n\u001b[1;32m   1527\u001b[0m              orient, color, palette, saturation, width,\n\u001b[1;32m   1528\u001b[0m              errcolor, errwidth, capsize, dodge):\n\u001b[1;32m   1529\u001b[0m \u001b[38;5;250m    \u001b[39m\u001b[38;5;124;03m\"\"\"Initialize the plotter.\"\"\"\u001b[39;00m\n\u001b[0;32m-> 1530\u001b[0m     \u001b[38;5;28;43mself\u001b[39;49m\u001b[38;5;241;43m.\u001b[39;49m\u001b[43mestablish_variables\u001b[49m\u001b[43m(\u001b[49m\u001b[43mx\u001b[49m\u001b[43m,\u001b[49m\u001b[43m \u001b[49m\u001b[43my\u001b[49m\u001b[43m,\u001b[49m\u001b[43m \u001b[49m\u001b[43mhue\u001b[49m\u001b[43m,\u001b[49m\u001b[43m \u001b[49m\u001b[43mdata\u001b[49m\u001b[43m,\u001b[49m\u001b[43m \u001b[49m\u001b[43morient\u001b[49m\u001b[43m,\u001b[49m\n\u001b[1;32m   1531\u001b[0m \u001b[43m                             \u001b[49m\u001b[43morder\u001b[49m\u001b[43m,\u001b[49m\u001b[43m \u001b[49m\u001b[43mhue_order\u001b[49m\u001b[43m,\u001b[49m\u001b[43m \u001b[49m\u001b[43munits\u001b[49m\u001b[43m)\u001b[49m\n\u001b[1;32m   1532\u001b[0m     \u001b[38;5;28mself\u001b[39m\u001b[38;5;241m.\u001b[39mestablish_colors(color, palette, saturation)\n\u001b[1;32m   1533\u001b[0m     \u001b[38;5;28mself\u001b[39m\u001b[38;5;241m.\u001b[39mestimate_statistic(estimator, errorbar, n_boot, seed)\n",
      "File \u001b[0;32m/opt/conda/lib/python3.10/site-packages/seaborn/categorical.py:541\u001b[0m, in \u001b[0;36m_CategoricalPlotter.establish_variables\u001b[0;34m(self, x, y, hue, data, orient, order, hue_order, units)\u001b[0m\n\u001b[1;32m    539\u001b[0m     \u001b[38;5;28;01mif\u001b[39;00m \u001b[38;5;28misinstance\u001b[39m(var, \u001b[38;5;28mstr\u001b[39m):\n\u001b[1;32m    540\u001b[0m         err \u001b[38;5;241m=\u001b[39m \u001b[38;5;124mf\u001b[39m\u001b[38;5;124m\"\u001b[39m\u001b[38;5;124mCould not interpret input \u001b[39m\u001b[38;5;124m'\u001b[39m\u001b[38;5;132;01m{\u001b[39;00mvar\u001b[38;5;132;01m}\u001b[39;00m\u001b[38;5;124m'\u001b[39m\u001b[38;5;124m\"\u001b[39m\n\u001b[0;32m--> 541\u001b[0m         \u001b[38;5;28;01mraise\u001b[39;00m \u001b[38;5;167;01mValueError\u001b[39;00m(err)\n\u001b[1;32m    543\u001b[0m \u001b[38;5;66;03m# Figure out the plotting orientation\u001b[39;00m\n\u001b[1;32m    544\u001b[0m orient \u001b[38;5;241m=\u001b[39m infer_orient(\n\u001b[1;32m    545\u001b[0m     x, y, orient, require_numeric\u001b[38;5;241m=\u001b[39m\u001b[38;5;28mself\u001b[39m\u001b[38;5;241m.\u001b[39mrequire_numeric\n\u001b[1;32m    546\u001b[0m )\n",
      "\u001b[0;31mValueError\u001b[0m: Could not interpret input 'count'"
     ]
    },
    {
     "data": {
      "image/png": "[encoded data removed]",
      "text/plain": [
       "<Figure size 1800x600 with 1 Axes>"
      ]
     },
     "metadata": {},
     "output_type": "display_data"
    }
   ],
   "source": [
    "plt.title(\"Top 10 App Categorize\")\n",
    "sns.barplot(top10_top_Genre , x='count', y='Count', color='lightBlue')"
   ]
  },
  {
   "cell_type": "markdown",
   "id": "3e43779a",
   "metadata": {
    "papermill": {
     "duration": null,
     "end_time": null,
     "exception": null,
     "start_time": null,
     "status": "pending"
    },
    "tags": []
   },
   "source": [
    "> Figure 5: Barplot of Primary Genre with Count"
   ]
  },
  {
   "cell_type": "markdown",
   "id": "8bc92fbc",
   "metadata": {
    "papermill": {
     "duration": null,
     "end_time": null,
     "exception": null,
     "start_time": null,
     "status": "pending"
    },
    "tags": []
   },
   "source": [
    "Answer 3: Gaming Apps are the most downloaded apps from the Apple App Store."
   ]
  },
  {
   "cell_type": "markdown",
   "id": "665c6d8c",
   "metadata": {
    "papermill": {
     "duration": null,
     "end_time": null,
     "exception": null,
     "start_time": null,
     "status": "pending"
    },
    "tags": []
   },
   "source": [
    "### **4. Genre Attracted Clintele:**\n",
    "\n",
    "Question: What type of Genre attracted what kind of clintele in terms of revenues?"
   ]
  },
  {
   "cell_type": "code",
   "execution_count": null,
   "id": "9ba5fabf",
   "metadata": {
    "papermill": {
     "duration": null,
     "end_time": null,
     "exception": null,
     "start_time": null,
     "status": "pending"
    },
    "tags": []
   },
   "outputs": [],
   "source": [
    "df.groupby(['Primary_Genre', 'Content_Rating'])['Price'].sum().unstack().plot(kind='bar', stacked=True)\n",
    "plt.title('Price by Genre and Content Rating')\n",
    "plt.show()"
   ]
  },
  {
   "cell_type": "markdown",
   "id": "dffa698d",
   "metadata": {
    "papermill": {
     "duration": null,
     "end_time": null,
     "exception": null,
     "start_time": null,
     "status": "pending"
    },
    "tags": []
   },
   "source": [
    "> Figure 6: Genre Attracted Clintele"
   ]
  },
  {
   "cell_type": "markdown",
   "id": "2efb7a13",
   "metadata": {
    "papermill": {
     "duration": null,
     "end_time": null,
     "exception": null,
     "start_time": null,
     "status": "pending"
    },
    "tags": []
   },
   "source": [
    "Answer 4:\n",
    "\n",
    "Noteworthy Observations Warranting Deeper Exploration: Let's delve into the realm of Business & Utilities apps, specifically focusing on those tailored for or purchased by children.\n",
    "\n",
    "### **Insights:**\n",
    "- ⚠️ Caution: While the content rating provides insights, it may not invariably reflect accurate information.\n",
    "- 🚸 Vigilant Consideration: An app labeled 9+ might unexpectedly encompass content with mature themes, including e-books of a more mature nature.\n",
    "\n",
    "This analysis invites further investigation into the intersection of Business & Utilities apps and their alignment with child-oriented usage or acquisition."
   ]
  },
  {
   "cell_type": "markdown",
   "id": "14e85a0a",
   "metadata": {
    "papermill": {
     "duration": null,
     "end_time": null,
     "exception": null,
     "start_time": null,
     "status": "pending"
    },
    "tags": []
   },
   "source": [
    "### **5. Pricing across categories:**\n",
    "\n",
    "How does the pricing strategy differ across genres and categories?"
   ]
  },
  {
   "cell_type": "code",
   "execution_count": null,
   "id": "60cbc704",
   "metadata": {
    "papermill": {
     "duration": null,
     "end_time": null,
     "exception": null,
     "start_time": null,
     "status": "pending"
    },
    "tags": []
   },
   "outputs": [],
   "source": [
    "# Group the dataframe by Primary_Genre and calculate the mean price for each group\n",
    "genre_prices = df.groupby('Primary_Genre')['Price'].mean().reset_index()\n",
    "\n",
    "# Sort the genres by mean price in descending order\n",
    "sorted_genres = genre_prices.sort_values('Price', ascending=False)\n",
    "\n",
    "# Plot a bar chart of the mean price for each genre\n",
    "plt.bar(sorted_genres['Primary_Genre'], sorted_genres['Price'])\n",
    "\n",
    "# Set the title and axis labels\n",
    "plt.title('Price Strategy Across Primary Genres')\n",
    "plt.xlabel('Primary Genre')\n",
    "plt.ylabel('Mean Price')\n",
    "\n",
    "# Rotate the x-axis labels for better readability\n",
    "plt.xticks(rotation=90)\n",
    "\n",
    "# Show the plot\n",
    "plt.show()"
   ]
  },
  {
   "cell_type": "markdown",
   "id": "0bd5cf56",
   "metadata": {
    "papermill": {
     "duration": null,
     "end_time": null,
     "exception": null,
     "start_time": null,
     "status": "pending"
    },
    "tags": []
   },
   "source": [
    "> Figure 7: Price Strategy Across Primary Genres"
   ]
  },
  {
   "cell_type": "markdown",
   "id": "49487873",
   "metadata": {
    "papermill": {
     "duration": null,
     "end_time": null,
     "exception": null,
     "start_time": null,
     "status": "pending"
    },
    "tags": []
   },
   "source": [
    "Answer 5:\n",
    "\n",
    "It shows that there are different price ranges for different genres. Top 5 genres for different price ranges are:\n",
    "1. Graphics & Design\n",
    "2. Developer Tools\n",
    "3. Music\n",
    "4. Medical\n",
    "5. Reference"
   ]
  },
  {
   "cell_type": "markdown",
   "id": "a8c40044",
   "metadata": {
    "papermill": {
     "duration": null,
     "end_time": null,
     "exception": null,
     "start_time": null,
     "status": "pending"
    },
    "tags": []
   },
   "source": [
    "### **6. App Size and User Rating:**\n",
    "\n",
    "Question: How does the size of an app relate to its average user rating?"
   ]
  },
  {
   "cell_type": "code",
   "execution_count": null,
   "id": "706cfe7f",
   "metadata": {
    "papermill": {
     "duration": null,
     "end_time": null,
     "exception": null,
     "start_time": null,
     "status": "pending"
    },
    "tags": []
   },
   "outputs": [],
   "source": [
    "# Create a scatter plot of 'Size_MBs' vs 'Average_User_Rating' using Plotly Express\n",
    "fig = px.scatter(df, x='Size_MBs', y='Average_User_Rating', title='Impact of App Size on Average User Rating')\n",
    "\n",
    "# Set the axis labels\n",
    "fig.update_xaxes(title_text='App Size (MB)')\n",
    "fig.update_yaxes(title_text='Average User Rating')\n",
    "\n",
    "# Show the plot\n",
    "fig.show()"
   ]
  },
  {
   "cell_type": "markdown",
   "id": "83970d1f",
   "metadata": {
    "papermill": {
     "duration": null,
     "end_time": null,
     "exception": null,
     "start_time": null,
     "status": "pending"
    },
    "tags": []
   },
   "source": [
    "> Figure 8: Imapct of App size (MBs) on Average User Rating"
   ]
  },
  {
   "cell_type": "markdown",
   "id": "4fb649a9",
   "metadata": {
    "papermill": {
     "duration": null,
     "end_time": null,
     "exception": null,
     "start_time": null,
     "status": "pending"
    },
    "tags": []
   },
   "source": [
    "Answer 6:\n",
    "\n",
    "It shows that for App Sizes larger than 1 Gega bytes the User Rating is 0 and mostly User Ratings are for those apps that have size less than 400 MBs."
   ]
  },
  {
   "cell_type": "markdown",
   "id": "9ade884d",
   "metadata": {
    "papermill": {
     "duration": null,
     "end_time": null,
     "exception": null,
     "start_time": null,
     "status": "pending"
    },
    "tags": []
   },
   "source": [
    "### **7. App Size Distribution by Genre:**\n",
    "\n",
    "Question: How are app sizes distributed across different primary genres?"
   ]
  },
  {
   "cell_type": "code",
   "execution_count": null,
   "id": "9d540392",
   "metadata": {
    "papermill": {
     "duration": null,
     "end_time": null,
     "exception": null,
     "start_time": null,
     "status": "pending"
    },
    "tags": []
   },
   "outputs": [],
   "source": [
    "# Group the dataframe by Primary_Genre and calculate the mean size for each group\n",
    "genre_sizes = df.groupby('Primary_Genre')['Size_MBs'].mean().reset_index()\n",
    "\n",
    "# Sort the genres by mean size in descending order\n",
    "sorted_genres = genre_sizes.sort_values('Size_MBs', ascending=False)\n",
    "\n",
    "# Print the mean size for each genre\n",
    "print(sorted_genres[['Primary_Genre', 'Size_MBs']])"
   ]
  },
  {
   "cell_type": "code",
   "execution_count": null,
   "id": "2862925a",
   "metadata": {
    "papermill": {
     "duration": null,
     "end_time": null,
     "exception": null,
     "start_time": null,
     "status": "pending"
    },
    "tags": []
   },
   "outputs": [],
   "source": [
    "# Group the dataframe by Primary_Genre and calculate the mean size for each group\n",
    "genre_sizes = df.groupby('Primary_Genre')['Size_MBs'].mean().reset_index()\n",
    "\n",
    "# Sort the genres by mean size in descending order\n",
    "sorted_genres = genre_sizes.sort_values('Size_MBs', ascending=False)\n",
    "\n",
    "# Plot a bar chart of the mean size for each genre\n",
    "plt.bar(sorted_genres['Primary_Genre'], sorted_genres['Size_MBs'])\n",
    "\n",
    "# Set the title and axis labels\n",
    "plt.title('App Size Distribution Across Primary Genres')\n",
    "plt.xlabel('Primary Genre')\n",
    "plt.ylabel('Mean Size (MB)')\n",
    "\n",
    "# Rotate the x-axis labels for better readability\n",
    "plt.xticks(rotation=90)\n",
    "\n",
    "# Show the plot\n",
    "plt.show()"
   ]
  },
  {
   "cell_type": "markdown",
   "id": "66344a00",
   "metadata": {
    "papermill": {
     "duration": null,
     "end_time": null,
     "exception": null,
     "start_time": null,
     "status": "pending"
    },
    "tags": []
   },
   "source": [
    "> Figure 9: App Size Distribution Across Primary Genres"
   ]
  },
  {
   "cell_type": "markdown",
   "id": "bc89c8b0",
   "metadata": {
    "papermill": {
     "duration": null,
     "end_time": null,
     "exception": null,
     "start_time": null,
     "status": "pending"
    },
    "tags": []
   },
   "source": [
    "Answer 7:\n",
    "\n",
    "It shows that on average the App sizes varies for different categories. The top 5 Primary Genres that has large app sizes are:\n",
    "1. Graphics & Design\n",
    "2. Games\n",
    "3. Book\n",
    "4. Education\n",
    "5. Music"
   ]
  },
  {
   "cell_type": "markdown",
   "id": "5676c26d",
   "metadata": {
    "papermill": {
     "duration": null,
     "end_time": null,
     "exception": null,
     "start_time": null,
     "status": "pending"
    },
    "tags": []
   },
   "source": [
    "### **8. Required iOS Versions:**\n",
    "\n",
    "Question: Which iOS versions are most commonly required by the apps in the dataset?"
   ]
  },
  {
   "cell_type": "code",
   "execution_count": null,
   "id": "bae799d9",
   "metadata": {
    "papermill": {
     "duration": null,
     "end_time": null,
     "exception": null,
     "start_time": null,
     "status": "pending"
    },
    "tags": []
   },
   "outputs": [],
   "source": [
    "# Count the frequency of each IOS version in the Required_IOS_Version column\n",
    "ios_versions = df['Required_IOS_Version'].value_counts().reset_index()\n",
    "\n",
    "# Rename the columns for better readability\n",
    "ios_versions.columns = ['IOS_Version', 'Count']\n",
    "\n",
    "# Select the top 10 IOS versions with the highest frequency\n",
    "top_ios_versions = ios_versions.head(10)\n",
    "\n",
    "# Print the top 10 IOS versions with their frequency\n",
    "print(top_ios_versions)"
   ]
  },
  {
   "cell_type": "code",
   "execution_count": null,
   "id": "3efcea26",
   "metadata": {
    "papermill": {
     "duration": null,
     "end_time": null,
     "exception": null,
     "start_time": null,
     "status": "pending"
    },
    "tags": []
   },
   "outputs": [],
   "source": [
    "# Count the frequency of each IOS version in the Required_IOS_Version column\n",
    "ios_versions = df['Required_IOS_Version'].value_counts().reset_index()\n",
    "\n",
    "# Rename the columns for better readability\n",
    "ios_versions.columns = ['IOS_Version', 'Count']\n",
    "\n",
    "# Select the top 10 IOS versions with the highest frequency\n",
    "top_ios_versions = ios_versions.head(10)\n",
    "\n",
    "# Create a bar chart of the top 10 IOS versions\n",
    "plt.bar(top_ios_versions['IOS_Version'], top_ios_versions['Count'])\n",
    "\n",
    "# Set the title and axis labels\n",
    "plt.title('Top 10 IOS Versions')\n",
    "plt.xlabel('IOS Version')\n",
    "plt.ylabel('Frequency')\n",
    "\n",
    "# Rotate the x-axis labels for better readability\n",
    "plt.xticks(rotation=90)\n",
    "\n",
    "# Show the plot\n",
    "plt.show()"
   ]
  },
  {
   "cell_type": "markdown",
   "id": "7df74693",
   "metadata": {
    "papermill": {
     "duration": null,
     "end_time": null,
     "exception": null,
     "start_time": null,
     "status": "pending"
    },
    "tags": []
   },
   "source": [
    "> Figure 10: Most commonly Required IOS Versions"
   ]
  },
  {
   "cell_type": "markdown",
   "id": "cf7d1b66",
   "metadata": {
    "papermill": {
     "duration": null,
     "end_time": null,
     "exception": null,
     "start_time": null,
     "status": "pending"
    },
    "tags": []
   },
   "source": [
    "Answer 8:\n",
    "\n",
    "It shows that which are the top most commonly required IOS versions to run Appstore applications. Here is the top 10 versions:\n",
    "1. 11.0\n",
    "2. 9.0\n",
    "3. 10.0\n",
    "4. 8.0\n",
    "5. 12.0\n",
    "6. 13.0\n",
    "7. 7.0\n",
    "8. 6.0\n",
    "9. 12.1\n",
    "10. 9.3"
   ]
  },
  {
   "cell_type": "markdown",
   "id": "f6e9311a",
   "metadata": {
    "papermill": {
     "duration": null,
     "end_time": null,
     "exception": null,
     "start_time": null,
     "status": "pending"
    },
    "tags": []
   },
   "source": [
    "### **9. Impact of Reviews on App Size:**\n",
    "\n",
    "Question: Is there a noticeable impact of the number of reviews on the size of apps?"
   ]
  },
  {
   "cell_type": "code",
   "execution_count": null,
   "id": "9b6773b5",
   "metadata": {
    "papermill": {
     "duration": null,
     "end_time": null,
     "exception": null,
     "start_time": null,
     "status": "pending"
    },
    "tags": []
   },
   "outputs": [],
   "source": [
    "# Calculate the correlation coefficient\n",
    "correlation = df['Size_MBs'].corr(df['Reviews'])\n",
    "\n",
    "# Create a scatter plot using Plotly\n",
    "fig = px.scatter(df, x='Reviews', y='Size_MBs', title=f\"Correlation between Reviews and App Size\\nCorrelation Coefficient: {correlation:.2f}\")\n",
    "fig.update_xaxes(title_text='Number of Reviews')\n",
    "fig.update_yaxes(title_text='App Size (MB)')\n",
    "\n",
    "# Show the plot\n",
    "fig.show()\n",
    "\n",
    "# Print the correlation coefficient\n",
    "print(f\"Correlation Coefficient between Reviews and Size: {correlation:.2f}\")"
   ]
  },
  {
   "cell_type": "markdown",
   "id": "ef7c9ddd",
   "metadata": {
    "papermill": {
     "duration": null,
     "end_time": null,
     "exception": null,
     "start_time": null,
     "status": "pending"
    },
    "tags": []
   },
   "source": [
    "> Figure 11: Impact of App Size on Reviews"
   ]
  },
  {
   "cell_type": "markdown",
   "id": "da404302",
   "metadata": {
    "papermill": {
     "duration": null,
     "end_time": null,
     "exception": null,
     "start_time": null,
     "status": "pending"
    },
    "tags": []
   },
   "source": [
    "Answer 9:\n",
    "\n",
    "As the correlation is not really strong between `Size_MBs` and `Reviews` that means that there is no much impact of App size on Reviews."
   ]
  },
  {
   "cell_type": "markdown",
   "id": "47b5f5d8",
   "metadata": {
    "papermill": {
     "duration": null,
     "end_time": null,
     "exception": null,
     "start_time": null,
     "status": "pending"
    },
    "tags": []
   },
   "source": [
    "### **10. Developers and Primary Genre:**\n",
    "\n",
    "Question: Which category of apps does the top 10 Developers are producing on Apple AppStore?"
   ]
  },
  {
   "cell_type": "code",
   "execution_count": null,
   "id": "290d8ba8",
   "metadata": {
    "papermill": {
     "duration": null,
     "end_time": null,
     "exception": null,
     "start_time": null,
     "status": "pending"
    },
    "tags": []
   },
   "outputs": [],
   "source": [
    "# Group the dataframe by Developer and count the number of apps for each developer\n",
    "developer_counts = df['Developer'].value_counts()\n",
    "\n",
    "# Get the top 10 developers with the most app counts\n",
    "top_10_developers = developer_counts.head(10).index.tolist()\n",
    "\n",
    "# Create a new dataframe containing only the rows corresponding to the top 10 developers\n",
    "top_developer_apps = df[df['Developer'].isin(top_10_developers)]\n",
    "\n",
    "# Group the top developer apps by Primary_Genre and count the number of apps in each genre\n",
    "top_genre_counts = top_developer_apps['Primary_Genre'].value_counts()\n",
    "\n",
    "# Display the top genre for each developer\n",
    "for developer in top_10_developers:\n",
    "    top_genre = top_developer_apps[top_developer_apps['Developer'] == developer]['Primary_Genre'].value_counts().idxmax()\n",
    "    print(f\"Top genre for {developer}: {top_genre}\")"
   ]
  },
  {
   "cell_type": "code",
   "execution_count": null,
   "id": "d7e99ce8",
   "metadata": {
    "papermill": {
     "duration": null,
     "end_time": null,
     "exception": null,
     "start_time": null,
     "status": "pending"
    },
    "tags": []
   },
   "outputs": [],
   "source": [
    "top_developers = df['Developer'].value_counts().nlargest(10)  # Get the top 10 developers with the most counts\n",
    "grouped_df = df[df['Developer'].isin(top_developers.index)].groupby(['Developer', 'Primary_Genre']).size().unstack()\n",
    "grouped_df.reset_index(inplace=True)  # Reset the index to convert the grouped DataFrame into long format\n",
    "\n",
    "fig = px.bar(grouped_df, x='Developer', y=grouped_df.columns[1:], title='Categories of Apps Produced by Top 10 Developers')\n",
    "\n",
    "# Configure the layout\n",
    "fig.update_layout(\n",
    "    barmode='stack',\n",
    "    xaxis={'title': 'Top 10 Developers'},\n",
    "    yaxis={'title': 'Count'},\n",
    "    legend={'title': 'Primary Genre'},\n",
    ")\n",
    "\n",
    "# Show the interactive graph\n",
    "fig.show()"
   ]
  },
  {
   "cell_type": "markdown",
   "id": "e2aa8672",
   "metadata": {
    "papermill": {
     "duration": null,
     "end_time": null,
     "exception": null,
     "start_time": null,
     "status": "pending"
    },
    "tags": []
   },
   "source": [
    "> Figure 12: Categories of Apps produced by top 10 developers"
   ]
  },
  {
   "cell_type": "markdown",
   "id": "43910950",
   "metadata": {
    "papermill": {
     "duration": null,
     "end_time": null,
     "exception": null,
     "start_time": null,
     "status": "pending"
    },
    "tags": []
   },
   "source": [
    "Answer 10:\n",
    "\n",
    "It gives us the following insights:\n",
    "- `ChowNow` who has most number of apps on Apple Appstore has all the apps related to  `Food & Drink`\n",
    "- `Tuuch2Success` is second in most number of apps on Apple Appstore has also all the `Food & Drink` apps\n",
    "- `Alexandar Velimirovic` who is third developer with most number of Apps also has all the `Food & Drink` category apps\n",
    "- `MINDBODY, Incorporated` who is fourth in this list has all the `Health & Fitness` apps\n",
    "- `Phorest` who is fifth with most number of apps has all the  `lifestyle` apps"
   ]
  },
  {
   "cell_type": "markdown",
   "id": "7851f29e",
   "metadata": {
    "papermill": {
     "duration": null,
     "end_time": null,
     "exception": null,
     "start_time": null,
     "status": "pending"
    },
    "tags": []
   },
   "source": [
    "---"
   ]
  },
  {
   "cell_type": "markdown",
   "id": "1a875648",
   "metadata": {
    "papermill": {
     "duration": null,
     "end_time": null,
     "exception": null,
     "start_time": null,
     "status": "pending"
    },
    "tags": []
   },
   "source": [
    "## **Summary and Conslusion**\n",
    "The central objective of this project is to conduct a comprehensive analysis of the Apple App Store dataset, unearthing valuable insights that offer a nuanced understanding of customer behaviors and preferences. By harnessing these insights, we intend to empower developers and key stakeholders with the knowledge to effectively anticipate customer needs, fueling a more strategic approach to application development and driving enhanced business opportunities for future endeavors.\n",
    "\n",
    "> During this EDA exercise, we have achieved several milestones:\n",
    "\n",
    "- We have cleaned the dataset from null values.\n",
    "- No duplications have been found. Although the app names have duplications, they are unique records with different versions, AppIds, and release dates.\n",
    "- We transformed different columns for better understanding and to gain important insights from data, like\n",
    "  - Size_Bytes -> Size_MBs\n",
    "  - Free (True,/Fals) -> Type (Free/Paid)\n",
    "  - Content_Rating -> Different categories like kids, children, teens, adults\n",
    "  - Reviews -> Review_Category to see the most apps with more than Million plus reviews and no reviews\n",
    "\n",
    "> Our findings include:\n",
    "- Top 3 app producing developers has only `Food & Drink` apps\n",
    "- Mostly the large size of apps on Apple Appstore are of Graphic Design, Games and Books category\n",
    "- There are free as well as paid apps on Apple Appstore\n",
    "- Gaming apps are the most downloaded apps from the store\n",
    "- Developers usually don't give their websites and URL's\n",
    "- The top 10 highest rated primary genres based on average user ratings are Weather, Games, Photo & Videos, Music, and Books\n",
    "\n",
    "> **Note:** This is not the final EDA of Apple Appstore , there are still many patterns unleashed that you can discover and gain valuable insights from the data. It may have contain minor errors.\n",
    "- You can check important patterns like developers who don't give their websites does it impoact on their app ratings\n",
    "- Impact of IOS version on app installs\n",
    "- Distribution of data is each column"
   ]
  },
  {
   "cell_type": "markdown",
   "id": "b68f25f8",
   "metadata": {
    "papermill": {
     "duration": null,
     "end_time": null,
     "exception": null,
     "start_time": null,
     "status": "pending"
    },
    "tags": []
   },
   "source": [
    "## **Contact Links**\n",
    "\n",
    "<a href=\"https://www.facebook.com/profile.php?id=100090754004184&mibextid=ZbWKwL\">\n",
    "    <img src=\"https://raw.githubusercontent.com/FortAwesome/Font-Awesome/master/svgs/brands/facebook.svg\" alt=\"Facebook\" width=\"50\" height=\"50\">\n",
    "</a>\n",
    "<a href=\"https://twitter.com/its_a5jad?t=9NUJ8ZnDG8Hewtb3tTKkUg&s=09\">\n",
    "    <img src=\"https://raw.githubusercontent.com/FortAwesome/Font-Awesome/master/svgs/brands/twitter.svg\" alt=\"Twitter\" width=\"50\" height=\"50\">\n",
    "</a>\n",
    "<a href=\"https://instagram.com/its_a5jad?igshid=ZGUzMzM3NWJiOQ==\">\n",
    "    <img src=\"https://raw.githubusercontent.com/FortAwesome/Font-Awesome/master/svgs/brands/instagram.svg\" alt=\"Instagram\" width=\"50\" height=\"50\">\n",
    "</a>\n",
    "<a href=\"https://github.com/A5jadAli\">\n",
    "    <img src=\"https://raw.githubusercontent.com/FortAwesome/Font-Awesome/master/svgs/brands/github.svg\" alt=\"GitHub\" width=\"50\" height=\"50\">\n",
    "</a>\n",
    "<a href=\"https://www.linkedin.com/in/asjad-ali-536255260\">\n",
    "    <img src=\"https://raw.githubusercontent.com/FortAwesome/Font-Awesome/master/svgs/brands/linkedin.svg\" alt=\"Linkedin\" width=\"50\" height=\"50\">\n",
    "</a>\n",
    "<a href=\"https://www.kaggle.com/in/asjadali\">\n",
    "    <img src=\"https://raw.githubusercontent.com/FortAwesome/Font-Awesome/master/svgs/brands/kaggle.svg\" alt=\"Kaggle\" width=\"50\" height=\"50\">\n",
    "</a>"
   ]
  }
 ],
 "metadata": {
  "kaggle": {
   "accelerator": "none",
   "dataSources": [
    {
     "datasetId": 1647105,
     "sourceId": 2704074,
     "sourceType": "datasetVersion"
    },
    {
     "datasetId": 3640758,
     "sourceId": 6325779,
     "sourceType": "datasetVersion"
    }
   ],
   "dockerImageVersionId": 30527,
   "isGpuEnabled": false,
   "isInternetEnabled": true,
   "language": "python",
   "sourceType": "notebook"
  },
  "kernelspec": {
   "display_name": "Python 3",
   "language": "python",
   "name": "python3"
  },
  "language_info": {
   "codemirror_mode": {
    "name": "ipython",
    "version": 3
   },
   "file_extension": ".py",
   "mimetype": "text/x-python",
   "name": "python",
   "nbconvert_exporter": "python",
   "pygments_lexer": "ipython3",
   "version": "3.10.12"
  },
  "papermill": {
   "default_parameters": {},
   "duration": 136.248953,
   "end_time": "2024-01-30T19:25:16.861036",
   "environment_variables": {},
   "exception": true,
   "input_path": "__notebook__.ipynb",
   "output_path": "__notebook__.ipynb",
   "parameters": {},
   "start_time": "2024-01-30T19:23:00.612083",
   "version": "2.4.0"
  }
 },
 "nbformat": 4,
 "nbformat_minor": 5
}
